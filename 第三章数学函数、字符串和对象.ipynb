{
 "cells": [
  {
   "cell_type": "markdown",
   "metadata": {},
   "source": [
    "### 本章的重点是介绍函数、字符串和对象以及使用它们来开发程序。\n",
    "Python中所有的数据都是对象"
   ]
  },
  {
   "cell_type": "markdown",
   "metadata": {},
   "source": [
    "3.2 常见的Python函数"
   ]
  },
  {
   "cell_type": "code",
   "execution_count": 6,
   "metadata": {},
   "outputs": [
    {
     "data": {
      "text/plain": [
       "3"
      ]
     },
     "execution_count": 6,
     "metadata": {},
     "output_type": "execute_result"
    }
   ],
   "source": [
    "\n",
    "abs(-3)#返回x的绝对值，int对象不可调用"
   ]
  },
  {
   "cell_type": "code",
   "execution_count": 7,
   "metadata": {},
   "outputs": [
    {
     "data": {
      "text/plain": [
       "3.5"
      ]
     },
     "execution_count": 7,
     "metadata": {},
     "output_type": "execute_result"
    }
   ],
   "source": [
    "abs(-3.5)"
   ]
  },
  {
   "cell_type": "code",
   "execution_count": 11,
   "metadata": {},
   "outputs": [
    {
     "data": {
      "text/plain": [
       "6"
      ]
     },
     "execution_count": 11,
     "metadata": {},
     "output_type": "execute_result"
    }
   ],
   "source": [
    "max(2,3,4,6)"
   ]
  },
  {
   "cell_type": "code",
   "execution_count": 13,
   "metadata": {},
   "outputs": [
    {
     "data": {
      "text/plain": [
       "2"
      ]
     },
     "execution_count": 13,
     "metadata": {},
     "output_type": "execute_result"
    }
   ],
   "source": [
    "min(2,3,4,5)"
   ]
  },
  {
   "cell_type": "code",
   "execution_count": 15,
   "metadata": {},
   "outputs": [
    {
     "data": {
      "text/plain": [
       "8"
      ]
     },
     "execution_count": 15,
     "metadata": {},
     "output_type": "execute_result"
    }
   ],
   "source": [
    "pow(2,3) #就是2的三次幂  和2 ×× 3 等价"
   ]
  },
  {
   "cell_type": "code",
   "execution_count": 17,
   "metadata": {},
   "outputs": [
    {
     "data": {
      "text/plain": [
       "24.705294220065465"
      ]
     },
     "execution_count": 17,
     "metadata": {},
     "output_type": "execute_result"
    }
   ],
   "source": [
    "pow(2.5,3.5)"
   ]
  },
  {
   "cell_type": "code",
   "execution_count": 18,
   "metadata": {},
   "outputs": [
    {
     "data": {
      "text/plain": [
       "4"
      ]
     },
     "execution_count": 18,
     "metadata": {},
     "output_type": "execute_result"
    }
   ],
   "source": [
    "round(3.51)"
   ]
  },
  {
   "cell_type": "code",
   "execution_count": 19,
   "metadata": {},
   "outputs": [
    {
     "data": {
      "text/plain": [
       "3"
      ]
     },
     "execution_count": 19,
     "metadata": {},
     "output_type": "execute_result"
    }
   ],
   "source": [
    "round(3.4) #就是一个五入的过程，四舍五入"
   ]
  },
  {
   "cell_type": "code",
   "execution_count": 20,
   "metadata": {},
   "outputs": [
    {
     "data": {
      "text/plain": [
       "3.136"
      ]
     },
     "execution_count": 20,
     "metadata": {},
     "output_type": "execute_result"
    }
   ],
   "source": [
    "round(3.1356,3) #保留小数点后n位小数的浮点值"
   ]
  },
  {
   "cell_type": "code",
   "execution_count": 4,
   "metadata": {},
   "outputs": [
    {
     "data": {
      "text/plain": [
       "2.9"
      ]
     },
     "execution_count": 4,
     "metadata": {},
     "output_type": "execute_result"
    }
   ],
   "source": [
    "math.fabs(-2.9) #把x看做一个浮点数，返回它的浮点值"
   ]
  },
  {
   "cell_type": "code",
   "execution_count": 3,
   "metadata": {},
   "outputs": [
    {
     "data": {
      "text/plain": [
       "3"
      ]
     },
     "execution_count": 3,
     "metadata": {},
     "output_type": "execute_result"
    }
   ],
   "source": [
    "math.ceil(2.1)"
   ]
  },
  {
   "cell_type": "markdown",
   "metadata": {},
   "source": [
    "ceil(2.1) = 3 #x向上取最近的整数，然后返回这个整数。"
   ]
  },
  {
   "cell_type": "markdown",
   "metadata": {},
   "source": [
    "floor(2.1) = 2 #x向下取最近的整数，然后返回这个整数"
   ]
  },
  {
   "cell_type": "markdown",
   "metadata": {},
   "source": [
    "exp(1) #返回幂函数e的x次幂的值"
   ]
  },
  {
   "cell_type": "markdown",
   "metadata": {},
   "source": [
    "log(2.71828)  #返回x的自然对数值"
   ]
  },
  {
   "cell_type": "markdown",
   "metadata": {},
   "source": [
    "log(100,10)  #返回某个特殊值为底的x的对数值"
   ]
  },
  {
   "cell_type": "markdown",
   "metadata": {},
   "source": [
    "sqrt(4.0) #返回x的平方根值"
   ]
  },
  {
   "cell_type": "markdown",
   "metadata": {},
   "source": [
    "sin(3.1459 / 2) = 1 #返回x的正弦值，x是角度的弧度值"
   ]
  },
  {
   "cell_type": "markdown",
   "metadata": {},
   "source": [
    "asin(1.0) = 1.57 #返回的是asin的弧度值，就是arcsin的函数"
   ]
  },
  {
   "cell_type": "markdown",
   "metadata": {},
   "source": [
    "degree（1.57）= 90 #将x从弧度转换为角度"
   ]
  },
  {
   "cell_type": "markdown",
   "metadata": {},
   "source": [
    "radians(90) = 1.57 #将x从角度转换为弧度"
   ]
  },
  {
   "cell_type": "markdown",
   "metadata": {},
   "source": [
    "两个数字常量pi，e。我们可以使用math.pi和math.e来访问他们"
   ]
  },
  {
   "cell_type": "code",
   "execution_count": 39,
   "metadata": {},
   "outputs": [
    {
     "name": "stdout",
     "output_type": "stream",
     "text": [
      "exp(1.0) =  2.718281828459045\n",
      "log(2.78) =  1.0\n",
      "log10(10,10) = 1.0\n",
      "sqrt(4.0)= 2.0\n"
     ]
    }
   ],
   "source": [
    "\n",
    "import math\n",
    "print('exp(1.0) = ',math.exp(1)) #程序清单3_1 注意定义一下math。\n",
    "print('log(2.78) = ',math.log(math.e))\n",
    "print('log10(10,10) =',math.log(10,10))\n",
    "print('sqrt(4.0)=',math.sqrt(4.0))"
   ]
  },
  {
   "cell_type": "code",
   "execution_count": 8,
   "metadata": {},
   "outputs": [
    {
     "name": "stdout",
     "output_type": "stream",
     "text": [
      "Enter three points:1.2,1.2,1.2,1.3,1.3,1.4\n",
      "The three angles are 26.57 135.0 18.43\n"
     ]
    }
   ],
   "source": [
    "import math\n",
    "x1,y1,x2,y2,x3,y3 = eval(input(\"Enter three points:\")) #输入的必须是浮点数\n",
    "a = math.sqrt((x2 - x3) * (x2 - x3) + (y2 - y3) *(y2 - y3))\n",
    "b = math.sqrt((x1 - x3) * (x1 - x3) + (y1 - y3) * (y1 - y3))\n",
    "c = math.sqrt((x1 - x2) * (x1 - x2) + (y1 - y2) * (y1 - y2))\n",
    "A = math.degrees(math.acos((a * a - b * b - c * c) / (-2 * b *c)))\n",
    "B = math.degrees(math.acos((b * b - a * a - c * c) / (-2 * a *c)))\n",
    "C = math.degrees(math.acos((c * c- b * b - a * a) / (-2 * b *a)))\n",
    "print('The three angles are',round(A * 100) / 100.0,round(B * 100) / 100.0,round(C * 100) / 100.0)"
   ]
  },
  {
   "cell_type": "markdown",
   "metadata": {},
   "source": [
    "# 3.3 字符串和字符\n",
    "本书统一使用双引号来括住多个字符构成的字符串，用单引号来括住单个字符的字符串或者空字符串。"
   ]
  },
  {
   "cell_type": "markdown",
   "metadata": {},
   "source": [
    "3.3.1 ASCII码\n",
    "它是一个比特的编码表，足以表示所有的大小写字母、数字、标点符号以及控制字符。\n",
    "ASCII码使用0--127来表示字符。"
   ]
  },
  {
   "cell_type": "markdown",
   "metadata": {},
   "source": [
    "3.3.3函数ord和chr\n",
    "Python提供ord（ch）函数来返回字符ch的ASCII码，用chr（code）函数返回所代表的字符"
   ]
  },
  {
   "cell_type": "code",
   "execution_count": 49,
   "metadata": {},
   "outputs": [
    {
     "data": {
      "text/plain": [
       "32"
      ]
     },
     "execution_count": 49,
     "metadata": {},
     "output_type": "execute_result"
    }
   ],
   "source": [
    "ord('a') - ord('A')\n",
    "#任何小写字母与大写字母的ASCII码的差值都是一样的"
   ]
  },
  {
   "cell_type": "code",
   "execution_count": 54,
   "metadata": {},
   "outputs": [
    {
     "data": {
      "text/plain": [
       "65"
      ]
     },
     "execution_count": 54,
     "metadata": {},
     "output_type": "execute_result"
    }
   ],
   "source": [
    "ord('A')"
   ]
  },
  {
   "cell_type": "code",
   "execution_count": 2,
   "metadata": {},
   "outputs": [
    {
     "data": {
      "text/plain": [
       "'A'"
      ]
     },
     "execution_count": 2,
     "metadata": {},
     "output_type": "execute_result"
    }
   ],
   "source": [
    "chr(65)"
   ]
  },
  {
   "cell_type": "code",
   "execution_count": 57,
   "metadata": {},
   "outputs": [
    {
     "data": {
      "text/plain": [
       "'H'"
      ]
     },
     "execution_count": 57,
     "metadata": {},
     "output_type": "execute_result"
    }
   ],
   "source": [
    "a = ord('a') - ord('A')\n",
    "b = a\n",
    "c = 'h'\n",
    "d = chr(ord(c) - b)\n",
    "d\n"
   ]
  },
  {
   "cell_type": "markdown",
   "metadata": {},
   "source": [
    "3.3.4 转义序列\n",
    "\n",
    "用反斜杠\\和其后紧接着的字母或者数字组合构成的特殊符号被称为转义序列。"
   ]
  },
  {
   "cell_type": "code",
   "execution_count": 59,
   "metadata": {},
   "outputs": [
    {
     "name": "stdout",
     "output_type": "stream",
     "text": [
      "he said:\"aaaaa\"\n"
     ]
    }
   ],
   "source": [
    "print(\"he said:\\\"aaaaa\\\"\")"
   ]
  },
  {
   "cell_type": "markdown",
   "metadata": {},
   "source": [
    "3.3.5 不换行打印\n",
    "如果不想使用print函数后换行，可以使用下面的语法中调用print函数式传递一个特殊的参数\n",
    "end = 'anyendingstring'"
   ]
  },
  {
   "cell_type": "code",
   "execution_count": 60,
   "metadata": {},
   "outputs": [
    {
     "name": "stdout",
     "output_type": "stream",
     "text": [
      "AAA BBBCCC***DDD***"
     ]
    }
   ],
   "source": [
    "print('AAA',end = ' ')\n",
    "print('BBB',end = '')\n",
    "print('CCC',end = '***')\n",
    "print('DDD',end = '***')"
   ]
  },
  {
   "cell_type": "code",
   "execution_count": 61,
   "metadata": {},
   "outputs": [
    {
     "name": "stdout",
     "output_type": "stream",
     "text": [
      "The area is 28.274333882308138and the perimeter is 18.84955592153876\n"
     ]
    }
   ],
   "source": [
    "radius = 3\n",
    "print('The area is',radius * radius * math.pi,end = '')\n",
    "print('and the perimeter is',2 * radius * math.pi)"
   ]
  },
  {
   "cell_type": "markdown",
   "metadata": {},
   "source": [
    "3.3.6 函数str\n",
    "str函数可以将一个数字转换成一个字符串"
   ]
  },
  {
   "cell_type": "code",
   "execution_count": 62,
   "metadata": {},
   "outputs": [
    {
     "data": {
      "text/plain": [
       "'3.4'"
      ]
     },
     "execution_count": 62,
     "metadata": {},
     "output_type": "execute_result"
    }
   ],
   "source": [
    "s = str(3.4)\n",
    "s"
   ]
  },
  {
   "cell_type": "code",
   "execution_count": 64,
   "metadata": {},
   "outputs": [
    {
     "data": {
      "text/plain": [
       "'3'"
      ]
     },
     "execution_count": 64,
     "metadata": {},
     "output_type": "execute_result"
    }
   ],
   "source": [
    "s = str(3)\n",
    "s"
   ]
  },
  {
   "cell_type": "markdown",
   "metadata": {},
   "source": [
    "3.3.7字符串的连接操作\n",
    "使用运算符'+'来对两个数字或者字符串进行拼接\n"
   ]
  },
  {
   "cell_type": "code",
   "execution_count": 66,
   "metadata": {},
   "outputs": [
    {
     "data": {
      "text/plain": [
       "'welcome  to python'"
      ]
     },
     "execution_count": 66,
     "metadata": {},
     "output_type": "execute_result"
    }
   ],
   "source": [
    "message = 'welcome ' + ' to' + ' python'\n",
    "message"
   ]
  },
  {
   "cell_type": "code",
   "execution_count": 3,
   "metadata": {},
   "outputs": [
    {
     "data": {
      "text/plain": [
       "'welcome to pythonand python is fun'"
      ]
     },
     "execution_count": 3,
     "metadata": {},
     "output_type": "execute_result"
    }
   ],
   "source": [
    "message = 'welcome to python'\n",
    "message += 'and python is fun' #+=之间不能有空格\n",
    "message"
   ]
  },
  {
   "cell_type": "markdown",
   "metadata": {},
   "source": [
    "3.3.8 从控制台读取字符串 \n",
    "可以使用input函数"
   ]
  },
  {
   "cell_type": "code",
   "execution_count": 5,
   "metadata": {},
   "outputs": [
    {
     "name": "stdout",
     "output_type": "stream",
     "text": [
      "Enter a string:welcome\n",
      "Enter a string:to\n",
      "Enter a string:python\n",
      "s1 is welcome\n",
      "s2 is to\n",
      "s3 is python\n"
     ]
    }
   ],
   "source": [
    "s1 = input(\"Enter a string:\")\n",
    "s2 = input(\"Enter a string:\")\n",
    "s3 = input(\"Enter a string:\")\n",
    "print('s1 is ' + s1)\n",
    "print('s2 is ' + s2)\n",
    "print('s3 is ' + s3)"
   ]
  },
  {
   "cell_type": "code",
   "execution_count": 7,
   "metadata": {},
   "outputs": [
    {
     "data": {
      "text/plain": [
       "49"
      ]
     },
     "execution_count": 7,
     "metadata": {},
     "output_type": "execute_result"
    }
   ],
   "source": [
    "ord('1')"
   ]
  },
  {
   "cell_type": "code",
   "execution_count": 8,
   "metadata": {},
   "outputs": [
    {
     "data": {
      "text/plain": [
       "65"
      ]
     },
     "execution_count": 8,
     "metadata": {},
     "output_type": "execute_result"
    }
   ],
   "source": [
    "ord('A')"
   ]
  },
  {
   "cell_type": "code",
   "execution_count": 10,
   "metadata": {},
   "outputs": [
    {
     "data": {
      "text/plain": [
       "66"
      ]
     },
     "execution_count": 10,
     "metadata": {},
     "output_type": "execute_result"
    }
   ],
   "source": [
    "ord('B')"
   ]
  },
  {
   "cell_type": "code",
   "execution_count": 11,
   "metadata": {},
   "outputs": [
    {
     "data": {
      "text/plain": [
       "97"
      ]
     },
     "execution_count": 11,
     "metadata": {},
     "output_type": "execute_result"
    }
   ],
   "source": [
    "ord('a')"
   ]
  },
  {
   "cell_type": "code",
   "execution_count": 12,
   "metadata": {},
   "outputs": [
    {
     "data": {
      "text/plain": [
       "98"
      ]
     },
     "execution_count": 12,
     "metadata": {},
     "output_type": "execute_result"
    }
   ],
   "source": [
    "ord('b') #中间要加引号"
   ]
  },
  {
   "cell_type": "code",
   "execution_count": 14,
   "metadata": {},
   "outputs": [
    {
     "data": {
      "text/plain": [
       "'('"
      ]
     },
     "execution_count": 14,
     "metadata": {},
     "output_type": "execute_result"
    }
   ],
   "source": [
    "chr(40)  #结果是一个字符串，中间不加引号"
   ]
  },
  {
   "cell_type": "code",
   "execution_count": 15,
   "metadata": {},
   "outputs": [
    {
     "data": {
      "text/plain": [
       "';'"
      ]
     },
     "execution_count": 15,
     "metadata": {},
     "output_type": "execute_result"
    }
   ],
   "source": [
    "chr(59)"
   ]
  },
  {
   "cell_type": "code",
   "execution_count": 16,
   "metadata": {},
   "outputs": [
    {
     "data": {
      "text/plain": [
       "'O'"
      ]
     },
     "execution_count": 16,
     "metadata": {},
     "output_type": "execute_result"
    }
   ],
   "source": [
    "chr(79)"
   ]
  },
  {
   "cell_type": "code",
   "execution_count": 17,
   "metadata": {},
   "outputs": [
    {
     "data": {
      "text/plain": [
       "'Z'"
      ]
     },
     "execution_count": 17,
     "metadata": {},
     "output_type": "execute_result"
    }
   ],
   "source": [
    "chr(90)"
   ]
  },
  {
   "cell_type": "markdown",
   "metadata": {},
   "source": [
    "如何显示字符\\ 和？"
   ]
  },
  {
   "cell_type": "code",
   "execution_count": 23,
   "metadata": {},
   "outputs": [
    {
     "name": "stdout",
     "output_type": "stream",
     "text": [
      "Enter a character:A\n",
      "D\n"
     ]
    }
   ],
   "source": [
    "x = input('Enter a character:')\n",
    "ch = chr(ord(x) + 3)\n",
    "print(ch)"
   ]
  },
  {
   "cell_type": "code",
   "execution_count": 24,
   "metadata": {},
   "outputs": [
    {
     "name": "stdout",
     "output_type": "stream",
     "text": [
      "Enter a character:A\n",
      "Enter a character:Z\n",
      "25\n"
     ]
    }
   ],
   "source": [
    "x = input('Enter a character:')\n",
    "y = input('Enter a character:')\n",
    "print(ord(y) - ord(x))"
   ]
  },
  {
   "cell_type": "markdown",
   "metadata": {},
   "source": [
    "习题3.10"
   ]
  },
  {
   "cell_type": "code",
   "execution_count": 27,
   "metadata": {},
   "outputs": [
    {
     "name": "stdout",
     "output_type": "stream",
     "text": [
      "5\n",
      "23\n"
     ]
    }
   ],
   "source": [
    "sum = 2 + 3\n",
    "print (sum)\n",
    "s = '2' + '3' #加引号表示的是字符串相加\n",
    "print(s)"
   ]
  },
  {
   "cell_type": "markdown",
   "metadata": {},
   "source": [
    "3.4 实例研究：最小数量的硬币"
   ]
  },
  {
   "cell_type": "code",
   "execution_count": null,
   "metadata": {},
   "outputs": [],
   "source": [
    "a = eval(input('Enter an amount,for example,11.56: '))\n",
    "b = int(a * 100)\n",
    "c = b // 100\n",
    "b = b % 100\n",
    "d = b // 25\n",
    "b = b % 25\n",
    "e = b // 10\n",
    "b = b % 10\n",
    "f = b // 5\n",
    "b = b % 5\n",
    "g = b\n",
    "print('you a',a,\"ccc\\n\")\n",
    "\n"
   ]
  },
  {
   "cell_type": "markdown",
   "metadata": {},
   "source": [
    "3.5对象和方法简介\n",
    "\n",
    "在Python中，所有的数据，包括字符串和数字，实际都是对象。\n",
    "\n",
    "可以使用id函数和type函数来获取关于对象的一些信息。"
   ]
  },
  {
   "cell_type": "code",
   "execution_count": 1,
   "metadata": {},
   "outputs": [],
   "source": [
    "n = 3"
   ]
  },
  {
   "cell_type": "code",
   "execution_count": 3,
   "metadata": {},
   "outputs": [
    {
     "data": {
      "text/plain": [
       "10943072"
      ]
     },
     "execution_count": 3,
     "metadata": {},
     "output_type": "execute_result"
    }
   ],
   "source": [
    "id(n) #在程序执行的过程中，对象的id不会改变"
   ]
  },
  {
   "cell_type": "code",
   "execution_count": 4,
   "metadata": {},
   "outputs": [
    {
     "data": {
      "text/plain": [
       "int"
      ]
     },
     "execution_count": 4,
     "metadata": {},
     "output_type": "execute_result"
    }
   ],
   "source": [
    "type(n)"
   ]
  },
  {
   "cell_type": "code",
   "execution_count": 12,
   "metadata": {},
   "outputs": [],
   "source": [
    "s = 'WElcome'"
   ]
  },
  {
   "cell_type": "code",
   "execution_count": 13,
   "metadata": {},
   "outputs": [
    {
     "data": {
      "text/plain": [
       "'welcome'"
      ]
     },
     "execution_count": 13,
     "metadata": {},
     "output_type": "execute_result"
    }
   ],
   "source": [
    "s1 = s.lower()\n",
    "s1"
   ]
  },
  {
   "cell_type": "code",
   "execution_count": 15,
   "metadata": {},
   "outputs": [
    {
     "data": {
      "text/plain": [
       "'WELCOME'"
      ]
     },
     "execution_count": 15,
     "metadata": {},
     "output_type": "execute_result"
    }
   ],
   "source": [
    "s2 = s.upper()\n",
    "s2"
   ]
  },
  {
   "cell_type": "code",
   "execution_count": 16,
   "metadata": {},
   "outputs": [
    {
     "data": {
      "text/plain": [
       "'Welcome'"
      ]
     },
     "execution_count": 16,
     "metadata": {},
     "output_type": "execute_result"
    }
   ],
   "source": [
    "s = '\\t Welcome \\n'\n",
    "s1 = s.strip() #移除一个字符串两端的空格符。字符‘’，\\t,\\f,\\r,\\n都是空格符\n",
    "s1"
   ]
  },
  {
   "cell_type": "code",
   "execution_count": 19,
   "metadata": {},
   "outputs": [
    {
     "name": "stdout",
     "output_type": "stream",
     "text": [
      "Enter a string\"   123 4    \"\n"
     ]
    }
   ],
   "source": [
    "s = input('Enter a string').strip()"
   ]
  },
  {
   "cell_type": "code",
   "execution_count": null,
   "metadata": {},
   "outputs": [],
   "source": [
    "3.6  格式化数字和字符串"
   ]
  },
  {
   "cell_type": "code",
   "execution_count": 20,
   "metadata": {},
   "outputs": [
    {
     "name": "stdout",
     "output_type": "stream",
     "text": [
      "interest is 16.404674\n"
     ]
    }
   ],
   "source": [
    "amount = 12618.98\n",
    "interestRate = 0.0013\n",
    "interest = amount * interestRate\n",
    "print('interest is',interest)"
   ]
  },
  {
   "cell_type": "code",
   "execution_count": 21,
   "metadata": {},
   "outputs": [
    {
     "name": "stdout",
     "output_type": "stream",
     "text": [
      "interest is  16.4\n"
     ]
    }
   ],
   "source": [
    "amount = 12618.98\n",
    "interestRate = 0.0013\n",
    "interest = amount * interestRate\n",
    "print('interest is ',round(interest,2))"
   ]
  },
  {
   "cell_type": "code",
   "execution_count": 22,
   "metadata": {},
   "outputs": [
    {
     "name": "stdout",
     "output_type": "stream",
     "text": [
      "interest is 16.40\n"
     ]
    }
   ],
   "source": [
    "amount = 12618.98\n",
    "interestRate = 0.0013\n",
    "interest = amount * interestRate\n",
    "print('interest is',format(interest,'.2f'))"
   ]
  },
  {
   "cell_type": "code",
   "execution_count": 24,
   "metadata": {},
   "outputs": [
    {
     "name": "stdout",
     "output_type": "stream",
     "text": [
      "     57.47\n",
      "57.47\n"
     ]
    }
   ],
   "source": [
    "print (format(57.467657,'10.2f'))\n",
    "print(format(57.467657,'.2f'))"
   ]
  },
  {
   "cell_type": "code",
   "execution_count": 25,
   "metadata": {},
   "outputs": [
    {
     "name": "stdout",
     "output_type": "stream",
     "text": [
      "  5.75e+01\n",
      "  3.39e-03\n",
      "  5.74e+01\n",
      "  5.70e+01\n"
     ]
    }
   ],
   "source": [
    "print(format(57.467657,'10.2e'))\n",
    "print(format(0.0033923,'10.2e'))\n",
    "print(format(57.4,'10.2e'))\n",
    "print(format(57,'10.2e'))  #这里的符号+—都被算在宽度里"
   ]
  },
  {
   "cell_type": "code",
   "execution_count": 28,
   "metadata": {},
   "outputs": [
    {
     "name": "stdout",
     "output_type": "stream",
     "text": [
      "    53.46%\n",
      "     0.34%\n",
      "   740.00%\n",
      "  5700.00%\n"
     ]
    }
   ],
   "source": [
    "print(format(0.53457,'10.2%'))\n",
    "print(format(0.0033923,'10.2%'))\n",
    "print(format(7.4,'10.2%'))\n",
    "print(format(57,'10.2%'))"
   ]
  },
  {
   "cell_type": "code",
   "execution_count": 30,
   "metadata": {},
   "outputs": [
    {
     "name": "stdout",
     "output_type": "stream",
     "text": [
      "     57.47\n",
      "57.47     \n"
     ]
    }
   ],
   "source": [
    "print (format(57.467657,'10.2f'))\n",
    "print(format(57.467657,'<10.2f'))"
   ]
  },
  {
   "cell_type": "markdown",
   "metadata": {},
   "source": [
    "d 格式化十进制整数，x格式化十六进制整数，o格式化八进制整数，b格式化二进制整数"
   ]
  },
  {
   "cell_type": "code",
   "execution_count": 31,
   "metadata": {},
   "outputs": [
    {
     "name": "stdout",
     "output_type": "stream",
     "text": [
      "     59832\n",
      "59832     \n",
      "      e9b8\n",
      "e9b8      \n"
     ]
    }
   ],
   "source": [
    "print(format(59832,'10d'))\n",
    "print(format(59832,'<10d'))\n",
    "print(format(59832,'10x'))\n",
    "print(format(59832,'<10x'))"
   ]
  },
  {
   "cell_type": "code",
   "execution_count": 35,
   "metadata": {},
   "outputs": [
    {
     "name": "stdout",
     "output_type": "stream",
     "text": [
      "welcome to python             \n",
      "             welcome to python\n"
     ]
    }
   ],
   "source": [
    "print(format('welcome to python','30s'))\n",
    "print(format('welcome to python','>30s'))#转换码s可以将一个字符串格式化为一个指定宽度的字符串"
   ]
  },
  {
   "cell_type": "code",
   "execution_count": 38,
   "metadata": {},
   "outputs": [
    {
     "name": "stdout",
     "output_type": "stream",
     "text": [
      "5.747e+01\n",
      "  1.2e+07\n",
      "5.740000e+01\n",
      "5.74e+01  \n"
     ]
    }
   ],
   "source": [
    "print(format(57.467657,'9.3e'))\n",
    "print(format(12345678.923,'9.1e'))\n",
    "print(format(57.4,'2e'))\n",
    "print(format(57.4,'<10.2e'))"
   ]
  },
  {
   "cell_type": "code",
   "execution_count": 39,
   "metadata": {},
   "outputs": [
    {
     "name": "stdout",
     "output_type": "stream",
     "text": [
      "   45\n",
      "   2d\n"
     ]
    }
   ],
   "source": [
    "print(format(45,'5d'))\n",
    "print(format(45,'5x'))"
   ]
  },
  {
   "cell_type": "code",
   "execution_count": 8,
   "metadata": {},
   "outputs": [
    {
     "name": "stdout",
     "output_type": "stream",
     "text": [
      "shu ru r :1\n",
      "mianjiwei: 2.377712660324111\n"
     ]
    }
   ],
   "source": [
    "import math\n",
    "r = eval(input('shu ru r :'))\n",
    "a = math.sin(3.1415/ 5)\n",
    "s = 2 * r * a\n",
    "d = math.tan(3.1414 / 5)\n",
    "c = (5 * s * s) / (4 * d)\n",
    "\n",
    "print(\"mianjiwei:\",c)"
   ]
  },
  {
   "cell_type": "code",
   "execution_count": 11,
   "metadata": {},
   "outputs": [
    {
     "name": "stdout",
     "output_type": "stream",
     "text": [
      "shu ru x1 :1\n",
      "shu ru y1 :2\n",
      "shu ru x2 :3\n",
      "shu ru y2 :4\n",
      "aaaa: 6.8170756937049015\n"
     ]
    }
   ],
   "source": [
    "import math\n",
    "a = eval(input('shu ru x1 :'))\n",
    "b = eval(input('shu ru y1 :'))\n",
    "c = eval(input('shu ru x2 :'))\n",
    "d = eval(input('shu ru y2 :'))\n",
    "radius = 6371.01\n",
    "e = math.radians(a)\n",
    "f = math.radians(b)\n",
    "g = math.radians(c)\n",
    "h = math.radians(d)\n",
    "i = radius * (math.sin(e) * math.sin(g)) +math.cos(e) * math.cos(g)*math.cos(f - h)\n",
    "print('aaaa:',i)"
   ]
  },
  {
   "cell_type": "code",
   "execution_count": 65,
   "metadata": {},
   "outputs": [
    {
     "data": {
      "text/plain": [
       "19.390607989657003"
      ]
     },
     "execution_count": 65,
     "metadata": {},
     "output_type": "execute_result"
    }
   ],
   "source": [
    "\n",
    "a = math.radians(1111)\n",
    "a"
   ]
  },
  {
   "cell_type": "code",
   "execution_count": 67,
   "metadata": {},
   "outputs": [
    {
     "name": "stdout",
     "output_type": "stream",
     "text": [
      "aaa:69\n",
      "ccc :  E\n"
     ]
    }
   ],
   "source": [
    "a = eval(input(\"aaa:\"))\n",
    "b = chr(a)\n",
    "print('ccc : ',b)"
   ]
  },
  {
   "cell_type": "code",
   "execution_count": 74,
   "metadata": {},
   "outputs": [
    {
     "data": {
      "text/plain": [
       "1530032739.6790416"
      ]
     },
     "execution_count": 74,
     "metadata": {},
     "output_type": "execute_result"
    }
   ],
   "source": [
    "import time\n",
    "a= time.time()\n",
    "a"
   ]
  },
  {
   "cell_type": "code",
   "execution_count": 10,
   "metadata": {},
   "outputs": [
    {
     "name": "stdout",
     "output_type": "stream",
     "text": [
      "aaa:5.5\n",
      "bbb : 52.046469523759455\n"
     ]
    }
   ],
   "source": [
    "a = eval(input('aaa:'))\n",
    "b = math.tan(3.1415 / 5)\n",
    "c = (5 * a * a) / (4 * b)\n",
    "print('bbb :',c)"
   ]
  },
  {
   "cell_type": "code",
   "execution_count": 11,
   "metadata": {},
   "outputs": [
    {
     "name": "stdout",
     "output_type": "stream",
     "text": [
      "aaa:5\n",
      "bbb:6.5\n",
      "vvv: 72.69300288855659\n"
     ]
    }
   ],
   "source": [
    "a = eval(input('aaa:'))\n",
    "b = eval(input('bbb:'))\n",
    "d = math.tan(3.1415 / a)\n",
    "c = (a * b * b) / (4 * d)\n",
    "print('vvv:',c)"
   ]
  }
 ],
 "metadata": {
  "kernelspec": {
   "display_name": "Python 3",
   "language": "python",
   "name": "python3"
  },
  "language_info": {
   "codemirror_mode": {
    "name": "ipython",
    "version": 3
   },
   "file_extension": ".py",
   "mimetype": "text/x-python",
   "name": "python",
   "nbconvert_exporter": "python",
   "pygments_lexer": "ipython3",
   "version": "3.6.7"
  }
 },
 "nbformat": 4,
 "nbformat_minor": 2
}
