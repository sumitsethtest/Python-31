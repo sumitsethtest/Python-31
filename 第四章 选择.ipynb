{
 "cells": [
  {
   "cell_type": "code",
   "execution_count": 3,
   "metadata": {},
   "outputs": [
    {
     "name": "stdout",
     "output_type": "stream",
     "text": [
      "Area is 3.141592653589793\n"
     ]
    }
   ],
   "source": [
    "import math\n",
    "radius = 1\n",
    "if radius < 0:\n",
    "    print('Incorrect input')\n",
    "else:\n",
    "    area = radius * radius * math.pi\n",
    "    print('Area is',area)\n",
    "    "
   ]
  },
  {
   "cell_type": "markdown",
   "metadata": {},
   "source": [
    "### 4.2 布尔类型、数值和表达式"
   ]
  },
  {
   "cell_type": "markdown",
   "metadata": {},
   "source": [
    "布尔表达式是能算出一个布尔值True或False的表达\n",
    "比较运算符相等的是两个等号（==）一个等号（=）是赋值"
   ]
  },
  {
   "cell_type": "code",
   "execution_count": 1,
   "metadata": {},
   "outputs": [
    {
     "name": "stdout",
     "output_type": "stream",
     "text": [
      "True\n"
     ]
    }
   ],
   "source": [
    "radius = 1\n",
    "print(radius > 0)"
   ]
  },
  {
   "cell_type": "code",
   "execution_count": 6,
   "metadata": {},
   "outputs": [
    {
     "name": "stdout",
     "output_type": "stream",
     "text": [
      "1\n"
     ]
    }
   ],
   "source": [
    "print(int(True)) #在计算机内部，1来表示true,0表示False，可以用int数将布尔值转换为一个整数"
   ]
  },
  {
   "cell_type": "code",
   "execution_count": 7,
   "metadata": {
    "scrolled": true
   },
   "outputs": [
    {
     "name": "stdout",
     "output_type": "stream",
     "text": [
      "0\n"
     ]
    }
   ],
   "source": [
    "print(int(False))"
   ]
  },
  {
   "cell_type": "code",
   "execution_count": 8,
   "metadata": {},
   "outputs": [
    {
     "name": "stdout",
     "output_type": "stream",
     "text": [
      "False\n"
     ]
    }
   ],
   "source": [
    "print(bool(0)) #bool函数将一个数字值转换为布尔值，只有0返回False，其他都是Ture"
   ]
  },
  {
   "cell_type": "code",
   "execution_count": 2,
   "metadata": {},
   "outputs": [
    {
     "name": "stdout",
     "output_type": "stream",
     "text": [
      "True\n"
     ]
    }
   ],
   "source": [
    "print(bool(3.1))"
   ]
  },
  {
   "cell_type": "code",
   "execution_count": 15,
   "metadata": {},
   "outputs": [
    {
     "data": {
      "text/plain": [
       "True"
      ]
     },
     "execution_count": 15,
     "metadata": {},
     "output_type": "execute_result"
    }
   ],
   "source": [
    "b = bool(4)\n",
    "b"
   ]
  },
  {
   "cell_type": "markdown",
   "metadata": {},
   "source": [
    "### 4.3 产生随机数字\n",
    "\n",
    "randint(a,b)可以用来产生a和b之间包括a和b的随机整数"
   ]
  },
  {
   "cell_type": "code",
   "execution_count": 23,
   "metadata": {},
   "outputs": [
    {
     "name": "stdout",
     "output_type": "stream",
     "text": [
      "What is3+4?7\n",
      "3 + 4 = 7 is True\n"
     ]
    }
   ],
   "source": [
    "import random\n",
    "number1 = random.randint(0,9)\n",
    "number2 = random.randint(0,9)\n",
    "answer = eval(input('What is' + str(number1) + \\\n",
    "                    '+' + str(number2) + '?'))\n",
    "print(number1,'+',number2,'=',answer,'is'\\\n",
    "      ,number1 + number2 == answer)"
   ]
  },
  {
   "cell_type": "markdown",
   "metadata": {},
   "source": [
    "randint(）和randrange（）是一样的，都是取区间内的一个随机整数。"
   ]
  },
  {
   "cell_type": "code",
   "execution_count": 27,
   "metadata": {},
   "outputs": [
    {
     "data": {
      "text/plain": [
       "0.3834866187711532"
      ]
     },
     "execution_count": 27,
     "metadata": {},
     "output_type": "execute_result"
    }
   ],
   "source": [
    "import random\n",
    "random.random() #random() 随机产生一个浮点数，0到1之间"
   ]
  },
  {
   "cell_type": "code",
   "execution_count": 33,
   "metadata": {},
   "outputs": [
    {
     "data": {
      "text/plain": [
       "1"
      ]
     },
     "execution_count": 33,
     "metadata": {},
     "output_type": "execute_result"
    }
   ],
   "source": [
    "random.randint(0,1)  #返回的值是0或1"
   ]
  },
  {
   "cell_type": "code",
   "execution_count": 34,
   "metadata": {},
   "outputs": [
    {
     "data": {
      "text/plain": [
       "0"
      ]
     },
     "execution_count": 34,
     "metadata": {},
     "output_type": "execute_result"
    }
   ],
   "source": [
    "random.randrange(0,1) #返回的值总是0"
   ]
  },
  {
   "cell_type": "markdown",
   "metadata": {},
   "source": [
    "4.4 if 语句 \n",
    "Python中有多种语句类型：单向if语句，双向if——else语句，嵌套if语句，多向elif-else语句以及条件表达式。"
   ]
  },
  {
   "cell_type": "code",
   "execution_count": 36,
   "metadata": {},
   "outputs": [
    {
     "name": "stdout",
     "output_type": "stream",
     "text": [
      "the area for the circle of radius 1 is 3.141592653589793\n"
     ]
    }
   ],
   "source": [
    "import math\n",
    "if radius >= 0:\n",
    "    area = radius * radius * math.pi \n",
    "    print('the area for the circle of radius',radius,'is',area)"
   ]
  },
  {
   "cell_type": "code",
   "execution_count": 41,
   "metadata": {},
   "outputs": [
    {
     "name": "stdout",
     "output_type": "stream",
     "text": [
      "Enter an integer:4\n",
      "HiEven\n"
     ]
    }
   ],
   "source": [
    "number = eval(input('Enter an integer:'))\n",
    "if number % 5 == 0:\n",
    "    print('Hifive')\n",
    "if number % 2 == 0:\n",
    "    print('HiEven')"
   ]
  },
  {
   "cell_type": "code",
   "execution_count": 40,
   "metadata": {},
   "outputs": [
    {
     "name": "stdout",
     "output_type": "stream",
     "text": [
      "Enter an integer:30\n",
      "Hifive\n",
      "HiEven\n"
     ]
    }
   ],
   "source": [
    "number = eval(input('Enter an integer:'))\n",
    "if number % 5 == 0:\n",
    "    print('Hifive')\n",
    "if number % 2 == 0:\n",
    "    print('HiEven')"
   ]
  },
  {
   "cell_type": "code",
   "execution_count": 1,
   "metadata": {},
   "outputs": [
    {
     "name": "stdout",
     "output_type": "stream",
     "text": [
      "Enter an integer:5\n",
      "Enter an integer:4\n",
      "1\n"
     ]
    }
   ],
   "source": [
    "y = eval(input('Enter an integer:'))\n",
    "x = eval(input('Enter an integer:'))\n",
    "if y > 0:\n",
    "    x = 1\n",
    "    print(x)\n",
    "if y < 0:\n",
    "    print(x)"
   ]
  },
  {
   "cell_type": "markdown",
   "metadata": {},
   "source": [
    "### 4.5 猜生日\n",
    "\n",
    "注意的是 \\ 后面不能有空格"
   ]
  },
  {
   "cell_type": "code",
   "execution_count": 6,
   "metadata": {},
   "outputs": [
    {
     "name": "stdout",
     "output_type": "stream",
     "text": [
      "is your brithday in Set1?\n",
      " 1  3  5  7\n",
      " 9 11 13 15\n",
      "17 19 21 23\n",
      "25 27 30 31\n",
      "Enter 0 for No and 1 for Yes:0\n",
      "is your brithday in Set2?\n",
      " 2  3  6  7\n",
      "10 11 14 15\n",
      "18 19 22 23\n",
      "26 27 30 31\n",
      "Enter 0 for No and 1 for yes:1\n",
      "is your brithday in Set3?\n",
      " 4  5  6  7\n",
      "12 13 14 15\n",
      "20 21 22 23\n",
      "28 29 30 31\n",
      "Enter 0 for No and 1 for yes:1\n",
      "is your brithday in Set4?\n",
      " 8  9 10 11\n",
      "12 13 14 15\n",
      "24 25 26 27\n",
      "28 29 30 31\n",
      "Enter 0 for No and 1 for yes:1\n",
      "is your brithday in Set5?\n",
      "16 17 18 19\n",
      "20 21 22 23\n",
      "24 25 26 27\n",
      "28 29 30 31\n",
      "Enter 0 for No and 1 for yes:1\n",
      "\n",
      "your birthday is30!\n"
     ]
    }
   ],
   "source": [
    "day = 0\n",
    "question1 = 'is your brithday in Set1?\\n' + \\\n",
    "    ' 1  3  5  7\\n' + \\\n",
    "    ' 9 11 13 15\\n' + \\\n",
    "    '17 19 21 23\\n' + \\\n",
    "    '25 27 30 31' + \\\n",
    "    '\\nEnter 0 for No and 1 for Yes:'\n",
    "answer = eval(input(question1))\n",
    "if answer == 1:\n",
    "    day += 1\n",
    "question2 = 'is your brithday in Set2?\\n' + \\\n",
    "    ' 2  3  6  7\\n' + \\\n",
    "    '10 11 14 15\\n' + \\\n",
    "    '18 19 22 23\\n' + \\\n",
    "    '26 27 30 31' + \\\n",
    "    '\\nEnter 0 for No and 1 for yes:'\n",
    "answer = eval(input(question2))\n",
    "if answer == 1:\n",
    "    day += 2\n",
    "question3 = 'is your brithday in Set3?\\n' + \\\n",
    "    ' 4  5  6  7\\n' + \\\n",
    "    '12 13 14 15\\n' + \\\n",
    "    '20 21 22 23\\n' + \\\n",
    "    '28 29 30 31' + \\\n",
    "    '\\nEnter 0 for No and 1 for yes:'\n",
    "answer = eval(input(question3))\n",
    "if answer == 1:\n",
    "    day += 4\n",
    "question4 = 'is your brithday in Set4?\\n' + \\\n",
    "    ' 8  9 10 11\\n' + \\\n",
    "    '12 13 14 15\\n' + \\\n",
    "    '24 25 26 27\\n' + \\\n",
    "    '28 29 30 31' + \\\n",
    "    '\\nEnter 0 for No and 1 for yes:'\n",
    "answer = eval(input(question4))\n",
    "if answer == 1:\n",
    "    day += 8\n",
    "question5 = 'is your brithday in Set5?\\n' + \\\n",
    "    '16 17 18 19\\n' + \\\n",
    "    '20 21 22 23\\n' + \\\n",
    "    '24 25 26 27\\n' + \\\n",
    "    '28 29 30 31' + \\\n",
    "    '\\nEnter 0 for No and 1 for yes:'\n",
    "answer = eval(input(question5))\n",
    "if answer == 1:\n",
    "    day += 16\n",
    "print('\\nyour birthday is' + str(day) + '!')"
   ]
  },
  {
   "cell_type": "markdown",
   "metadata": {},
   "source": [
    "4.6 双向if-else语句"
   ]
  },
  {
   "cell_type": "code",
   "execution_count": 60,
   "metadata": {},
   "outputs": [
    {
     "name": "stdout",
     "output_type": "stream",
     "text": [
      "aaa 1 is 3.141592653589793\n"
     ]
    }
   ],
   "source": [
    "import math\n",
    "if radius >= 0:\n",
    "    area = radius * radius * math.pi\n",
    "    print('aaa',radius,'is',area)\n",
    "else:\n",
    "    print('bbb')"
   ]
  },
  {
   "cell_type": "code",
   "execution_count": 65,
   "metadata": {},
   "outputs": [
    {
     "name": "stdout",
     "output_type": "stream",
     "text": [
      "ooo:5\n",
      "5 is odd\n"
     ]
    }
   ],
   "source": [
    "number = eval(input('ooo:'))\n",
    "if number % 2 == 0:\n",
    "    print(number,'is even')\n",
    "else:\n",
    "    print(number,'is odd')"
   ]
  },
  {
   "cell_type": "code",
   "execution_count": 66,
   "metadata": {},
   "outputs": [
    {
     "name": "stdout",
     "output_type": "stream",
     "text": [
      "what is7-3?4\n",
      "you are right!\n"
     ]
    }
   ],
   "source": [
    "import random\n",
    "number1 = random.randint(0,9)\n",
    "number2 = random.randint(0,9)\n",
    "if number1 < number2:\n",
    "    number1,number2 = number2,number1\n",
    "answer = eval(input('what is' + str(number1) + '-' + \\\n",
    "                    str(number2) + '?'))\n",
    "if number1 - number2 == answer:\n",
    "    print('you are right!')\n",
    "else:\n",
    "    print('your answer is wrong.\\n',number1,'-',number2,'is',\\\n",
    "          number1 - number2,'.')"
   ]
  },
  {
   "cell_type": "code",
   "execution_count": 67,
   "metadata": {},
   "outputs": [
    {
     "name": "stdout",
     "output_type": "stream",
     "text": [
      "what is8-5?4\n",
      "your answer is wrong.\n",
      " 8 - 5 is 3 .\n"
     ]
    }
   ],
   "source": [
    "import random\n",
    "number1 = random.randint(0,9)\n",
    "number2 = random.randint(0,9)\n",
    "if number1 < number2:\n",
    "    number1,number2 = number2,number1\n",
    "answer = eval(input('what is' + str(number1) + '-' + \\\n",
    "                    str(number2) + '?'))\n",
    "if number1 - number2 == answer:\n",
    "    print('you are right!')\n",
    "else:\n",
    "    print('your answer is wrong.\\n',number1,'-',number2,'is',\\\n",
    "          number1 - number2,'.')"
   ]
  },
  {
   "cell_type": "code",
   "execution_count": 68,
   "metadata": {},
   "outputs": [
    {
     "name": "stdout",
     "output_type": "stream",
     "text": [
      "aaa:50\n",
      "50.5\n"
     ]
    }
   ],
   "source": [
    "a = eval(input('aaa:'))\n",
    "if a > 90:\n",
    "    b = a * (1 + 0.03)\n",
    "else:\n",
    "    b = a * (1 + 0.01)\n",
    "    print(b)\n"
   ]
  },
  {
   "cell_type": "code",
   "execution_count": 69,
   "metadata": {},
   "outputs": [
    {
     "name": "stdout",
     "output_type": "stream",
     "text": [
      "5 is odd\n"
     ]
    }
   ],
   "source": [
    "if number % 2 == 0:\n",
    "    print(number,'is even')\n",
    "else:\n",
    "    print(number,'is odd')"
   ]
  },
  {
   "cell_type": "markdown",
   "metadata": {},
   "source": [
    "### 4.7 嵌套if和多向if-elif-else语句\n",
    "\n",
    "将一个if放在另一个if语句中就形成了一个嵌套if语句"
   ]
  },
  {
   "cell_type": "code",
   "execution_count": 3,
   "metadata": {},
   "outputs": [
    {
     "name": "stdout",
     "output_type": "stream",
     "text": [
      "Enter a year:1963\n",
      "rabbit\n"
     ]
    }
   ],
   "source": [
    "year = eval(input('Enter a year:'))\n",
    "zodiacYear = year % 12\n",
    "if zodiacYear == 0:\n",
    "    print('monkey')\n",
    "elif zodiacYear == 1:\n",
    "    print('rooster')\n",
    "elif zodiacYear == 2:\n",
    "    print('dog')\n",
    "elif zodiacYear == 3:\n",
    "    print('pig')\n",
    "elif zodiacYear == 4:\n",
    "    print('rat')\n",
    "elif zodiacYear == 5:\n",
    "    print('ox')\n",
    "elif zodiacYear == 6:\n",
    "    print('tiger')\n",
    "elif zodiacYear == 7:\n",
    "    print('rabbit')\n",
    "elif zodiacYear == 8:\n",
    "    print('dragon')\n",
    "elif zodiacYear == 9:\n",
    "    print('snake')\n",
    "elif zodiacYear == 10:\n",
    "    print('horse')\n",
    "else:\n",
    "    print('sheep')"
   ]
  },
  {
   "cell_type": "code",
   "execution_count": 4,
   "metadata": {},
   "outputs": [
    {
     "name": "stdout",
     "output_type": "stream",
     "text": [
      "aaa:3\n",
      "bbb:2\n",
      "x is 3\n"
     ]
    }
   ],
   "source": [
    "x = eval(input('aaa:'))\n",
    "y = eval(input('bbb:'))\n",
    "if x > 2:\n",
    "    if y > 2:\n",
    "        z = x + y\n",
    "        print('z is',z)\n",
    "    else:\n",
    "        print('x is',x)"
   ]
  },
  {
   "cell_type": "markdown",
   "metadata": {},
   "source": [
    "### 4.8 选择语句中常见的错误\n",
    "\n",
    "选择语句中大多数错误都是由于不正确的缩进问题导致的"
   ]
  },
  {
   "cell_type": "code",
   "execution_count": 7,
   "metadata": {},
   "outputs": [
    {
     "name": "stdout",
     "output_type": "stream",
     "text": [
      "The area is 1256.6370614359173\n"
     ]
    }
   ],
   "source": [
    "import math\n",
    "radius = 20\n",
    "if radius >= 0:\n",
    "    area = radius * radius * math.pi\n",
    "    print('The area is',area)"
   ]
  },
  {
   "cell_type": "markdown",
   "metadata": {},
   "source": [
    "### 4.9 实例研究 计算身体质量指数\n",
    "\n",
    "使用嵌套if语句编写一个说明身体质量指数的程序"
   ]
  },
  {
   "cell_type": "code",
   "execution_count": 8,
   "metadata": {},
   "outputs": [
    {
     "name": "stdout",
     "output_type": "stream",
     "text": [
      "Enter weight in pounds:146\n",
      "Enter height in inches:70\n",
      "bmi is 20.95\n",
      "Normal\n"
     ]
    }
   ],
   "source": [
    "weight = eval(input('Enter weight in pounds:'))\n",
    "height = eval(input('Enter height in inches:'))\n",
    "KILOGRAMS_PER_POUND = 0.45359237\n",
    "METERS_PER_INCH = 0.0254\n",
    "weightInkilograms = weight * KILOGRAMS_PER_POUND\n",
    "heightInMeters = height * METERS_PER_INCH\n",
    "bmi = weightInkilograms / (heightInMeters * heightInMeters)\n",
    "print('bmi is',format(bmi,'.2f'))\n",
    "if bmi < 18.5:\n",
    "    print('Underweight')\n",
    "elif bmi < 25:\n",
    "    print('Normal')\n",
    "elif bmi < 30:\n",
    "    print('Overweight')\n",
    "else:\n",
    "    print('Obese')"
   ]
  },
  {
   "cell_type": "code",
   "execution_count": 10,
   "metadata": {},
   "outputs": [
    {
     "name": "stdout",
     "output_type": "stream",
     "text": [
      "aaa:0\n",
      "bbb:400000\n",
      "Tax is 117683.50\n"
     ]
    }
   ],
   "source": [
    "import sys\n",
    "status = eval(input('aaa:'))\n",
    "income = eval(input('bbb:'))\n",
    "tax = 0\n",
    "if status == 0:\n",
    "    if income <= 8350:\n",
    "        tax = income * 0.10\n",
    "    elif income <= 33950:\n",
    "        tax = 8350 * 0.10 + (income - 8350) * 0.15\n",
    "    elif income <= 82250:\n",
    "        tax = 8350 * 0.10 + (33950 - 8350) * 0.15 + \\\n",
    "        (income - 33950) * 0.25\n",
    "    elif income <= 171550:\n",
    "        tax = 8350 * 0.10 + (33950 - 8350) * 0.15 + \\\n",
    "        (82250 - 33950) * 0.25 + (income - 82250) * 0.28\n",
    "    elif income <= 372950:\n",
    "        tax = 8350 * 0.10 + (33950 - 8350) * 0.15 + \\\n",
    "        (82250 - 33950) * 0.25 + (171550 - 82250) * 0.28 + \\\n",
    "        (income - 171550) * 0.33\n",
    "    else:\n",
    "        tax = 8350 * 0.10 + (33950 - 8350) * 0.15 + \\\n",
    "        (82250 - 33950) * 0.25 + (171550 - 82250) * 0.28 + \\\n",
    "        (372950 - 171550) * 0.33 + (income - 372950) * 0.35;\n",
    "elif status == 1:\n",
    "    print('Left as exercise')\n",
    "elif status == 2:\n",
    "    print('Left as exercise')\n",
    "elif status == 3:\n",
    "    print('Left as exercise')\n",
    "else:\n",
    "    print('Error:invalid status')\n",
    "    sys.exit()\n",
    "print('Tax is',format(tax,'.2f'))\n"
   ]
  },
  {
   "cell_type": "markdown",
   "metadata": {},
   "source": [
    "### 4.11 逻辑运算符\n",
    "\n",
    "not  and  or 都可以用来创造一个组合条件\n",
    "\n",
    "逻辑运算符也被成为布尔运算符"
   ]
  },
  {
   "cell_type": "code",
   "execution_count": 11,
   "metadata": {},
   "outputs": [
    {
     "name": "stdout",
     "output_type": "stream",
     "text": [
      "Enter an inreger:18\n",
      "18 is divisible by 2 and 3\n",
      "18 is divisible by 2 or 3\n"
     ]
    }
   ],
   "source": [
    "number = eval(input('Enter an inreger:'))\n",
    "if number % 2 == 0 and number % 3 == 0:\n",
    "    print(number,'is divisible by 2 and 3')\n",
    "if number % 2 == 0 or number % 3 == 0:\n",
    "    print(number,'is divisible by 2 or 3')\n",
    "if (number % 2 == 0 or number % 3 == 0) and \\\n",
    "not (number % 2 == 0 and number % 3 == 0):\n",
    "    print(number,'is divisible by 2 or 3,but not both ')"
   ]
  },
  {
   "cell_type": "code",
   "execution_count": 17,
   "metadata": {},
   "outputs": [
    {
     "name": "stdout",
     "output_type": "stream",
     "text": [
      "aaa:1\n",
      "bbb:2\n",
      "True\n"
     ]
    }
   ],
   "source": [
    "a = eval(input('aaa:'))\n",
    "b = eval(input('bbb:'))\n",
    "c = a + b\n",
    "if c <= 100 and c >=1:\n",
    "    print(bool(1))\n",
    "else:\n",
    "    print(bool(0))"
   ]
  },
  {
   "cell_type": "code",
   "execution_count": 19,
   "metadata": {},
   "outputs": [
    {
     "name": "stdout",
     "output_type": "stream",
     "text": [
      "aaa:999\n",
      "bbb:8\n",
      "False\n"
     ]
    }
   ],
   "source": [
    "a = eval(input('aaa:'))\n",
    "b = eval(input('bbb:'))\n",
    "c = a + b\n",
    "if 1 <= c <= 100:\n",
    "    print(bool(1))\n",
    "elif c <= 0:\n",
    "    print(bool(1))\n",
    "else:\n",
    "     print(bool(0))"
   ]
  },
  {
   "cell_type": "code",
   "execution_count": 44,
   "metadata": {},
   "outputs": [
    {
     "data": {
      "text/plain": [
       "False"
      ]
     },
     "execution_count": 44,
     "metadata": {},
     "output_type": "execute_result"
    }
   ],
   "source": [
    "c = (ord('5') >= ord('A') and ord('5') <= ord('Z'))\n",
    "c"
   ]
  },
  {
   "cell_type": "code",
   "execution_count": 45,
   "metadata": {},
   "outputs": [
    {
     "data": {
      "text/plain": [
       "53"
      ]
     },
     "execution_count": 45,
     "metadata": {},
     "output_type": "execute_result"
    }
   ],
   "source": [
    "ord('5')"
   ]
  },
  {
   "cell_type": "code",
   "execution_count": 46,
   "metadata": {},
   "outputs": [
    {
     "data": {
      "text/plain": [
       "65"
      ]
     },
     "execution_count": 46,
     "metadata": {},
     "output_type": "execute_result"
    }
   ],
   "source": [
    "ord('A')"
   ]
  },
  {
   "cell_type": "code",
   "execution_count": 29,
   "metadata": {},
   "outputs": [
    {
     "name": "stdout",
     "output_type": "stream",
     "text": [
      "aaa:12\n",
      "False\n"
     ]
    }
   ],
   "source": [
    "a = eval(input('aaa:'))\n",
    "if 13 < a < 18:\n",
    "    print(bool(1))\n",
    "else:\n",
    "    print(bool(0))"
   ]
  },
  {
   "cell_type": "code",
   "execution_count": 30,
   "metadata": {},
   "outputs": [
    {
     "name": "stdout",
     "output_type": "stream",
     "text": [
      "aaa:55\n",
      "aaa:177\n",
      "True\n"
     ]
    }
   ],
   "source": [
    "a = eval(input('aaa:'))\n",
    "b = eval(input('aaa:'))\n",
    "if a > 50 or b < 160:\n",
    "    print(bool(1))\n",
    "else:\n",
    "    print(bool(0))"
   ]
  },
  {
   "cell_type": "code",
   "execution_count": 33,
   "metadata": {},
   "outputs": [
    {
     "name": "stdout",
     "output_type": "stream",
     "text": [
      "aaa:44,180\n",
      "False\n"
     ]
    }
   ],
   "source": [
    "a,b= eval(input('aaa:'))\n",
    "if a > 50 or b < 160:\n",
    "    print('Ture')\n",
    "else:\n",
    "    print('False')"
   ]
  },
  {
   "cell_type": "code",
   "execution_count": 34,
   "metadata": {},
   "outputs": [
    {
     "name": "stdout",
     "output_type": "stream",
     "text": [
      "aaa:33,133\n",
      "False\n"
     ]
    }
   ],
   "source": [
    "a,b= eval(input('aaa:'))\n",
    "if a > 50 and b < 160:\n",
    "    print('Ture')\n",
    "else:\n",
    "    print('False')"
   ]
  },
  {
   "cell_type": "code",
   "execution_count": 36,
   "metadata": {},
   "outputs": [
    {
     "name": "stdout",
     "output_type": "stream",
     "text": [
      "aaa:66,170\n",
      "False\n"
     ]
    }
   ],
   "source": [
    "a,b= eval(input('aaa:'))\n",
    "if a > 50 and b < 160:\n",
    "    print('Ture')\n",
    "elif a < 50 and b > 160:\n",
    "    print('ture')\n",
    "else:\n",
    "    print('False')"
   ]
  },
  {
   "cell_type": "markdown",
   "metadata": {},
   "source": [
    "4.12 判定闰年"
   ]
  },
  {
   "cell_type": "code",
   "execution_count": 37,
   "metadata": {},
   "outputs": [
    {
     "name": "stdout",
     "output_type": "stream",
     "text": [
      "Enter a year:2008\n",
      "2008 is a leap year? True\n"
     ]
    }
   ],
   "source": [
    "year = eval(input('Enter a year:'))\n",
    "isLeapyear = (year % 4 == 0 and year % 100 != 0) or \\\n",
    "(year % 400 == 0)\n",
    "print(year,'is a leap year?',isLeapyear)"
   ]
  },
  {
   "cell_type": "code",
   "execution_count": 39,
   "metadata": {},
   "outputs": [
    {
     "name": "stdout",
     "output_type": "stream",
     "text": [
      "aaa:45\n",
      "The lottery number is 93\n",
      "Sorry,no match\n"
     ]
    }
   ],
   "source": [
    "import random    #彩票\n",
    "lottery = random.randint(0,99)\n",
    "guess = eval(input('aaa:'))\n",
    "lotteryDigit1 = lottery // 10\n",
    "lotteryDigit2 = lottery % 10\n",
    "guessDigit1 = guess // 10\n",
    "guessDigit2 = guess % 10\n",
    "print('The lottery number is',lottery)\n",
    "if guess == lottery:\n",
    "    print('Exact match: you win $10000')\n",
    "elif (guessDigit2 == lotteryDigit1 and \\\n",
    "     guessDigit1 == lotteryDigit2):\n",
    "    print('Match all digits:you win $3000')\n",
    "elif (guessDigit1 == lotteryDigit1 or \\\n",
    "     guessDigit1 == lotteryDigit2 or \\\n",
    "     guessDigit2 == lotteryDigit1 or \\\n",
    "     guessDigit2 == lotteryDigit2):\n",
    "    print('Match one digit:you win $1000')\n",
    "else:\n",
    "    print('Sorry,no match')"
   ]
  },
  {
   "cell_type": "markdown",
   "metadata": {},
   "source": [
    "4.14 条件表达式\n",
    "是根据某个条件计算一个表达式"
   ]
  },
  {
   "cell_type": "code",
   "execution_count": 3,
   "metadata": {},
   "outputs": [
    {
     "name": "stdout",
     "output_type": "stream",
     "text": [
      "number is even\n"
     ]
    }
   ],
   "source": [
    "number = 4\n",
    "print('number is even' if number % 2 == 0 else 'number is odd')"
   ]
  },
  {
   "cell_type": "code",
   "execution_count": 5,
   "metadata": {},
   "outputs": [
    {
     "name": "stdout",
     "output_type": "stream",
     "text": [
      "Enter three numbers:2,4,6\n",
      "sorted\n"
     ]
    }
   ],
   "source": [
    "x,y,z = eval(input('Enter three numbers:'))\n",
    "print('sorted' if x < y and y < z else 'not sorted')"
   ]
  },
  {
   "cell_type": "code",
   "execution_count": 7,
   "metadata": {},
   "outputs": [
    {
     "name": "stdout",
     "output_type": "stream",
     "text": [
      "输入ages：34\n",
      "ticketPrice = 20\n"
     ]
    }
   ],
   "source": [
    "ages = eval(input('输入ages：'))\n",
    "print('ticketPrice = 20'if ages >= 16 else 'ticketPrice = 10')"
   ]
  },
  {
   "cell_type": "code",
   "execution_count": null,
   "metadata": {},
   "outputs": [],
   "source": [
    "count = eval(input('shurucount:'))\n",
    "count if count % 10 == 0 else )"
   ]
  },
  {
   "cell_type": "code",
   "execution_count": 9,
   "metadata": {},
   "outputs": [
    {
     "name": "stdout",
     "output_type": "stream",
     "text": [
      "输入：16\n",
      "输入：3\n",
      "9\n"
     ]
    }
   ],
   "source": [
    "x = eval(input('输入：'))\n",
    "scale = eval(input('输入：'))\n",
    "if x > 10:\n",
    "    score = 3 * scale\n",
    "    print(score)\n",
    "else:\n",
    "    c = 4 * scale\n",
    "    print(c)"
   ]
  },
  {
   "cell_type": "markdown",
   "metadata": {},
   "source": [
    "4.15 运算符的优先级和结合方向"
   ]
  },
  {
   "cell_type": "markdown",
   "metadata": {},
   "source": [
    "逻辑运算符的优先级低于关系运算符，而关系运算符的优先级小于算数运算符"
   ]
  },
  {
   "cell_type": "code",
   "execution_count": 10,
   "metadata": {},
   "outputs": [
    {
     "name": "stdout",
     "output_type": "stream",
     "text": [
      "Enter：1,2.0,1\n",
      "The root is -1.0\n"
     ]
    }
   ],
   "source": [
    "#测试题4.1\n",
    "a,b,c = eval(input('Enter：'))\n",
    "if (b * b - 4 * a * c) > 0:\n",
    "    r1 = (-b + (b * b - 4 * a * c) ** 1/2) / 2*a\n",
    "    r2 = (-b - (b * b - 4 * a * c) ** 1/2) / 2*a\n",
    "    print('The roots are' ,r1,'and',r2)\n",
    "elif (b * b - 4 * a * c) == 0:\n",
    "    r3 = (-b + (b * b - 4 * a * c) ** 1/2) / 2*a\n",
    "    print('The root is',r3)\n",
    "else:\n",
    "    print('aaa')"
   ]
  },
  {
   "cell_type": "code",
   "execution_count": 16,
   "metadata": {},
   "outputs": [
    {
     "name": "stdout",
     "output_type": "stream",
     "text": [
      "What is3+5+5?13\n",
      "3 + 5 + 5 = 13 is True\n"
     ]
    }
   ],
   "source": [
    "#测试题4.2\n",
    "import random\n",
    "number1 = random.randint(0,9)\n",
    "number2 = random.randint(0,9)\n",
    "number3 = random.randint(0,9)\n",
    "answer = eval(input('What is' + str(number1) + \\\n",
    "                    '+' + str(number2) + '+' + str(number3)+'?'))\n",
    "print(number1,'+',number2,'+',number3,'=',answer,'is'\\\n",
    "      ,number1 + number2 + number3 == answer)"
   ]
  },
  {
   "cell_type": "code",
   "execution_count": 17,
   "metadata": {},
   "outputs": [
    {
     "name": "stdout",
     "output_type": "stream",
     "text": [
      "Enter a b c d e f:9,4,3,-5,-6,-21\n",
      "x is -2.0 y is 3.0\n"
     ]
    }
   ],
   "source": [
    "#测试题4.3\n",
    "a,b,c,d,e,f = eval(input('Enter a b c d e f:'))\n",
    "if a * d - b * c == 0:\n",
    "    print('The equation has no solution')\n",
    "else:\n",
    "    x = (e * d - b * f) / (a * d - b * c)\n",
    "    y = (a * f - e * c) / (a * d - b * c)\n",
    "    print('x is',x,'y is',y)"
   ]
  },
  {
   "cell_type": "code",
   "execution_count": 17,
   "metadata": {},
   "outputs": [
    {
     "name": "stdout",
     "output_type": "stream",
     "text": [
      "aaa11\n",
      "b\n"
     ]
    }
   ],
   "source": [
    "#测试题4.4\n",
    "import random\n",
    "number1 = random.randint(0,100)\n",
    "number2 = random.randint(0,100)\n",
    "answer = eval(input('aaa'))\n",
    "if number1 + number2 == answer:\n",
    "    print('a')\n",
    "else:\n",
    "    print('b')\n"
   ]
  },
  {
   "cell_type": "code",
   "execution_count": 5,
   "metadata": {},
   "outputs": [
    {
     "name": "stdout",
     "output_type": "stream",
     "text": [
      "aa1\n",
      "aa3\n",
      "a\n"
     ]
    }
   ],
   "source": [
    "a = eval(input('aa'))\n",
    "b = eval(input('aa'))\n",
    "c = a + b\n",
    "if a + b == c :\n",
    "    print('a')\n",
    "else:\n",
    "    print('v')"
   ]
  },
  {
   "cell_type": "code",
   "execution_count": 20,
   "metadata": {},
   "outputs": [
    {
     "name": "stdout",
     "output_type": "stream",
     "text": [
      "Enter today's day:1\n",
      "Enter the number of days elapsed since today:3\n",
      "Today is Sunday and the future day is 星期四\n"
     ]
    }
   ],
   "source": [
    "#测试题4.5\n",
    "a = eval(input(\"Enter today's day:\"))\n",
    "b = eval(input(\"Enter the number of days elapsed since today:\"))\n",
    "c = (b % 6) + a\n",
    "if c == 0:\n",
    "    print('Today is Sunday and the future day is 星期天')\n",
    "elif c == 1:\n",
    "    print('Today is Sunday and the future day is 星期一')\n",
    "elif c == 2:\n",
    "    print('Today is Sunday and the future day is 星期二')\n",
    "elif c == 3:\n",
    "    print('Today is Sunday and the future day is 星期三')\n",
    "elif c == 4:\n",
    "    print('Today is Sunday and the future day is 星期四')\n",
    "elif c == 5:\n",
    "    print('Today is Sunday and the future day is 星期五')\n",
    "elif c == 6:\n",
    "    print('Today is Sunday and the future day is 星期6')\n",
    "\n",
    "      \n",
    "    "
   ]
  },
  {
   "cell_type": "code",
   "execution_count": 9,
   "metadata": {},
   "outputs": [
    {
     "name": "stdout",
     "output_type": "stream",
     "text": [
      "Enter weight in pounds:140\n",
      "Enter feet:5\n",
      "Enter inches:10\n",
      "bmi is 20.087703603978635\n",
      "Normal\n"
     ]
    }
   ],
   "source": [
    "#编程题4.6\n",
    "a = eval(input('Enter weight in pounds:'))\n",
    "b = eval(input('Enter feet:'))\n",
    "c = eval(input('Enter inches:'))\n",
    "d = (b * 12) + c\n",
    "e = d * 0.0254\n",
    "f = a * 0.4535924\n",
    "bmi = f / (e * e)\n",
    "print('bmi is',bmi)\n",
    "if bmi < 18.5:\n",
    "    print('Underweight')\n",
    "elif bmi < 25:\n",
    "    print('Normal')\n",
    "elif bmi < 30:\n",
    "    print('Overweight')\n",
    "else:\n",
    "    print('Obese')"
   ]
  },
  {
   "cell_type": "code",
   "execution_count": 10,
   "metadata": {},
   "outputs": [
    {
     "name": "stdout",
     "output_type": "stream",
     "text": [
      "aaa1\n",
      "bbb2\n",
      "ccc3\n",
      "3 2 1\n"
     ]
    }
   ],
   "source": [
    "#编程题4.8\n",
    "a = eval(input('aaa'))\n",
    "b = eval(input('bbb'))\n",
    "c = eval(input('ccc'))\n",
    "if a > b > c:\n",
    "    print('a,b,c')\n",
    "elif a > c > b:\n",
    "    print(a,c,b)\n",
    "elif b > a > c:\n",
    "    print(b,a,c)\n",
    "elif b > c > a:\n",
    "    print(b,c,a)\n",
    "elif c > a > b:\n",
    "    print(c,a,b)\n",
    "elif c > b > a:\n",
    "    print(c,b,a)"
   ]
  },
  {
   "cell_type": "code",
   "execution_count": 13,
   "metadata": {},
   "outputs": [
    {
     "name": "stdout",
     "output_type": "stream",
     "text": [
      "Enter weight and price for package1:50,24.59\n",
      "Enter weight and price for package2:25,11.99\n",
      "package 2 has the better price\n"
     ]
    }
   ],
   "source": [
    "#测试题4.9\n",
    "a,b = eval(input('Enter weight and price for package1:'))\n",
    "c,d = eval(input('Enter weight and price for package2:'))\n",
    "e = b / a\n",
    "f = d / c\n",
    "if e < f:\n",
    "    print('package 1 has the better price')\n",
    "else:\n",
    "    print('package 2 has the better price')"
   ]
  },
  {
   "cell_type": "code",
   "execution_count": 15,
   "metadata": {},
   "outputs": [
    {
     "name": "stdout",
     "output_type": "stream",
     "text": [
      "what is26*25?650\n",
      "you are right!\n"
     ]
    }
   ],
   "source": [
    "#测试题4.10\n",
    "import random\n",
    "number1 = random.randint(0,100)\n",
    "number2 = random.randint(0,100)\n",
    "answer = eval(input('what is' + str(number1) + '*' + \\\n",
    "                    str(number2) + '?'))\n",
    "if number1 * number2 == answer:\n",
    "    print('you are right!')\n",
    "else:\n",
    "    print('your answer is wrong.\\n',number1,'-',number2,'is',\\\n",
    "          number1 - number2,'.')"
   ]
  },
  {
   "cell_type": "code",
   "execution_count": 23,
   "metadata": {},
   "outputs": [
    {
     "name": "stdout",
     "output_type": "stream",
     "text": [
      "输入月：1\n",
      "输入年：2005\n",
      "31\n"
     ]
    }
   ],
   "source": [
    "#测试题4.11\n",
    "a = eval(input('输入月：'))\n",
    "b = eval(input('输入年：'))\n",
    "if a == 2:\n",
    "    if b % 4 == 0:\n",
    "        print('29')\n",
    "    else:\n",
    "        print('28')\n",
    "elif a == 1:\n",
    "    print('31')"
   ]
  },
  {
   "cell_type": "code",
   "execution_count": 20,
   "metadata": {},
   "outputs": [
    {
     "name": "stdout",
     "output_type": "stream",
     "text": [
      "输入整数：10\n",
      "Is 10 divisible by 5 or 6? Ture\n",
      "Is 10 divisible by 5 and 6? False\n",
      "Is 10 divisible by 5 or 6,but not both? Ture\n"
     ]
    }
   ],
   "source": [
    "#测试题4.12\n",
    "a = eval(input('输入整数：'))\n",
    "if a % 5 == 0 or a % 6 == 0:\n",
    "    print('Is 10 divisible by 5 or 6?','Ture')\n",
    "if a % 5 != 0 or a % 6 != 0:\n",
    "    print('Is 10 divisible by 5 and 6?','False')\n",
    "if a % 5 == 0 and a % 6 == 0:\n",
    "    print('Is 10 divisible by 5 and 6?','Ture')\n",
    "if (a % 5 == 0 or a % 6 == 0)and(a % 5 != 0 or a % 6 != 0):\n",
    "    print('Is 10 divisible by 5 or 6,but not both?','Ture')\n",
    "if a % 5 == 0 and a % 6 == 0: \n",
    "    print('Is 10 divisible by 5 or 6,but not both?','False')"
   ]
  },
  {
   "cell_type": "code",
   "execution_count": null,
   "metadata": {},
   "outputs": [],
   "source": [
    "#测试题4.13\n",
    "import sys\n",
    "status = eval(input('aaa:'))\n",
    "income = eval(input('bbb:'))\n",
    "tax = 0\n",
    "if status == 0:\n",
    "    if income <= 8350:\n",
    "        tax = income * 0.10\n",
    "    elif income <= 33950:\n",
    "        tax = 8350 * 0.10 + (income - 8350) * 0.15\n",
    "    elif income <= 82250:\n",
    "        tax = 8350 * 0.10 + (33950 - 8350) * 0.15 + \\\n",
    "        (income - 33950) * 0.25\n",
    "    elif income <= 171550:\n",
    "        tax = 8350 * 0.10 + (33950 - 8350) * 0.15 + \\\n",
    "        (82250 - 33950) * 0.25 + (income - 82250) * 0.28\n",
    "    elif income <= 372950:\n",
    "        tax = 8350 * 0.10 + (33950 - 8350) * 0.15 + \\\n",
    "        (82250 - 33950) * 0.25 + (171550 - 82250) * 0.28 + \\\n",
    "        (income - 171550) * 0.33\n",
    "    else:\n",
    "        tax = 8350 * 0.10 + (33950 - 8350) * 0.15 + \\\n",
    "        (82250 - 33950) * 0.25 + (171550 - 82250) * 0.28 + \\\n",
    "        (372950 - 171550) * 0.33 + (income - 372950) * 0.35;\n",
    "elif status == 1:\n",
    "    print('Left as exercise')\n",
    "elif status == 2:\n",
    "    print('Left as exercise')\n",
    "elif status == 3:\n",
    "    print('Left as exercise')\n",
    "else:\n",
    "    print('Error:invalid status')\n",
    "    sys.exit()\n",
    "print('Tax is',format(tax,'.2f'))\n"
   ]
  },
  {
   "cell_type": "code",
   "execution_count": 30,
   "metadata": {},
   "outputs": [
    {
     "name": "stdout",
     "output_type": "stream",
     "text": [
      "输入硬币是正面还是反面：0\n",
      "true\n"
     ]
    }
   ],
   "source": [
    "#测试题4.14\n",
    "import random\n",
    "a = random.randint(0,1)\n",
    "b = eval(input('输入硬币是正面还是反面：'))\n",
    "if b == a:\n",
    "    print('true')\n",
    "else:\n",
    "    print('false')\n",
    "    "
   ]
  },
  {
   "cell_type": "code",
   "execution_count": 23,
   "metadata": {},
   "outputs": [
    {
     "name": "stdout",
     "output_type": "stream",
     "text": [
      "aaa:222\n",
      "The lottery number is 724\n",
      "Sorry,no match\n"
     ]
    }
   ],
   "source": [
    "# 测试题4.15\n",
    "import random    #彩票\n",
    "lottery = random.randint(0,999)\n",
    "guess = eval(input('aaa:'))\n",
    "lotteryDigit1 = lottery // 100 # 百分位的数\n",
    "lotteryDigit2 = lottery % 100  # 百分位和十分位的数\n",
    "lotteryDigit3 = lotteryDigit2 % 10 #个位上的数 \n",
    "guessDigit1 = guess // 100\n",
    "guessDigit2 = guess % 100\n",
    "guessDigit3 = guessDigit2 % 10\n",
    "print('The lottery number is',lottery)\n",
    "if guess == lottery:\n",
    "    print('Exact match: you win $10000')\n",
    "elif (guessDigit2 == lotteryDigit1 and \\\n",
    "     guessDigit1 == lotteryDigit2 and guessDigit3 == lotteryDigit3):\n",
    "    print('Match all digits:you win $3000')\n",
    "elif (guessDigit1 == lotteryDigit1 or guessDigit1 == lotteryDigit2 or guessDigit2 == lotteryDigit1 or guessDigit2 == lotteryDigit2 or guessDigit1 == lotteryDigit3 or guessDigit3 == lotteryDigit1 or guessDigit3 == lotteryDigit2 or guessDigit3 == lotteryDigit3 or guessDigit2 == lotteryDigit3):\n",
    "    print('Match one digit:you win $1000')\n",
    "else:\n",
    "    print('Sorry,no match')"
   ]
  },
  {
   "cell_type": "code",
   "execution_count": 36,
   "metadata": {},
   "outputs": [
    {
     "name": "stdout",
     "output_type": "stream",
     "text": [
      "70\n",
      "F\n"
     ]
    }
   ],
   "source": [
    "# 测试题4.16\n",
    "import random\n",
    "a = random.randint(65,90)\n",
    "print(a)\n",
    "c = chr(a)\n",
    "print(c)\n"
   ]
  },
  {
   "cell_type": "code",
   "execution_count": 1,
   "metadata": {},
   "outputs": [
    {
     "name": "stdout",
     "output_type": "stream",
     "text": [
      "0\n",
      "scissor(0),rock(1),paper(2):1\n",
      "the computer is scissor.you are rock.you win\n"
     ]
    }
   ],
   "source": [
    "#测试题4.17\n",
    "import random\n",
    "a = random.randint(0,2)\n",
    "print(a)\n",
    "b = eval(input('scissor(0),rock(1),paper(2):'))\n",
    "if a ==0 and b==0:\n",
    "    print('the computer is scissor.you are scissor too.it is a draw')\n",
    "elif a ==1 and b==1:\n",
    "    print('the computer is rock.you are rock too.it is a draw')\n",
    "elif a ==2 and b==2:\n",
    "    print('the computer is paper.you are paper too.it is a draw')\n",
    "elif a == 0 and b == 1:\n",
    "    print('the computer is scissor.you are rock.you win')\n",
    "elif a == 0 and b == 2:\n",
    "    print('the computer is scissor.you are paper.you shule')\n",
    "elif a == 1 and b == 2:\n",
    "    print('the computer is rock.you are paper.you win') \n",
    "elif a == 1 and b == 0:\n",
    "    print('the computer is rock.you are scissor.you shule')\n",
    "elif a == 2 and b == 1:\n",
    "    print('the computer is paper.you are rock.you shule')\n",
    "elif a == 2 and b == 0:\n",
    "    print('the computer is paper.you are scissor.you win')"
   ]
  },
  {
   "cell_type": "code",
   "execution_count": 3,
   "metadata": {},
   "outputs": [
    {
     "name": "stdout",
     "output_type": "stream",
     "text": [
      "Enter the exchage rate from dollars to RMB:6.81\n",
      "Enter 0 to convert dollars to RMB and 1 vice versa:0\n",
      "Enter the dollar amount:100\n",
      "$ 100 is 681.0 yuan\n"
     ]
    }
   ],
   "source": [
    "#测试4.18\n",
    "a = eval(input('Enter the exchage rate from dollars to RMB:'))\n",
    "b = eval(input('Enter 0 to convert dollars to RMB and 1 vice versa:'))\n",
    "if b == 0:\n",
    "    c = eval(input('Enter the dollar amount:'))\n",
    "    d = c * a\n",
    "    print('$',c,'is',d,'yuan')\n",
    "else:\n",
    "    e = eval(input('Enter the RMB amount:'))\n",
    "    f = c / a\n",
    "    print(e,'is','$',f,'yuan')"
   ]
  },
  {
   "cell_type": "code",
   "execution_count": 10,
   "metadata": {},
   "outputs": [
    {
     "name": "stdout",
     "output_type": "stream",
     "text": [
      "Enter three edges:1,3,1\n",
      "the input is invalid\n"
     ]
    }
   ],
   "source": [
    "#测试题4.19\n",
    "a,b,c = eval(input('Enter three edges:'))\n",
    "if a + b > c and a + c > b and b + c > a:\n",
    "    print('The perimeter is ',a + b + c )\n",
    "else:\n",
    "    print('the input is invalid')"
   ]
  },
  {
   "cell_type": "code",
   "execution_count": 12,
   "metadata": {},
   "outputs": [
    {
     "name": "stdout",
     "output_type": "stream",
     "text": [
      "aaa:99\n",
      "bbb:7\n",
      "这个温度或者风速是非法的\n"
     ]
    }
   ],
   "source": [
    "#测试题4.20\n",
    "a = eval(input(\"aaa:\"))\n",
    "b = eval(input(\"bbb:\"))\n",
    "if -58 < a < 41 and b >= 2:\n",
    "    q = 35.74 + 0.6215*a - 35.75 * b **0.16 + 0.4275*a*(b**0.16)\n",
    "    print(\"fff is\",q)\n",
    "else:\n",
    "    print('这个温度或者风速是非法的')"
   ]
  },
  {
   "cell_type": "code",
   "execution_count": null,
   "metadata": {},
   "outputs": [],
   "source": [
    "#测试题4.21\n",
    "a = eval(input('Enter year:'))\n",
    "b = eval(input('Enter month:'))\n",
    "c = eval(input('Enter the day of the month:1--31:'))\n",
    "if b = 1:\n",
    "    "
   ]
  },
  {
   "cell_type": "code",
   "execution_count": 16,
   "metadata": {},
   "outputs": [
    {
     "name": "stdout",
     "output_type": "stream",
     "text": [
      "Enter a point with two coordinates:9,9\n",
      "Point ( 9 , 9 ) is not in the circle\n"
     ]
    }
   ],
   "source": [
    "#测试题4.22\n",
    "a,b = eval(input('Enter a point with two coordinates:'))\n",
    "if ((a * a + b * b) ** 0.5) <= 10:\n",
    "    print('Point','(',a,b,')','is in the circle')\n",
    "else:\n",
    "     print('Point','(',a,',',b,')','is not in the circle')"
   ]
  },
  {
   "cell_type": "code",
   "execution_count": 20,
   "metadata": {},
   "outputs": [
    {
     "name": "stdout",
     "output_type": "stream",
     "text": [
      "Enter a point with two coordinates:-6,-4\n",
      "Point ( -6 -4 ) is  not in the rectangle\n"
     ]
    }
   ],
   "source": [
    "#测试题4.23\n",
    "a,b = eval(input('Enter a point with two coordinates:'))\n",
    "if abs(a) <= 5 and abs(b) <= 2/5:\n",
    "    print('Point','(',a,b,')','is in the rectangle')\n",
    "else:\n",
    "    print('Point','(',a,b,')','is  not in the rectangle')"
   ]
  },
  {
   "cell_type": "code",
   "execution_count": 2,
   "metadata": {},
   "outputs": [
    {
     "name": "stdout",
     "output_type": "stream",
     "text": [
      "12\n",
      "2\n",
      "你的牌是 12 红桃\n"
     ]
    }
   ],
   "source": [
    "#测试题4.24\n",
    "import random\n",
    "a = random.randint(1,14)\n",
    "print(a)\n",
    "b = random.randint(1,5)\n",
    "print(b)\n",
    "if b == 1:\n",
    "    print('你的牌是',a,'梅花')\n",
    "elif b == 2:\n",
    "    print('你的牌是',a,'红桃')\n",
    "elif b == 3:\n",
    "    print('你的牌是',a,'方块')\n",
    "else:\n",
    "    print('你的牌是',a, '黑桃')"
   ]
  },
  {
   "cell_type": "code",
   "execution_count": 31,
   "metadata": {},
   "outputs": [
    {
     "name": "stdout",
     "output_type": "stream",
     "text": [
      "Enter a three-digit integer:131\n",
      "131 is a palindrome\n"
     ]
    }
   ],
   "source": [
    "#测试题4.26\n",
    "a= eval(input('Enter a three-digit integer:'))\n",
    "if a % 10 == a // 100:\n",
    "    print(a,'is a palindrome')\n",
    "else:\n",
    "    print(a,'is not a palindrome')"
   ]
  },
  {
   "cell_type": "code",
   "execution_count": null,
   "metadata": {},
   "outputs": [],
   "source": [
    "#测试题4.27  判断一个点是否在三角形内的公式\n",
    "a,b = eval(input('Enter a points x-and y-coordinates:'))\n",
    "if 0 < a < 200 and"
   ]
  },
  {
   "cell_type": "code",
   "execution_count": 33,
   "metadata": {},
   "outputs": [
    {
     "name": "stdout",
     "output_type": "stream",
     "text": [
      "aaa2.5,4,2.5,43\n",
      "bbb1.5,5,0.5,3\n",
      "r2 overlaps r1\n"
     ]
    }
   ],
   "source": [
    "#测试题4.28\n",
    "a,b,c,d = eval(input('aaa'))\n",
    "a1,b1,c1,d1 = eval(input('bbb'))\n",
    "if ((a - a1) ** 2 + (b - b1) ** 2) ** 0.5 <= c / 2 and ((a - a1) ** 2 + (b - b1) ** 2) ** 0.5 <= d / 2:\n",
    "    print ('r2 is inside r1')\n",
    "elif ((a - a1) ** 2 + (b - b1) ** 2) ** 0.5 <= c / 2 or ((a - a1) ** 2 + (b - b1) ** 2) ** 0.5 <= d / 2:\n",
    "    print('r2 overlaps r1')\n",
    "else:\n",
    "    print('r2 does not overlap r1')"
   ]
  },
  {
   "cell_type": "code",
   "execution_count": 3,
   "metadata": {},
   "outputs": [
    {
     "name": "stdout",
     "output_type": "stream",
     "text": [
      "Enter coorfinates for the three points p0,p1 and p2:1,1,5,5,2,2\n",
      "p2在线的右边\n"
     ]
    }
   ],
   "source": [
    "#测试题4.31  \n",
    "x0,y0,x1,y1,x2,y2 = eval(input('Enter coorfinates for \\\n",
    "the three points p0,p1 and p2:'))\n",
    "if ((x1 - x0) * (y2 - y0) - (x2 - x0) * (y1 - y0)) > 0:\n",
    "    print('p2在线的左边')\n",
    "elif((x1 - x0) * (y2 - y0) - (x2 - x0) * (y1 - y0)) == 0:\n",
    "    print('p2在线的右边')\n",
    "else:\n",
    "    print('p2在同一条线上')"
   ]
  },
  {
   "cell_type": "code",
   "execution_count": 38,
   "metadata": {},
   "outputs": [
    {
     "name": "stdout",
     "output_type": "stream",
     "text": [
      "aaa:31\n",
      "aaaaa\n"
     ]
    }
   ],
   "source": [
    "#测试题4.33\n",
    "a = eval(input('aaa:'))\n",
    "if 0 < a < 15:\n",
    "    print(format(a,'x'))\n",
    "else:\n",
    "    print('aaaaa')"
   ]
  },
  {
   "cell_type": "code",
   "execution_count": 8,
   "metadata": {},
   "outputs": [
    {
     "name": "stdout",
     "output_type": "stream",
     "text": [
      "Enter a decimal value (0 to 15)：5\n",
      "The hex value is 5\n"
     ]
    }
   ],
   "source": [
    "#测试题4.33\n",
    "a = eval(input('Enter a decimal value (0 to 15)：'))\n",
    "print('The hex value is',format(a,'x'))\n"
   ]
  },
  {
   "cell_type": "code",
   "execution_count": 21,
   "metadata": {},
   "outputs": [
    {
     "name": "stdout",
     "output_type": "stream",
     "text": [
      "Enter a hex character:'A'\n",
      "10\n"
     ]
    }
   ],
   "source": [
    "### 测试题4.34 提示用户输入字母？\n",
    "a = eval(input('Enter a hex character:'))\n",
    "print (int(a, 16))"
   ]
  }
 ],
 "metadata": {
  "kernelspec": {
   "display_name": "Python 3",
   "language": "python",
   "name": "python3"
  },
  "language_info": {
   "codemirror_mode": {
    "name": "ipython",
    "version": 3
   },
   "file_extension": ".py",
   "mimetype": "text/x-python",
   "name": "python",
   "nbconvert_exporter": "python",
   "pygments_lexer": "ipython3",
   "version": "3.6.7"
  }
 },
 "nbformat": 4,
 "nbformat_minor": 2
}
