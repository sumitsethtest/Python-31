{
 "cells": [
  {
   "cell_type": "markdown",
   "metadata": {},
   "source": [
    "## 文件处理\n",
    "\n",
    "这里注意的是加入with表示自动关闭文件\n",
    "\n"
   ]
  },
  {
   "cell_type": "markdown",
   "metadata": {},
   "source": [
    "### 一、打开一个文件\n",
    "open函数，python内置的函数"
   ]
  },
  {
   "cell_type": "code",
   "execution_count": 11,
   "metadata": {},
   "outputs": [
    {
     "name": "stdout",
     "output_type": "stream",
     "text": [
      "文件名： /Users/zwx/ZWXX/CS231/123.txt\n",
      "是否关闭： True\n",
      "访问模式： w\n"
     ]
    }
   ],
   "source": [
    "#打开一个文件  wb+的意思是打开一个文件用于追加，没有这个文件会创建新文件进行写入\n",
    "\n",
    "fo = open('123.txt','w')\n",
    "#abs可以查看一下文件名\n",
    "\n",
    "fo.close()\n",
    "print(\"文件名：\",fo.name) #包括路径\n",
    "print(\"是否关闭：\",fo.closed)\n",
    "print(\"访问模式：\",fo.mode)\n"
   ]
  },
  {
   "cell_type": "code",
   "execution_count": 9,
   "metadata": {},
   "outputs": [],
   "source": [
    "#close函数\n",
    "#file对象的close（）方法刷新缓冲区里任何还没有写入的信息，并关闭该文件，这之后便不能再进行写入\n",
    "fo.close()"
   ]
  },
  {
   "cell_type": "markdown",
   "metadata": {},
   "source": [
    "### 二、文件的读写操作\n"
   ]
  },
  {
   "cell_type": "markdown",
   "metadata": {},
   "source": [
    "#### write()方法\n",
    "这个方法可以将任何字符串写入一个打开的文件，需要注意的是python字符串可以是二进制数据，\n",
    "\n",
    "而不仅仅是文字。write方法不会再字符串的结尾添加换行符（\\n）"
   ]
  },
  {
   "cell_type": "code",
   "execution_count": 14,
   "metadata": {},
   "outputs": [],
   "source": [
    "f = open('123.txt','w',encoding='utf8')\n",
    "f.write(\"非常好\\n666\\ngood\") #\\n表示换行\n",
    "f.close()"
   ]
  },
  {
   "cell_type": "markdown",
   "metadata": {},
   "source": [
    "#### read()方法\n",
    "从一个打开的文件中读取一个字符串"
   ]
  },
  {
   "cell_type": "code",
   "execution_count": 17,
   "metadata": {},
   "outputs": [
    {
     "name": "stdout",
     "output_type": "stream",
     "text": [
      "读取的字符串是\n",
      " 非常好\n",
      "666\n",
      "good\n"
     ]
    }
   ],
   "source": [
    "f = open(\"123.txt\",'r+')#r+表示一个文件只用于读写，文件指针会方法文件的开头\n",
    "str = f.read()\n",
    "print(\"读取的字符串是\\n\",str)\n",
    "f.close()"
   ]
  },
  {
   "cell_type": "markdown",
   "metadata": {},
   "source": [
    "#### readline()方法\n",
    "从文件中读取单独的一行，如果返回一个空字符串，说明已经读取到最后一行"
   ]
  },
  {
   "cell_type": "code",
   "execution_count": 18,
   "metadata": {},
   "outputs": [
    {
     "name": "stdout",
     "output_type": "stream",
     "text": [
      "读取的字符串是： 非常好\n",
      "\n"
     ]
    }
   ],
   "source": [
    "f = open(\"123.txt\",'r')#以读的方式打开文件，这个是默认模式\n",
    "a = f.readline() #读取的是一行\n",
    "print(\"读取的字符串是：\",a)\n",
    "f.close()"
   ]
  },
  {
   "cell_type": "markdown",
   "metadata": {},
   "source": [
    "#### readlines（）方法\n",
    "读取的是所有行 ,返回的是一个列表值"
   ]
  },
  {
   "cell_type": "code",
   "execution_count": 19,
   "metadata": {},
   "outputs": [
    {
     "name": "stdout",
     "output_type": "stream",
     "text": [
      "输出的字符串是： ['非常好\\n', '666\\n', 'good']\n"
     ]
    }
   ],
   "source": [
    "f = open(\"123.txt\",'r')\n",
    "a = f.readlines() \n",
    "print(\"输出的字符串是：\",a)\n",
    "f.close()"
   ]
  },
  {
   "cell_type": "code",
   "execution_count": 20,
   "metadata": {},
   "outputs": [
    {
     "name": "stdout",
     "output_type": "stream",
     "text": [
      "非常好\n",
      "\n",
      "666\n",
      "\n",
      "good\n"
     ]
    }
   ],
   "source": [
    "##另一种方式是迭代一个文件对象然后读取每行\n",
    "f = open(\"123.txt\",'r')\n",
    "for line in f:\n",
    "    print(line)\n",
    "f.close()"
   ]
  },
  {
   "cell_type": "markdown",
   "metadata": {},
   "source": [
    "### 三、文件定位操作\n",
    "tell()方法告诉你文件内的当前位置，换句话说，下一次的读写会发生在文件开头这么多字节之后"
   ]
  },
  {
   "cell_type": "code",
   "execution_count": 29,
   "metadata": {},
   "outputs": [
    {
     "name": "stdout",
     "output_type": "stream",
     "text": [
      "读取的字符串是: 非常好\n",
      "666\n",
      "go\n",
      "当前文件位置： 16\n",
      "重新读取第10个字节的字符串为：， 非常好\n",
      "666\n",
      "go\n"
     ]
    }
   ],
   "source": [
    "f = open(\"123.txt\",'r+')\n",
    "a = f.read(10) #第10个字节\n",
    "print(\"读取的字符串是:\",a)\n",
    "\n",
    "#查找当前位置\n",
    "position = f.tell()\n",
    "print(\"当前文件位置：\",position) #查看这个文件中一共有多少个字节\n",
    "\n",
    "#把指针再次重新定位在文件开头\n",
    "position = f.seek(0,0)\n",
    "b = f.read(10)\n",
    "print('重新读取第10个字节的字符串为：，',b)\n",
    "f.close()"
   ]
  },
  {
   "cell_type": "markdown",
   "metadata": {},
   "source": [
    "### 四、重命名和删除文件\n",
    "python中的os模块提供了帮你执行文件处理操作的方法，比如重命名和删除文件，"
   ]
  },
  {
   "cell_type": "markdown",
   "metadata": {},
   "source": [
    "#### rename（）方法\n",
    "需要两个参数，当前文件名和新文件名"
   ]
  },
  {
   "cell_type": "code",
   "execution_count": 31,
   "metadata": {},
   "outputs": [],
   "source": [
    "import os\n",
    "os.rename('456.txt','789.txt') #因为在一个目录下，所以不用写地址"
   ]
  },
  {
   "cell_type": "markdown",
   "metadata": {},
   "source": [
    "#### remove()方法\n",
    "删除文件，需要提供要删除的文件名作为参数\n"
   ]
  },
  {
   "cell_type": "code",
   "execution_count": 37,
   "metadata": {},
   "outputs": [],
   "source": [
    "import os\n",
    " \n",
    "# 删除一个已经存在的文件f.txt。\n",
    "os.remove(\"789.txt\")"
   ]
  },
  {
   "cell_type": "markdown",
   "metadata": {},
   "source": [
    "### 目录的操作\n",
    "所有的文件都包含在不同的目录下，os模块有很多方法帮你创建，删除和更改目录"
   ]
  },
  {
   "cell_type": "markdown",
   "metadata": {},
   "source": [
    "#### mldir()方法"
   ]
  },
  {
   "cell_type": "code",
   "execution_count": 34,
   "metadata": {},
   "outputs": [],
   "source": [
    "os.mkdir('test') #也就是创建一个文件夹"
   ]
  },
  {
   "cell_type": "markdown",
   "metadata": {},
   "source": [
    "#### getcwd()方法"
   ]
  },
  {
   "cell_type": "code",
   "execution_count": 35,
   "metadata": {},
   "outputs": [
    {
     "name": "stdout",
     "output_type": "stream",
     "text": [
      "/Users/zwx/ZWXX/CS231\n"
     ]
    }
   ],
   "source": [
    "print(os.getcwd()) #给出当前目录的地址"
   ]
  },
  {
   "cell_type": "markdown",
   "metadata": {},
   "source": [
    "#### rmdir()\n"
   ]
  },
  {
   "cell_type": "code",
   "execution_count": 36,
   "metadata": {},
   "outputs": [],
   "source": [
    "#删除目录，也就是是删除刚才创建的文件夹\n",
    "os.rmdir('test')"
   ]
  },
  {
   "cell_type": "code",
   "execution_count": null,
   "metadata": {},
   "outputs": [],
   "source": []
  }
 ],
 "metadata": {
  "kernelspec": {
   "display_name": "Python 3",
   "language": "python",
   "name": "python3"
  },
  "language_info": {
   "codemirror_mode": {
    "name": "ipython",
    "version": 3
   },
   "file_extension": ".py",
   "mimetype": "text/x-python",
   "name": "python",
   "nbconvert_exporter": "python",
   "pygments_lexer": "ipython3",
   "version": "3.6.8"
  }
 },
 "nbformat": 4,
 "nbformat_minor": 2
}
