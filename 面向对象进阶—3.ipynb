{
 "cells": [
  {
   "cell_type": "markdown",
   "metadata": {},
   "source": [
    "### 静态方法 @staticmethod"
   ]
  },
  {
   "cell_type": "code",
   "execution_count": 9,
   "metadata": {},
   "outputs": [
    {
     "name": "stdout",
     "output_type": "stream",
     "text": [
      "输入2\n",
      "输入3\n",
      "输入3\n",
      "输入3\n",
      "它不是一个正方形\n"
     ]
    }
   ],
   "source": [
    " class Zheng(object):\n",
    "    def __init__(self,a,b,c,d):\n",
    "        self._a = a\n",
    "        self._b = b\n",
    "        self._c = c\n",
    "        self._d = d\n",
    "    @staticmethod\n",
    "    def yes(a,b,c,d):\n",
    "        return a == b == c ==d\n",
    "    def mian(self):\n",
    "        r = self._a * self._a\n",
    "        return r\n",
    "def main():\n",
    "    a = eval(input(\"输入\"))\n",
    "    b = eval(input(\"输入\"))\n",
    "    c = eval(input(\"输入\"))\n",
    "    d = eval(input(\"输入\"))\n",
    "    if Zheng.yes(a,b,c,d):\n",
    "        Z = Zheng(a,b,c,d)\n",
    "        print(\"它的面积是\",Z.mian())\n",
    "    else:\n",
    "        print(\"它不是一个正方形\")\n",
    "main()  \n",
    "            \n",
    "        "
   ]
  },
  {
   "cell_type": "markdown",
   "metadata": {},
   "source": [
    "###  继承类\n"
   ]
  },
  {
   "cell_type": "code",
   "execution_count": 19,
   "metadata": {},
   "outputs": [
    {
     "name": "stdout",
     "output_type": "stream",
     "text": [
      "101\n"
     ]
    }
   ],
   "source": [
    "class A(object):\n",
    "    def __init__(self,a1):\n",
    "        self.a = 1\n",
    "        self.a1 = 100\n",
    "    def sum_ (self):\n",
    "        sumq = self.a + self.a1\n",
    "        return sumq\n",
    "class B(A):\n",
    "    def __init__(self,a1,b1):\n",
    "        self.b1 = b1\n",
    "        A.__init__(self,a1)\n",
    "    def print_(self):\n",
    "        res = self.sum_()\n",
    "        print(res)\n",
    "b = B(1000,1)\n",
    "b.print_()\n",
    "    "
   ]
  },
  {
   "cell_type": "markdown",
   "metadata": {},
   "source": [
    "#### 微信"
   ]
  },
  {
   "cell_type": "code",
   "execution_count": null,
   "metadata": {},
   "outputs": [],
   "source": [
    "import matplotlib as plt\n",
    "from wxpy import *\n",
    "from matplotlib import pyplot as plt  \n",
    "from matplotlib import patches\n",
    "import numpy as np\n",
    "import time\n",
    "class WWx(object):\n",
    "    def __init__(self):\n",
    "        bot = Bot()\n",
    "        self.my_friend = bot.friends()\n",
    "    def zwx():\n",
    "        time.sleep(5)\n",
    "        a = eval(input(\"是否发送消息：\"))\n",
    "        if a == 0:\n",
    "            time.sleep(5)\n",
    "            aa = self.my_friend = bot.friends().search('名字')[0]\n",
    "            print(a)\n",
    "            b = self.my_friend.send('Hello 智障')\n",
    "            print(b)\n",
    "            c = self.my_friend.send_image('/Users/zwx/Pictures/WechatIMG1.jpeg')\n",
    "            print(c)\n",
    "        else:\n",
    "            print(\"不让输入\")\n",
    "    def number(self):\n",
    "        sex_dict = {'male': 0, 'female': 0, 'unknown': 0}\n",
    "        \n",
    "        for friend in self.my_friend:\n",
    "            # 统计性别\n",
    "            if friend.sex == 1:\n",
    "                sex_dict['male'] += 1\n",
    "            elif friend.sex == 2:\n",
    "                sex_dict['female'] += 1\n",
    "            else:\n",
    "                sex_dict['unknown'] += 1\n",
    "        return sex_dict\n",
    "    \n",
    "    def analyseSex(self):\n",
    "       \n",
    "        sex_dict = self.number()\n",
    "        print(sex_dict)\n",
    "        sexs = list(key for key, value in sex_dict.items())\n",
    "        counts = list(value for key, value in sex_dict.items())\n",
    "        colors = ['red', 'yellowgreen', 'lightskyblue']\n",
    "        plt.figure(figsize=(8, 5), dpi=80)\n",
    "        plt.axes(aspect=1)\n",
    "        plt.pie(counts,  # 性别统计结果\n",
    "                labels=sexs,  # 性别展示标签\n",
    "                colors=colors,  # 饼图区域配色\n",
    "                labeldistance=1.1,  # 标签距离圆点距离\n",
    "                shadow=False,  # 饼图是否显示阴影\n",
    "                startangle=90,  # 饼图起始角度\n",
    "                pctdistance=0.6  # 饼图区域文本距离圆点距离\n",
    "        )\n",
    "        plt.legend(loc='upper right')\n",
    "        plt.title(\"sex\")\n",
    "        plt.show()\n",
    "    def diqu(self):\n",
    "        province_dict = {'Beijing': 0, 'shanghai': 0, 'tianjin': 0, 'chongqing': 0,\n",
    "        'hebei': 0, 'shanxihei': 0, 'jilin': 0, 'liaoning': 0, 'heilong': 0,\n",
    "        'shanxi': 0, 'gansu': 0, 'qinghai': 0, 'shandong': 0, 'fujian': 0,\n",
    "        'zhejiang': 0, 'taiwan': 0, 'henan': 0, 'hubei': 0, 'hunan': 0,\n",
    "        'jiangxi': 0, 'jiangsu': 0, 'anhui': 0, 'guangdong': 0, 'hainan': 0,\n",
    "        'sichuan': 0, 'guizhou': 0, 'yunnan': 0,\n",
    "        'laojia': 0, 'xinjiang': 0, 'ningxia': 0, 'guangxi': 0, 'xizang': 0,\n",
    "        'xianggang': 0, 'aomen': 0, 'waixing': 0}\n",
    "     # 统计省份\n",
    "        for friend in self.my_friend:\n",
    "            if friend.province in province_dict.keys():\n",
    "                province_dict[str(friend.province)] += 1\n",
    "            else:\n",
    "                province_dict['waixing'] += 1\n",
    "        print(province_dict)\n",
    "        diqu = list(key for key, value in province_dict.items())\n",
    "        counts_1 = list(value for key, value in province_dict.items())\n",
    "        plt.figure(figsize=(8, 5), dpi=80)\n",
    "        plt.axes(aspect=1)\n",
    "        plt.pie(counts_1,  # 统计结果\n",
    "                labels=diqu,  # 展示标签\n",
    "                #colors=colors,  # 区域配色\n",
    "                labeldistance=1.1,  # 距离圆点距离\n",
    "                shadow=False,  # 饼图是否显示阴影\n",
    "                startangle=90,  # 饼图起始角度\n",
    "                pctdistance=0.6  # 饼图区域文本距离圆点距离\n",
    "        )\n",
    "        #plt.legend(loc='upper right')\n",
    "        plt.title(\"shengfen\")\n",
    "        plt.show()\n",
    "        \n",
    "\n",
    "Wx = WWx()\n",
    "Wx.analyseSex()\n",
    "Wx.diqu()\n",
    "    "
   ]
  },
  {
   "cell_type": "markdown",
   "metadata": {},
   "source": [
    "### @property 装饰器"
   ]
  },
  {
   "cell_type": "markdown",
   "metadata": {},
   "source": [
    "我们之前的建议是将属性命名以单下划线开头，通过这种方式来暗示属性是受保护的，不建议外界直接访问，那么如果想访问属性可以通过属性的getter（访问器）和setter（修改器）方法进行对应的操作。如果要做到这点，就可以考虑使用@property包装器来包装getter和setter方法，使得对属性的访问既安全又方便，代码如下所示。"
   ]
  },
  {
   "cell_type": "markdown",
   "metadata": {},
   "source": [
    "#### 使用装饰器的时候，需要注意：\n",
    "  #### 1. 装饰器名，函数名需要一致.\n",
    "  #### 2. property需要先声明，再写setter，顺序不能倒过来\n",
    "  ##### 3. 如果你希望一点变量只是被访问不能被修改,那么可以使用访问器@property\n",
    "  #### 4. 如果要修改访问器中的变量,可以搭建一个修改器,或者删除访问器."
   ]
  },
  {
   "cell_type": "code",
   "execution_count": 37,
   "metadata": {},
   "outputs": [
    {
     "name": "stdout",
     "output_type": "stream",
     "text": [
      "请输入邮箱:>>3456\n",
      "📮 您输入的邮箱是: 3456\n",
      "请输入您的密码:>>678\n",
      "请输入确认密码:>>678\n",
      "密码确认成功\n",
      "验证码是: 5206\n",
      "输入验证码:>>5206\n",
      "注册成功\n"
     ]
    }
   ],
   "source": [
    "import random\n",
    "import pymysql\n",
    "conn = pymysql.connect(user=\"root\",password=\"zwx123\",database=\"youxiang\",charset=\"utf8\")\n",
    "class Regist(object):\n",
    "    \"\"\"\n",
    "    Implementation resgist in 163.\n",
    "    \"\"\"\n",
    "    def account(self):\n",
    "        \"\"\"\n",
    "        Input account.\n",
    "        \"\"\"\n",
    "        # 检测邮箱的正确性.\n",
    "        # input 返回出来的是一个字符串\n",
    "        L = []\n",
    "        email = input('请输入邮箱:>>')\n",
    "        self.email=email\n",
    "        print('📮 您输入的邮箱是: %s' % email)\n",
    "        self.password()\n",
    "    def password(self):\n",
    "        \"\"\"\n",
    "        input passward,\n",
    "        \"\"\"\n",
    "        # 密码的长度必须是6-20位\n",
    "        # 密码必须含有大写小写字母以及数字.\n",
    "        for _ in range(4):\n",
    "            password_1 = input('请输入您的密码:>>')\n",
    "            password_2 = input('请输入确认密码:>>')\n",
    "            if password_1 == password_2:\n",
    "                print('密码确认成功')\n",
    "                self.verfily()\n",
    "                self.password=password_1\n",
    "                break\n",
    "            else:\n",
    "                print('两次密码不一致')\n",
    "        else:\n",
    "            print('您可能是一个机器人滚😡')\n",
    "\n",
    "    def verfily(self):\n",
    "        \n",
    "        for _ in range(3):\n",
    "            number = random.randrange(1000,9999)\n",
    "            print('验证码是: %d'%number)\n",
    "            number_2 = input('输入验证码:>>')\n",
    "            if number == int(number_2):\n",
    "                print('注册成功')\n",
    "                \n",
    "                break\n",
    "                \n",
    "            else:\n",
    "                print('验证码错误')\n",
    "        else:\n",
    "            print('机器人😡')\n",
    "    def zhuijia(self):\n",
    "        cursor = conn.cursor()\n",
    "        sql = \"INSERT INTO userinfo(name,pwd) VALUES (%s, %s);\"\n",
    "        name = [self.email]\n",
    "        pwd = [self.password]\n",
    "        # 执行SQL语句\n",
    "        cursor.execute(sql, [name, pwd])\n",
    "        conn.commit()\n",
    "        #cursor.close()\n",
    "\n",
    "def main():\n",
    "    regist = Regist()\n",
    "    regist.account()\n",
    "    regist.zhuijia()\n",
    "    \n",
    "\n",
    "main()"
   ]
  },
  {
   "cell_type": "markdown",
   "metadata": {},
   "source": [
    "### 将数据存到数据库中"
   ]
  },
  {
   "cell_type": "code",
   "execution_count": 24,
   "metadata": {},
   "outputs": [],
   "source": [
    "import pymysql\n",
    "conn = pymysql.connect(user=\"root\",password=\"zwx123\",database=\"youxiang\",charset=\"utf8\")"
   ]
  },
  {
   "cell_type": "code",
   "execution_count": 32,
   "metadata": {},
   "outputs": [],
   "source": [
    "cursor = conn.cursor()\n",
    "sql = \"INSERT INTO userinfo(name,pwd) VALUES (%s, %s);\"\n",
    "name = [\"oooooo\"]\n",
    "pwd = [888888]\n",
    "# 执行SQL语句\n",
    "q=[\"zhangsan\",'asdad']\n",
    "w=[123123,234234]\n",
    "for i in range(0,len(q)):\n",
    "    name = [q[i]]\n",
    "    pwd = [w[i]]\n",
    "    \n",
    "    cursor.execute(sql, [name, pwd])\n",
    "    conn.commit()\n",
    "#cursor.close()"
   ]
  },
  {
   "cell_type": "markdown",
   "metadata": {},
   "source": [
    "### 手机验证码短信"
   ]
  },
  {
   "cell_type": "code",
   "execution_count": null,
   "metadata": {},
   "outputs": [],
   "source": [
    "import urllib\n",
    "import http.client\n",
    "host = \"106.ihuyi.com\"\n",
    "sms_send_uri = \"/webservice/sms.php?method=Submit\"\n",
    "\n",
    "# 用户名是登录用户中心->验证码短信->产品总览->APIID\n",
    "account = \"###\"\n",
    "# 密码 查看密码请登录用户中心->验证码短信->产品总览->APIKEY\n",
    "password = \"###\"\n",
    "\n",
    "def send_sms(text, mobile):\n",
    "    params = urllib.parse.urlencode(\n",
    "        {'account': account, 'password': password, 'content': text, 'mobile': mobile, 'format': 'json'})\n",
    "    headers = {\"Content-type\": \"application/x-www-form-urlencoded\", \"Accept\": \"text/plain\"}\n",
    "    conn = http.client.HTTPConnection(host, port=80, timeout=30)\n",
    "    conn.request(\"POST\", sms_send_uri, params, headers)\n",
    "    response = conn.getresponse()\n",
    "    response_str = response.read()\n",
    "    conn.close()\n",
    "    return response_str\n",
    "\n",
    "\n",
    "#if __name__ == '__main__':\n",
    "    #需要接受短信的目标手机号\n",
    "    mobile = \"#####\"\n",
    "    #短信内容\n",
    "    \n",
    "    \n",
    "    text = \"您的验证码是：121254。请不要把验证码泄露给其他人。\"\n",
    "    ret = send_sms(text, mobile).decode('utf-8')\n",
    "    import json\n",
    "    ret = json.loads(ret)\n",
    "    print(ret)"
   ]
  }
 ],
 "metadata": {
  "kernelspec": {
   "display_name": "Python 3",
   "language": "python",
   "name": "python3"
  },
  "language_info": {
   "codemirror_mode": {
    "name": "ipython",
    "version": 3
   },
   "file_extension": ".py",
   "mimetype": "text/x-python",
   "name": "python",
   "nbconvert_exporter": "python",
   "pygments_lexer": "ipython3",
   "version": "3.6.8"
  }
 },
 "nbformat": 4,
 "nbformat_minor": 2
}
