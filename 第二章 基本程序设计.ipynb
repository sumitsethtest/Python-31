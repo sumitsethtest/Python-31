{
 "cells": [
  {
   "cell_type": "markdown",
   "metadata": {},
   "source": [
    "### 从控制台读取输入\n",
    "\n",
    "如果输入的值是一个字符串，可以使用eval函数来求值转换为一个数值"
   ]
  },
  {
   "cell_type": "code",
   "execution_count": 13,
   "metadata": {},
   "outputs": [
    {
     "data": {
      "text/plain": [
       "17"
      ]
     },
     "execution_count": 13,
     "metadata": {},
     "output_type": "execute_result"
    }
   ],
   "source": [
    "sum = 1 + 2 + 3 \\#注意后面不能有空格，有空格会报语法错误\n",
    "    + 5+6\n",
    "sum"
   ]
  },
  {
   "cell_type": "code",
   "execution_count": 3,
   "metadata": {},
   "outputs": [
    {
     "name": "stdout",
     "output_type": "stream",
     "text": [
      "python is fun\n"
     ]
    }
   ],
   "source": [
    "print('python is fun')"
   ]
  },
  {
   "cell_type": "code",
   "execution_count": 8,
   "metadata": {
    "scrolled": true
   },
   "outputs": [
    {
     "name": "stdout",
     "output_type": "stream",
     "text": [
      "welcome to python\n"
     ]
    }
   ],
   "source": [
    "print('welcome to python')"
   ]
  },
  {
   "cell_type": "code",
   "execution_count": 9,
   "metadata": {},
   "outputs": [
    {
     "name": "stdout",
     "output_type": "stream",
     "text": [
      "python is fun\n",
      "welcome to python\n"
     ]
    }
   ],
   "source": [
    "print('python is fun')\n",
    "print('welcome to python')"
   ]
  },
  {
   "cell_type": "code",
   "execution_count": 5,
   "metadata": {},
   "outputs": [
    {
     "name": "stdout",
     "output_type": "stream",
     "text": [
      "3.5 *4/2-2.5 is\n"
     ]
    }
   ],
   "source": [
    "print('3.5 *4/2-2.5 is')"
   ]
  },
  {
   "cell_type": "code",
   "execution_count": 3,
   "metadata": {},
   "outputs": [
    {
     "name": "stdout",
     "output_type": "stream",
     "text": [
      "-28.0\n"
     ]
    }
   ],
   "source": [
    "print((3.5*4)/(2-2.5))"
   ]
  },
  {
   "cell_type": "code",
   "execution_count": 5,
   "metadata": {},
   "outputs": [
    {
     "name": "stdout",
     "output_type": "stream",
     "text": [
      "45\n"
     ]
    }
   ],
   "source": [
    "a = 1 + 2 + 3 + 4 + 5 + 6 + 7 + 8 + 9\n",
    "print(a)"
   ]
  },
  {
   "cell_type": "markdown",
   "metadata": {},
   "source": [
    "#  代表注释"
   ]
  },
  {
   "cell_type": "markdown",
   "metadata": {},
   "source": [
    "#一个运算符的两边都应该添加一个空格  代码规范"
   ]
  },
  {
   "cell_type": "markdown",
   "metadata": {},
   "source": [
    "第二章：基本程序设计"
   ]
  },
  {
   "cell_type": "markdown",
   "metadata": {},
   "source": [
    "pip3 install requests #安装"
   ]
  },
  {
   "cell_type": "markdown",
   "metadata": {},
   "source": [
    "编写一个简单的程序 （求圆的面积）"
   ]
  },
  {
   "cell_type": "code",
   "execution_count": 6,
   "metadata": {},
   "outputs": [
    {
     "name": "stdout",
     "output_type": "stream",
     "text": [
      "The area for the circle of radius 20 is 1256.636\n"
     ]
    }
   ],
   "source": [
    "radius = 20\n",
    "area = radius * radius * 3.14159\n",
    "print('The area for the circle of radius 20 is 1256.636')"
   ]
  },
  {
   "cell_type": "code",
   "execution_count": 7,
   "metadata": {},
   "outputs": [
    {
     "name": "stdout",
     "output_type": "stream",
     "text": [
      "area is 11.0\n"
     ]
    }
   ],
   "source": [
    "width = 5.5\n",
    "height = 2\n",
    "print('area is' , width * height)"
   ]
  },
  {
   "cell_type": "code",
   "execution_count": 10,
   "metadata": {},
   "outputs": [],
   "source": [
    "miles = 100"
   ]
  },
  {
   "cell_type": "code",
   "execution_count": 11,
   "metadata": {},
   "outputs": [],
   "source": [
    "kilometers = miles * 1.609"
   ]
  },
  {
   "cell_type": "code",
   "execution_count": 12,
   "metadata": {},
   "outputs": [
    {
     "name": "stdout",
     "output_type": "stream",
     "text": [
      "160.9\n"
     ]
    }
   ],
   "source": [
    "print(kilometers)"
   ]
  },
  {
   "cell_type": "code",
   "execution_count": 13,
   "metadata": {},
   "outputs": [
    {
     "name": "stdout",
     "output_type": "stream",
     "text": [
      "160.9\n"
     ]
    }
   ],
   "source": [
    "miles = 100\n",
    "kilometers = miles * 1.609\n",
    "print(kilometers)"
   ]
  },
  {
   "cell_type": "markdown",
   "metadata": {},
   "source": [
    " ### 2.3 从控制台读取输入\n",
    " \n",
    " eval函数输入的是字符串"
   ]
  },
  {
   "cell_type": "code",
   "execution_count": 2,
   "metadata": {
    "scrolled": false
   },
   "outputs": [
    {
     "name": "stdout",
     "output_type": "stream",
     "text": [
      "Enter a value:啊啊啊\n"
     ]
    }
   ],
   "source": [
    "variable = input('Enter a value:')#函数接受一个标准输入数据，返回为 string 类型。"
   ]
  },
  {
   "cell_type": "code",
   "execution_count": 14,
   "metadata": {
    "scrolled": true
   },
   "outputs": [
    {
     "name": "stdout",
     "output_type": "stream",
     "text": [
      "Enter a value for radius:123\n",
      "123 <class 'int'>\n"
     ]
    }
   ],
   "source": [
    "variable = input('Enter a value for radius:')#variable变量\n",
    "print(eval(variable),type(eval(variable)))\n",
    "#eval输入的值是一个字符串，可以用这个函数来求值并转换为一个数值"
   ]
  },
  {
   "cell_type": "code",
   "execution_count": 7,
   "metadata": {
    "scrolled": true
   },
   "outputs": [
    {
     "name": "stdout",
     "output_type": "stream",
     "text": [
      "Enter a value for radius:123\n",
      "The area for the circle of radius 123 is 47529.11511\n"
     ]
    }
   ],
   "source": [
    "radius = eval(input(\"Enter a value for radius:\"))\n",
    "area = radius * radius * 3.14159\n",
    "print(\"The area for the circle of radius\",radius,\"is\",area)"
   ]
  },
  {
   "cell_type": "markdown",
   "metadata": {},
   "source": [
    "is(比对地址） 和 == 的区别"
   ]
  },
  {
   "cell_type": "code",
   "execution_count": 13,
   "metadata": {},
   "outputs": [
    {
     "name": "stdout",
     "output_type": "stream",
     "text": [
      "Enter a value for radius: 123\n"
     ]
    }
   ],
   "source": [
    "s = input('Enter a value for radius: ')\n",
    "radius = eval(s)"
   ]
  },
  {
   "cell_type": "code",
   "execution_count": 16,
   "metadata": {},
   "outputs": [
    {
     "name": "stdout",
     "output_type": "stream",
     "text": [
      "Enter the first number: 1\n",
      "Enter the second number: 2\n",
      "Enter the third number: 3\n",
      "The average of 1 2 3 is 2.0\n"
     ]
    }
   ],
   "source": [
    "number1 = eval(input('Enter the first number: '))\n",
    "number2 = eval(input('Enter the second number: '))\n",
    "number3 = eval(input('Enter the third number: '))\n",
    "average = (number1 + number2 +number3) / 3\n",
    "print('The average of',number1,number2,number3,'is',average)\n",
    "#输入的还可以是小数，输入不是数字，就会报错。"
   ]
  },
  {
   "cell_type": "code",
   "execution_count": 18,
   "metadata": {
    "scrolled": true
   },
   "outputs": [
    {
     "name": "stdout",
     "output_type": "stream",
     "text": [
      "Enter the first number: 1.2\n",
      "Enter the second number: 1.4\n",
      "Enter the third number: 1.5\n",
      "The average of 1.2 1.4 1.5 is 1.3666666666666665\n"
     ]
    }
   ],
   "source": [
    "number1 = eval(input('Enter the first number: '))\n",
    "number2 = eval(input('Enter the second number: '))\n",
    "number3 = eval(input('Enter the third number: '))\n",
    "average = (number1 + number2 +number3) / 3\n",
    "print('The average of',number1,number2,number3,'is',average)\n",
    "#输入的可以是小数，输入不是数字，就会报错。"
   ]
  },
  {
   "cell_type": "code",
   "execution_count": null,
   "metadata": {},
   "outputs": [],
   "source": [
    "为嘛还得加一个input"
   ]
  },
  {
   "cell_type": "markdown",
   "metadata": {},
   "source": [
    "两个print 隐式回合"
   ]
  },
  {
   "cell_type": "code",
   "execution_count": 24,
   "metadata": {},
   "outputs": [
    {
     "name": "stdout",
     "output_type": "stream",
     "text": [
      "21\n"
     ]
    }
   ],
   "source": [
    "sum = 1 + 2 + 3 + 4 + \\   #  ‘\\’ 连续符号的意思，来告诉这条语句要继续到下一行\n",
    "    5 + 6\n",
    "print(sum)"
   ]
  },
  {
   "cell_type": "code",
   "execution_count": 25,
   "metadata": {},
   "outputs": [
    {
     "name": "stdout",
     "output_type": "stream",
     "text": [
      "21\n"
     ]
    }
   ],
   "source": [
    "sum = 1 + 2 + 3 + 4 + 5 + 6 #与上面的等价，只不过是换行与不换行的区别\n",
    "print(sum)"
   ]
  },
  {
   "cell_type": "markdown",
   "metadata": {},
   "source": [
    "前几章大多数程序都会实现三个步骤：输入，处理，输出，他们被称为IPO。"
   ]
  },
  {
   "cell_type": "markdown",
   "metadata": {},
   "source": [
    "2.4 标识符 （出现在程序中的事物的名称）不能是关键字\n",
    "\n",
    "1、 由字母，数字，下划线（_）构成的字符序列\n",
    "           \n",
    "2、 必须是由字母，数字，下划线（_）开头的，不能以数字开头\n",
    "           \n",
    "3、 标识符不能是关键字\n",
    "           \n",
    "4、 标识符可以为任意长度\n",
    "\n",
    "注意：Python区分大小写"
   ]
  },
  {
   "cell_type": "markdown",
   "metadata": {},
   "source": [
    "###  2.5 变量、赋值语句和赋值表达式"
   ]
  },
  {
   "cell_type": "code",
   "execution_count": 15,
   "metadata": {},
   "outputs": [
    {
     "name": "stdout",
     "output_type": "stream",
     "text": [
      "The area is 3.14159 for radius 1.0\n",
      "The area is 12.56636 for radius 2.0\n"
     ]
    }
   ],
   "source": [
    "radius = 1.0\n",
    "area = radius * radius *3.14159\n",
    "print('The area is',area, 'for radius',radius)\n",
    "radius = 2.0\n",
    "area = radius * radius * 3.14159\n",
    "print('The area is',area,'for radius',radius)"
   ]
  },
  {
   "cell_type": "code",
   "execution_count": 14,
   "metadata": {},
   "outputs": [],
   "source": [
    "expression=1\n",
    "variable =1"
   ]
  },
  {
   "cell_type": "code",
   "execution_count": 1,
   "metadata": {},
   "outputs": [
    {
     "name": "stdout",
     "output_type": "stream",
     "text": [
      "3.14159\n"
     ]
    }
   ],
   "source": [
    "y = 1\n",
    "radius = 1.0\n",
    "x = 5 * (3 / 2) + 3 * 2\n",
    "x = y + 1\n",
    "area = radius * radius * 3.14159\n",
    "print(area)\n"
   ]
  },
  {
   "cell_type": "markdown",
   "metadata": {},
   "source": [
    "i = j = k = 1     #多个赋值简便操作\n",
    "等于 i =1\n",
    "    j =1\n",
    "    k = 1"
   ]
  },
  {
   "cell_type": "code",
   "execution_count": 4,
   "metadata": {},
   "outputs": [
    {
     "name": "stdout",
     "output_type": "stream",
     "text": [
      "2\n"
     ]
    }
   ],
   "source": [
    "count = 1\n",
    "count = count + 1\n",
    "print (count)#count必须要赋值（变量在表达式中使用前必须要赋值）"
   ]
  },
  {
   "cell_type": "markdown",
   "metadata": {},
   "source": [
    "2.6 同时赋值"
   ]
  },
  {
   "cell_type": "code",
   "execution_count": 7,
   "metadata": {},
   "outputs": [
    {
     "name": "stdout",
     "output_type": "stream",
     "text": [
      "1\n"
     ]
    }
   ],
   "source": [
    "x = 1\n",
    "y = 2\n",
    "temp = x #加入一个中间变量（最常见的方法）\n",
    "x = y\n",
    "y = temp\n",
    "print (y)"
   ]
  },
  {
   "cell_type": "code",
   "execution_count": 9,
   "metadata": {},
   "outputs": [
    {
     "name": "stdout",
     "output_type": "stream",
     "text": [
      "1\n"
     ]
    }
   ],
   "source": [
    "x = 1\n",
    "y = 2\n",
    "x,y = y, x #可以简化上个代码的操作，将x y 变量值互换\n",
    "print (y)"
   ]
  },
  {
   "cell_type": "code",
   "execution_count": 13,
   "metadata": {},
   "outputs": [
    {
     "name": "stdout",
     "output_type": "stream",
     "text": [
      "enter a number:1,2,3\n",
      "The average of 1 2 3 is 2.0\n"
     ]
    }
   ],
   "source": [
    "a,b,c = eval(input('enter a number:'))\n",
    "average = (a + b + c) / 3\n",
    "print(\"The average of\",a,b,c,\"is\",average)"
   ]
  },
  {
   "cell_type": "code",
   "execution_count": 15,
   "metadata": {},
   "outputs": [
    {
     "name": "stdout",
     "output_type": "stream",
     "text": [
      "2 1\n"
     ]
    }
   ],
   "source": [
    "a = 1\n",
    "b = 2\n",
    "a,b = b,a\n",
    "print(a,b)"
   ]
  },
  {
   "cell_type": "markdown",
   "metadata": {},
   "source": [
    "### 2.7 定名常量\n",
    "\n",
    "表示定值的标识符。\n",
    "\n",
    "好处：\n",
    "\n",
    "1、不必为使用一个值多次而重复性输入\n",
    "\n",
    "2、如果修改常量的值，只需要在源代码中修改即可\n",
    "\n",
    "3、描述性名字会提高程序的易读性（意思就是你把那个名字区分大小写之后比较好找）"
   ]
  },
  {
   "cell_type": "code",
   "execution_count": 4,
   "metadata": {},
   "outputs": [
    {
     "name": "stdout",
     "output_type": "stream",
     "text": [
      "The area for the circle of radius 20 is 1256.636\n"
     ]
    }
   ],
   "source": [
    "radius = 20\n",
    "PI = 3.14159 #定义一个pai值\n",
    "area = radius * radius * PI\n",
    "print('The area for the circle of radius',radius,'is',area)"
   ]
  },
  {
   "cell_type": "markdown",
   "metadata": {},
   "source": [
    "2.8 数值数据类型和运算符\n",
    "Python中有两种数值类型（整数和浮点数）其实就是整数和小数\n"
   ]
  },
  {
   "cell_type": "markdown",
   "metadata": {},
   "source": [
    "运算符"
   ]
  },
  {
   "cell_type": "code",
   "execution_count": 1,
   "metadata": {},
   "outputs": [
    {
     "data": {
      "text/plain": [
       "2.0"
      ]
     },
     "execution_count": 1,
     "metadata": {},
     "output_type": "execute_result"
    }
   ],
   "source": [
    "4/2"
   ]
  },
  {
   "cell_type": "code",
   "execution_count": 5,
   "metadata": {},
   "outputs": [
    {
     "data": {
      "text/plain": [
       "0.5"
      ]
     },
     "execution_count": 5,
     "metadata": {},
     "output_type": "execute_result"
    }
   ],
   "source": [
    "2/4  #产生一个浮点数结果"
   ]
  },
  {
   "cell_type": "code",
   "execution_count": 8,
   "metadata": {},
   "outputs": [
    {
     "data": {
      "text/plain": [
       "2"
      ]
     },
     "execution_count": 8,
     "metadata": {},
     "output_type": "execute_result"
    }
   ],
   "source": [
    "5//2 #执行整数除法并产生一个整数的结果，任何小数都会被舍掉"
   ]
  },
  {
   "cell_type": "code",
   "execution_count": 9,
   "metadata": {},
   "outputs": [
    {
     "data": {
      "text/plain": [
       "0"
      ]
     },
     "execution_count": 9,
     "metadata": {},
     "output_type": "execute_result"
    }
   ],
   "source": [
    "2//4 #执行整数除法并产生一个整数的结果，任何小数都会被舍掉"
   ]
  },
  {
   "cell_type": "code",
   "execution_count": 2,
   "metadata": {},
   "outputs": [
    {
     "name": "stdout",
     "output_type": "stream",
     "text": [
      "Enter an integer for seconds:22\n",
      "22 second is 0 minutes and 22 seconds\n"
     ]
    }
   ],
   "source": [
    "seconds = eval(input('Enter an integer for seconds:'))\n",
    "minutes = seconds // 60\n",
    "remainingSeconds = seconds % 60\n",
    "print(seconds,\"second is\",minutes,\"minutes and\",remainingSeconds,\"seconds\")"
   ]
  },
  {
   "cell_type": "code",
   "execution_count": 16,
   "metadata": {},
   "outputs": [
    {
     "ename": "OverflowError",
     "evalue": "(34, 'Numerical result out of range')",
     "output_type": "error",
     "traceback": [
      "\u001b[0;31m---------------------------------------------------------------------------\u001b[0m",
      "\u001b[0;31mOverflowError\u001b[0m                             Traceback (most recent call last)",
      "\u001b[0;32m<ipython-input-16-dc3a2bc5d673>\u001b[0m in \u001b[0;36m<module>\u001b[0;34m()\u001b[0m\n\u001b[0;32m----> 1\u001b[0;31m \u001b[0;36m245.0\u001b[0m \u001b[0;34m**\u001b[0m \u001b[0;36m1000\u001b[0m \u001b[0;31m#被赋值太大不能存入内存中，会导致数据溢出\u001b[0m\u001b[0;34m\u001b[0m\u001b[0;34m\u001b[0m\u001b[0m\n\u001b[0m",
      "\u001b[0;31mOverflowError\u001b[0m: (34, 'Numerical result out of range')"
     ]
    }
   ],
   "source": [
    "245.0 ** 1000 #被赋值太大不能存入内存中，会导致数据溢出"
   ]
  },
  {
   "cell_type": "code",
   "execution_count": 19,
   "metadata": {},
   "outputs": [
    {
     "data": {
      "text/plain": [
       "25"
      ]
     },
     "execution_count": 19,
     "metadata": {},
     "output_type": "execute_result"
    }
   ],
   "source": [
    "5 ** 2"
   ]
  },
  {
   "cell_type": "code",
   "execution_count": 26,
   "metadata": {},
   "outputs": [
    {
     "name": "stdout",
     "output_type": "stream",
     "text": [
      "6\n"
     ]
    }
   ],
   "source": [
    "a = 25 // 4\n",
    "print (a)\n"
   ]
  },
  {
   "cell_type": "code",
   "execution_count": 17,
   "metadata": {},
   "outputs": [
    {
     "name": "stdout",
     "output_type": "stream",
     "text": [
      "星期日\n"
     ]
    }
   ],
   "source": [
    "a = \"星期二\"\n",
    "i = ['星期一','星期二','星期三','星期四','星期五','星期六','星期日']\n",
    "for a in i:\n",
    "    i = 100\n",
    "print(a)\n"
   ]
  },
  {
   "cell_type": "code",
   "execution_count": 5,
   "metadata": {},
   "outputs": [
    {
     "data": {
      "text/plain": [
       "False"
      ]
     },
     "execution_count": 5,
     "metadata": {},
     "output_type": "execute_result"
    }
   ],
   "source": [
    "(2 + 100) % 7 is 2"
   ]
  },
  {
   "cell_type": "markdown",
   "metadata": {},
   "source": [
    "### 2.9 计算表达式和运算符优先级"
   ]
  },
  {
   "cell_type": "markdown",
   "metadata": {},
   "source": [
    "检查点的题 4 / 3(r + 34) - 9(a + bc) + (3 + d(2 + a)/a + bd)"
   ]
  },
  {
   "cell_type": "code",
   "execution_count": 18,
   "metadata": {},
   "outputs": [
    {
     "data": {
      "text/plain": [
       "4"
      ]
     },
     "execution_count": 18,
     "metadata": {},
     "output_type": "execute_result"
    }
   ],
   "source": [
    "#2.15\n",
    "m = 1\n",
    "r = 2\n",
    "c = m * r * r\n",
    "c"
   ]
  },
  {
   "cell_type": "markdown",
   "metadata": {},
   "source": [
    "2.10 增强型赋值运算符 （运算符和赋值运算符组合成一起构成简便运算符）"
   ]
  },
  {
   "cell_type": "markdown",
   "metadata": {},
   "source": [
    "count = count + 1\n",
    "count +=1 #他们两个是等价的，其他运算符一样"
   ]
  },
  {
   "cell_type": "markdown",
   "metadata": {},
   "source": [
    "### 2.11 类型转换和四舍五入\n",
    "两个函数，四舍五入用round（） int无论小数点后是几，都保留前面的数"
   ]
  },
  {
   "cell_type": "code",
   "execution_count": 19,
   "metadata": {},
   "outputs": [
    {
     "data": {
      "text/plain": [
       "5"
      ]
     },
     "execution_count": 19,
     "metadata": {},
     "output_type": "execute_result"
    }
   ],
   "source": [
    "value = 5.4\n",
    "int(value)"
   ]
  },
  {
   "cell_type": "code",
   "execution_count": 20,
   "metadata": {},
   "outputs": [
    {
     "data": {
      "text/plain": [
       "5"
      ]
     },
     "execution_count": 20,
     "metadata": {},
     "output_type": "execute_result"
    }
   ],
   "source": [
    "value = 5.6\n",
    "int(value)"
   ]
  },
  {
   "cell_type": "code",
   "execution_count": 35,
   "metadata": {},
   "outputs": [
    {
     "data": {
      "text/plain": [
       "6"
      ]
     },
     "execution_count": 35,
     "metadata": {},
     "output_type": "execute_result"
    }
   ],
   "source": [
    "value = 5.6\n",
    "round(value)"
   ]
  },
  {
   "cell_type": "code",
   "execution_count": 36,
   "metadata": {},
   "outputs": [
    {
     "data": {
      "text/plain": [
       "34"
      ]
     },
     "execution_count": 36,
     "metadata": {},
     "output_type": "execute_result"
    }
   ],
   "source": [
    "int('34')  #可以将整数字符串转换为整数 eval函数也可以"
   ]
  },
  {
   "cell_type": "code",
   "execution_count": 5,
   "metadata": {},
   "outputs": [
    {
     "data": {
      "text/plain": [
       "34"
      ]
     },
     "execution_count": 5,
     "metadata": {},
     "output_type": "execute_result"
    }
   ],
   "source": [
    "eval('34')  "
   ]
  },
  {
   "cell_type": "code",
   "execution_count": 38,
   "metadata": {},
   "outputs": [
    {
     "data": {
      "text/plain": [
       "7"
      ]
     },
     "execution_count": 38,
     "metadata": {},
     "output_type": "execute_result"
    }
   ],
   "source": [
    "int('007')\n",
    "#eval(007)就会导致错误，eval（）也可以用来计算表达式"
   ]
  },
  {
   "cell_type": "code",
   "execution_count": 11,
   "metadata": {
    "scrolled": true
   },
   "outputs": [
    {
     "name": "stdout",
     "output_type": "stream",
     "text": [
      "Enter purchase amount:111\n",
      "<class 'float'>\n",
      "sales tax is 6.66\n"
     ]
    }
   ],
   "source": [
    "purchaseAmount = eval(input('Enter purchase amount:'))\n",
    "tax = purchaseAmount *0.06\n",
    "print(type(tax))\n",
    "print('sales tax is',int(tax * 100) / 100.0)#这个地方为啥用int不用eval\n",
    "                                  #是因为乘0.06之后前面先导出0了么"
   ]
  },
  {
   "cell_type": "markdown",
   "metadata": {},
   "source": [
    "检查点2.17  四舍五入用round  会改变"
   ]
  },
  {
   "cell_type": "code",
   "execution_count": 42,
   "metadata": {},
   "outputs": [
    {
     "name": "stdout",
     "output_type": "stream",
     "text": [
      "22\n"
     ]
    }
   ],
   "source": [
    "print(eval('4*5+2'))  #int 不可以"
   ]
  },
  {
   "cell_type": "markdown",
   "metadata": {},
   "source": [
    "2.12 实例研究：显示当前时间\n",
    "编写一个显示当前GMT时间的程序"
   ]
  },
  {
   "cell_type": "code",
   "execution_count": 4,
   "metadata": {},
   "outputs": [
    {
     "name": "stdout",
     "output_type": "stream",
     "text": [
      "Current time is 16 : 5 : 12 GMT\n"
     ]
    }
   ],
   "source": [
    "import time\n",
    "currentTime = time.time()\n",
    "totalSeconds = int(currentTime)\n",
    "currentSecond = totalSeconds % 60\n",
    "totalMinutes = totalSeconds //60\n",
    "currentMinute = totalMinutes % 60\n",
    "totalHours = totalMinutes // 60\n",
    "currentHour = totalHours % 24\n",
    "print(\"Current time is\",currentHour,\":\",currentMinute,\":\",currentSecond,\"GMT\")"
   ]
  },
  {
   "cell_type": "code",
   "execution_count": 5,
   "metadata": {},
   "outputs": [
    {
     "name": "stdout",
     "output_type": "stream",
     "text": [
      "1529165175.140516\n"
     ]
    }
   ],
   "source": [
    "a= time.time()\n",
    "print(a) #返回时间不一样。书上说是从有UNIX操作系统正式发布的年份，1970年一月一，返回应该是1203183068.328"
   ]
  },
  {
   "cell_type": "code",
   "execution_count": null,
   "metadata": {},
   "outputs": [],
   "source": [
    "2.13 软件开发流程"
   ]
  },
  {
   "cell_type": "code",
   "execution_count": 7,
   "metadata": {},
   "outputs": [
    {
     "name": "stdout",
     "output_type": "stream",
     "text": [
      "Enter annual interest rate,e.g.,7.25:7.25 : 5.75\n"
     ]
    },
    {
     "ename": "SyntaxError",
     "evalue": "invalid syntax (<string>, line 1)",
     "output_type": "error",
     "traceback": [
      "\u001b[0;36m  File \u001b[0;32m\"<string>\"\u001b[0;36m, line \u001b[0;32m1\u001b[0m\n\u001b[0;31m    7.25 : 5.75\u001b[0m\n\u001b[0m         ^\u001b[0m\n\u001b[0;31mSyntaxError\u001b[0m\u001b[0;31m:\u001b[0m invalid syntax\n"
     ]
    }
   ],
   "source": [
    "annualInterRate = eval(input(\"Enter annual interest rate,e.g.,7.25:\"))\n",
    "monthlyInterRate = annualInterRate / 1200\n",
    "numberOfYears = annualInterRate /1200\n",
    "numberOfYears = eval(input(\"Enter numbers of years as an integer,e.g.,120000,95:\"))\n",
    "monthlyPayment = loanAmount * monthlyInterRate / (1-1/ (1 + monthlyInterRate)** (numberOfYears* 12))\n",
    "totalPayment = monthlyPayment * numberOfYears * 12\n",
    "print(\"the monthly payment is\",int(monthlyPayment * 100) / 100)\n",
    "print(\"The total payment is\",int(totalPayment * 100) / 100)"
   ]
  },
  {
   "cell_type": "markdown",
   "metadata": {},
   "source": [
    "2.14 计算距离 \n",
    "给出计算和显示两点之间的距离的程序"
   ]
  },
  {
   "cell_type": "code",
   "execution_count": 9,
   "metadata": {},
   "outputs": [
    {
     "name": "stdout",
     "output_type": "stream",
     "text": [
      "Enter x1 and y1 for Point 1:1,3\n",
      "Enter x1 and y1 for Point 1:1,4\n",
      "The distance between the two points is 1.0\n"
     ]
    }
   ],
   "source": [
    "x1,y1 = eval(input(\"Enter x1 and y1 for Point 1:\"))\n",
    "x2,y2 = eval(input(\"Enter x1 and y1 for Point 1:\"))\n",
    "distance = ((x1 - x2) * (x1 - x2) + (y1 - y2) * (y1 - y2)) ** 0.5\n",
    "print(\"The distance between the two points is\",distance)"
   ]
  },
  {
   "cell_type": "markdown",
   "metadata": {},
   "source": [
    "编程题，课后题"
   ]
  },
  {
   "cell_type": "code",
   "execution_count": 10,
   "metadata": {},
   "outputs": [
    {
     "name": "stdout",
     "output_type": "stream",
     "text": [
      "Enter a degree in Celsius:43\n",
      "43 Celsius is 109.4 fahrenheit\n"
     ]
    }
   ],
   "source": [
    "celsius = eval(input(\"Enter a degree in Celsius:\"))\n",
    "fahrenheit = (9 / 5 ) * celsius + 32\n",
    "print(celsius,\"Celsius is\", fahrenheit, \"fahrenheit\")"
   ]
  },
  {
   "cell_type": "code",
   "execution_count": 12,
   "metadata": {},
   "outputs": [
    {
     "name": "stdout",
     "output_type": "stream",
     "text": [
      "Enter the radius and length of a cylinder:5.5\n",
      "Enter the radius and length of a cylinder:12\n",
      "The area is 94.985\n",
      "The volume is 1139.82\n"
     ]
    }
   ],
   "source": [
    "radius = eval(input(\"Enter the radius and length of a cylinder:\"))\n",
    "length = eval(input(\"Enter the radius and length of a cylinder:\"))\n",
    "area = radius *radius * 3.14 #那个π系统自带？？\n",
    "volume = area * length\n",
    "print(\"The area is\",area)\n",
    "print(\"The volume is\",volume)"
   ]
  },
  {
   "cell_type": "code",
   "execution_count": 14,
   "metadata": {},
   "outputs": [
    {
     "name": "stdout",
     "output_type": "stream",
     "text": [
      "Enter a value for feet:16.5\n",
      "16.5 feet is 5.0325 meters\n"
     ]
    }
   ],
   "source": [
    "a = eval(input(\"Enter a value for feet:\"))\n",
    "b = a * 0.305\n",
    "print(a,\"feet is\",b,\"meters\")  #命名成a，b没四儿吧"
   ]
  },
  {
   "cell_type": "code",
   "execution_count": 15,
   "metadata": {},
   "outputs": [
    {
     "name": "stdout",
     "output_type": "stream",
     "text": [
      "Enter a value in pounds:55.5\n",
      "55.5 pounds is 25.197 kilograms\n"
     ]
    }
   ],
   "source": [
    "a = eval(input(\"Enter a value in pounds:\"))\n",
    "b = a * 0.454\n",
    "print(a,\"pounds is\",b,\"kilograms\") "
   ]
  },
  {
   "cell_type": "code",
   "execution_count": 16,
   "metadata": {},
   "outputs": [
    {
     "name": "stdout",
     "output_type": "stream",
     "text": [
      "Enter the subtotal ans a gratuity rate:15.69\n",
      "Enter the subtotal ans a gratuity rate:15\n",
      "The gratutity is 0.15 and the total is 15.84\n"
     ]
    }
   ],
   "source": [
    "a = eval(input(\"Enter the subtotal ans a gratuity rate:\"))\n",
    "b = eval(input(\"Enter the subtotal ans a gratuity rate:\"))\n",
    "c = b / 100\n",
    "d = c + a\n",
    "print(\"The gratutity is\",c,\"and the total is\",d) #为啥数他就对不上呢\n"
   ]
  },
  {
   "cell_type": "code",
   "execution_count": 49,
   "metadata": {},
   "outputs": [
    {
     "name": "stdout",
     "output_type": "stream",
     "text": [
      "Enter a number between 0 and 1000:999\n",
      "9 9 9\n",
      "The sum of the digits is: 27\n"
     ]
    }
   ],
   "source": [
    "a = eval(input(\"Enter a number between 0 and 1000:\"))\n",
    "b = a % 10\n",
    "c = a // 100\n",
    "d = a // 10 %10\n",
    "print(b,c,d)\n",
    "# e = int(str(d)[1])\n",
    "# print(e)\n",
    "f = b + c + d\n",
    "print('The sum of the digits is:',f)"
   ]
  },
  {
   "cell_type": "code",
   "execution_count": 25,
   "metadata": {},
   "outputs": [
    {
     "name": "stdout",
     "output_type": "stream",
     "text": [
      "Enter a number minutes:1000000000\n",
      "1000000000 minutes is approximately 1902 years and 694230.0 days\n"
     ]
    }
   ],
   "source": [
    "a = eval(input(\"Enter a number minutes:\"))\n",
    "b = int(a / 525600)\n",
    "c = (a - (a % 525600) ) / 1440\n",
    "print(a,\"minutes is approximately\",b,\"years and\",c,\"days\")"
   ]
  },
  {
   "cell_type": "code",
   "execution_count": 26,
   "metadata": {},
   "outputs": [
    {
     "name": "stdout",
     "output_type": "stream",
     "text": [
      "aaa55.5\n",
      "bbb3.5\n",
      "ccc10.5\n",
      "ddd 1625484.0\n"
     ]
    }
   ],
   "source": [
    "a = eval(input(\"aaa:\"))\n",
    "b = eval(input(\"bbb:\"))\n",
    "c = eval(input(\"ccc:\"))\n",
    "q = (a * (c - b)) * 4184\n",
    "print(\"ddd\",q)"
   ]
  },
  {
   "cell_type": "code",
   "execution_count": 34,
   "metadata": {},
   "outputs": [
    {
     "name": "stdout",
     "output_type": "stream",
     "text": [
      "aaa:5.3\n",
      "bbb:6\n",
      "fff is -5.567068455881625\n"
     ]
    }
   ],
   "source": [
    "a = eval(input(\"aaa:\"))\n",
    "b = eval(input(\"bbb:\"))\n",
    "q = 35.74 + 0.6215*a - 35.75 * b **0.16 + 0.4275*a*(b**0.16)\n",
    "print(\"fff is\",q)"
   ]
  },
  {
   "cell_type": "code",
   "execution_count": 38,
   "metadata": {},
   "outputs": [
    {
     "name": "stdout",
     "output_type": "stream",
     "text": [
      "aaa:60\n",
      "bbb:3.5\n",
      "fff is 514.2857142857143\n"
     ]
    }
   ],
   "source": [
    "a = eval(input(\"aaa:\"))\n",
    "b = eval(input(\"bbb:\"))\n",
    "c = (a * a) / (2 * b)\n",
    "print(\"fff is\",c)"
   ]
  },
  {
   "cell_type": "code",
   "execution_count": 48,
   "metadata": {},
   "outputs": [
    {
     "name": "stdout",
     "output_type": "stream",
     "text": [
      "aaa:1000\n",
      "bbb:0.0425\n",
      "0.003541666666666667\n",
      "ccc:5\n",
      "fff is  808.8639197424636\n"
     ]
    }
   ],
   "source": [
    "a = eval(input(\"aaa:\"))\n",
    "b = eval(input(\"bbb:\"))/100/12\n",
    "print(b)\n",
    "c = eval(input(\"ccc:\"))\n",
    "g = c * 12\n",
    "d = a / ((1 + b) ** g)\n",
    "print(\"fff is \",d)"
   ]
  },
  {
   "cell_type": "code",
   "execution_count": 50,
   "metadata": {},
   "outputs": [
    {
     "name": "stdout",
     "output_type": "stream",
     "text": [
      "a     b     a ** b\n",
      "1     2     1\n",
      "2     3     8\n",
      "3     4     81\n",
      "4     5     1024\n",
      "5     6     15625\n"
     ]
    }
   ],
   "source": [
    "print(\"a     b     a ** b\")\n",
    "print(\"1     2     1\")\n",
    "print(\"2     3     8\")\n",
    "print(\"3     4     81\")\n",
    "print(\"4     5     1024\")\n",
    "print(\"5     6     15625\")"
   ]
  },
  {
   "cell_type": "code",
   "execution_count": 52,
   "metadata": {},
   "outputs": [
    {
     "name": "stdout",
     "output_type": "stream",
     "text": [
      "aaa:5213\n",
      "kkk is 3 1 2 5\n"
     ]
    }
   ],
   "source": [
    "a = eval(input(\"aaa:\"))\n",
    "b = a % 10\n",
    "c = a // 10 % 10\n",
    "d = a // 100 % 10\n",
    "e = a // 1000\n",
    "print (\"kkk is\",b,c,d,e)"
   ]
  },
  {
   "cell_type": "code",
   "execution_count": 57,
   "metadata": {},
   "outputs": [
    {
     "name": "stdout",
     "output_type": "stream",
     "text": [
      "aaa:1.5\n",
      "a:-3.4\n",
      "bbb:4.6\n",
      "b:5\n",
      "ccc:9.5\n",
      "c:-3.4\n",
      "fff is (2.176594974159004e-15+35.54649349795279j)\n"
     ]
    }
   ],
   "source": [
    "a = eval(input(\"aaa:\"))\n",
    "a1 = eval(input(\"a:\")) #求距离的公式\n",
    "side1 = a1 - a\n",
    "b = eval(input(\"bbb:\"))\n",
    "b1 = eval(input(\"b:\"))\n",
    "side2 = b1 - b\n",
    "c = eval(input(\"ccc:\"))\n",
    "c1 = eval(input(\"c:\"))\n",
    "side3 = c1 - c \n",
    "s = (side1 + side2 + side3)/2\n",
    "area = (s*(s - side1)*(s - side2)*(s - side3)) ** 0.5\n",
    "print(\"fff is\",area)"
   ]
  },
  {
   "cell_type": "code",
   "execution_count": 59,
   "metadata": {},
   "outputs": [
    {
     "name": "stdout",
     "output_type": "stream",
     "text": [
      "aaa:5.5\n",
      "ccc is 78.59180539343781\n"
     ]
    }
   ],
   "source": [
    "a = eval(input(\"aaa:\"))\n",
    "b = (3*((3)**0.5)/2) * a * a\n",
    "print (\"ccc is\",b)"
   ]
  },
  {
   "cell_type": "code",
   "execution_count": 60,
   "metadata": {},
   "outputs": [
    {
     "name": "stdout",
     "output_type": "stream",
     "text": [
      "aaa:5.5\n",
      "aaa:50.9\n",
      "aaa:4.5\n",
      "10.088888888888889\n"
     ]
    }
   ],
   "source": [
    "a = eval(input(\"aaa:\"))\n",
    "a1 = eval(input(\"aaa:\"))\n",
    "a2 = eval(input(\"aaa:\"))\n",
    "b = (a1-a) / a2\n",
    "print (b)"
   ]
  },
  {
   "cell_type": "code",
   "execution_count": 62,
   "metadata": {},
   "outputs": [
    {
     "name": "stdout",
     "output_type": "stream",
     "text": [
      "aaa:95.5\n",
      "aaa:50\n",
      "34.10871758661417\n"
     ]
    }
   ],
   "source": [
    "a = eval(input(\"aaa:\"))\n",
    "a1 = eval(input(\"aaa:\"))\n",
    "b = a * 0.45359237\n",
    "c = a1 * 0.0254\n",
    "d = b / c\n",
    "print(d)"
   ]
  },
  {
   "cell_type": "code",
   "execution_count": 64,
   "metadata": {},
   "outputs": [
    {
     "name": "stdout",
     "output_type": "stream",
     "text": [
      "aaa:1000\n",
      "aaa:4.25\n",
      "aaa:1\n",
      "1043.337716309617\n"
     ]
    }
   ],
   "source": [
    "a = eval(input(\"aaa:\"))\n",
    "a1 = eval(input(\"aaa:\"))/100/12\n",
    "a2 = eval(input(\"aaa:\"))\n",
    "b = a * ((1 + a1) ** (a2 * 12))\n",
    "print (b)"
   ]
  },
  {
   "cell_type": "code",
   "execution_count": 65,
   "metadata": {},
   "outputs": [
    {
     "name": "stdout",
     "output_type": "stream",
     "text": [
      "aaa:1000\n",
      "aaa:3.5\n",
      "2.916666666666667\n"
     ]
    }
   ],
   "source": [
    "a = eval(input(\"aaa:\"))\n",
    "a1 = eval(input(\"aaa:\"))\n",
    "b = a * (a1 / 1200)\n",
    "print(b)"
   ]
  },
  {
   "cell_type": "code",
   "execution_count": 66,
   "metadata": {},
   "outputs": [
    {
     "name": "stdout",
     "output_type": "stream",
     "text": [
      "aaa:100\n",
      "608.8181155768638\n"
     ]
    }
   ],
   "source": [
    "a = eval(input(\"aaa:\"))\n",
    "b = a * (1 + 0.00417)\n",
    "c = (a + b) * (1 + 0.00417)\n",
    "d = (a + c) * (1 + 0.00417)\n",
    "e = (a + d) * (1 + 0.00417)\n",
    "f = (a + e) * (1 + 0.00417)\n",
    "g = (a + f) * (1 + 0.00417)\n",
    "print(g)"
   ]
  },
  {
   "cell_type": "code",
   "execution_count": 10,
   "metadata": {},
   "outputs": [
    {
     "name": "stdout",
     "output_type": "stream",
     "text": [
      "aaa:44\n",
      "3242649241\n"
     ]
    }
   ],
   "source": [
    "a = eval(input(\"aaa:\"))\n",
    "b = a * 365 * 24 * 60 * 60\n",
    "c = b // 7\n",
    "d = b // 13\n",
    "e = b // 45\n",
    "f = c + e  + 3120324986 - d\n",
    "print(f)"
   ]
  }
 ],
 "metadata": {
  "kernelspec": {
   "display_name": "Python 3",
   "language": "python",
   "name": "python3"
  },
  "language_info": {
   "codemirror_mode": {
    "name": "ipython",
    "version": 3
   },
   "file_extension": ".py",
   "mimetype": "text/x-python",
   "name": "python",
   "nbconvert_exporter": "python",
   "pygments_lexer": "ipython3",
   "version": "3.6.7"
  }
 },
 "nbformat": 4,
 "nbformat_minor": 2
}
