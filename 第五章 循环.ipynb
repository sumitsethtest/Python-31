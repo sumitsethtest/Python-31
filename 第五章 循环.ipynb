{
 "cells": [
  {
   "cell_type": "markdown",
   "metadata": {},
   "source": [
    "### 5.1 引言\n",
    "\n",
    "可以使用while循环来告诉程序重复执行语句"
   ]
  },
  {
   "cell_type": "code",
   "execution_count": 2,
   "metadata": {
    "collapsed": true
   },
   "outputs": [
    {
     "name": "stdout",
     "output_type": "stream",
     "text": [
      "Programming is fun!\n",
      "Programming is fun!\n",
      "Programming is fun!\n",
      "Programming is fun!\n",
      "Programming is fun!\n",
      "Programming is fun!\n",
      "Programming is fun!\n",
      "Programming is fun!\n",
      "Programming is fun!\n",
      "Programming is fun!\n"
     ]
    }
   ],
   "source": [
    "count = 0\n",
    "while count < 10:\n",
    "    print('Programming is fun!')\n",
    "    count = count + 1"
   ]
  },
  {
   "cell_type": "markdown",
   "metadata": {},
   "source": [
    "循环是一种控制一个语句块重复执行的结构。Python 有两种循环的语句：for循环和while循环。\n",
    "while循环是一种条件控制循环，它是根据一个条件的真假来控制的。\n",
    "for循环是一种计数器控制循环，它会重复特定的次数。"
   ]
  },
  {
   "cell_type": "markdown",
   "metadata": {},
   "source": [
    "5.2 while循环"
   ]
  },
  {
   "cell_type": "code",
   "execution_count": 3,
   "metadata": {},
   "outputs": [
    {
     "name": "stdout",
     "output_type": "stream",
     "text": [
      "sum is 45\n"
     ]
    }
   ],
   "source": [
    "sum  = 0\n",
    "i= 1\n",
    "while i < 10:\n",
    "    sum = sum + i\n",
    "    i = i + 1\n",
    "print('sum is',sum)"
   ]
  },
  {
   "cell_type": "code",
   "execution_count": 5,
   "metadata": {},
   "outputs": [
    {
     "name": "stdout",
     "output_type": "stream",
     "text": [
      "what is3-0?8\n",
      "wrong anwser.try again. what is3-0?9\n",
      "wrong anwser.try again. what is3-0?3\n",
      "you got it\n"
     ]
    }
   ],
   "source": [
    "#程序清单5-1  \n",
    "import random\n",
    "number1 = random.randint(0,9)\n",
    "number2 = random.randint(0,9)\n",
    "if number1 < number2:\n",
    "    number1,number2 = number2,number1\n",
    "answer = eval(input('what is' + str(number1) + '-' + str(number2) + '?'))\n",
    "while number1 - number2 != answer:\n",
    "    answer = eval(input('wrong anwser.try again. what is' +  str(number1) + '-' + str(number2) + '?'))\n",
    "print('you got it')"
   ]
  },
  {
   "cell_type": "markdown",
   "metadata": {},
   "source": [
    "5.2.1 实例研究：猜数字"
   ]
  },
  {
   "cell_type": "code",
   "execution_count": 6,
   "metadata": {},
   "outputs": [
    {
     "name": "stdout",
     "output_type": "stream",
     "text": [
      "Enter your guess:50\n",
      "Your guess is too high\n"
     ]
    }
   ],
   "source": [
    "import random\n",
    "number = random.randint(0,100)\n",
    "guess = eval(input('Enter your guess:'))\n",
    "if guess == number:\n",
    "    print('Yes,the number is',number)\n",
    "elif guess > number:\n",
    "    print('Your guess is too high')\n",
    "else:\n",
    "    print('Your guess is too low')"
   ]
  },
  {
   "cell_type": "code",
   "execution_count": 8,
   "metadata": {},
   "outputs": [
    {
     "name": "stdout",
     "output_type": "stream",
     "text": [
      "Enter your guess:99\n",
      "Enter your guess:77\n",
      "Your guess is too high\n",
      "Enter your guess:76\n",
      "Your guess is too high\n",
      "Enter your guess:44\n",
      "Your guess is too high\n",
      "Enter your guess:3\n",
      "Your guess is too high\n",
      "Enter your guess:1\n",
      "Yes,the number is 1\n"
     ]
    }
   ],
   "source": [
    "#程序清单5-2\n",
    "import random\n",
    "number = random.randint(0,100)\n",
    "guess = eval(input('Enter your guess:'))\n",
    "while guess != number:\n",
    "    guess = eval(input('Enter your guess:'))\n",
    "    if guess == number:\n",
    "        print('Yes,the number is',number)\n",
    "    elif guess > number:\n",
    "        print('Your guess is too high')\n",
    "    else:\n",
    "        print('Your guess is too low')"
   ]
  },
  {
   "cell_type": "code",
   "execution_count": 11,
   "metadata": {},
   "outputs": [
    {
     "name": "stdout",
     "output_type": "stream",
     "text": [
      "Guess a magic number between 0 and 100\n",
      "Enter your guess:6\n",
      "Your guess is too low\n",
      "Enter your guess:55\n",
      "Your guess is too low\n",
      "Enter your guess:77\n",
      "Your guess is too high\n",
      "Enter your guess:66\n",
      "Your guess is too low\n",
      "Enter your guess:70\n",
      "Your guess is too high\n",
      "Enter your guess:67\n",
      "Yes,the number is 67\n"
     ]
    }
   ],
   "source": [
    "#程序清单5-3\n",
    "import random\n",
    "number = random.randint(0,100)\n",
    "print('Guess a magic number between 0 and 100')\n",
    "guess = -1 #为了避免将它初始化为一个0到100的数字，因为那可能就是要猜测的数字\n",
    "while guess != number:\n",
    "    guess = eval(input('Enter your guess:'))\n",
    "    if guess == number:\n",
    "        print('Yes,the number is',number)\n",
    "    elif guess > number:\n",
    "        print('Your guess is too high')\n",
    "    else:\n",
    "        print('Your guess is too low')"
   ]
  },
  {
   "cell_type": "markdown",
   "metadata": {},
   "source": [
    "5.2.2 循环设计策略\n",
    "第一步：确认需要循环的语句\n",
    "第二步：把这些语句包裹在一个循环\n",
    "第三步：编写循环继续条件并且添加合适的语句控制循环"
   ]
  },
  {
   "cell_type": "markdown",
   "metadata": {},
   "source": [
    "5.2.3 实例研究：多道减法题测验"
   ]
  },
  {
   "cell_type": "code",
   "execution_count": 2,
   "metadata": {},
   "outputs": [
    {
     "name": "stdout",
     "output_type": "stream",
     "text": [
      "what is3-2?1\n",
      "you are correct!\n",
      "what is7-5?2\n",
      "you are correct!\n",
      "what is3-2?1\n",
      "you are correct!\n",
      "what is7-2?5\n",
      "you are correct!\n",
      "what is6-5?1\n",
      "you are correct!\n",
      "Correct count is 5 out of 5 \n",
      "Text time is 11 seconds\n"
     ]
    }
   ],
   "source": [
    "#程序清单5-4\n",
    "import random\n",
    "import time\n",
    "correctCount = 0\n",
    "count = 0\n",
    "NUMBER_OF_QUESTIONS = 5\n",
    "startTime = time.time()\n",
    "while count < NUMBER_OF_QUESTIONS:\n",
    "    number1 = random.randint(0,9)\n",
    "    number2 = random.randint(0,9)\n",
    "    if number1 < number2:\n",
    "        number1,number2 = number2,number1\n",
    "    answer = eval(input('what is' + str(number1) + '-' + str(number2) + '?'))\n",
    "    if number1 - number2 == answer: #为什么用elif不可以\n",
    "        print('you are correct!')\n",
    "        correctCount +=1\n",
    "    else:\n",
    "        print('Your answer is wrong.\\n',number1,'-',number2,'is',number - number2)\n",
    "    count +=1\n",
    "endTime = time.time()\n",
    "textTime = int(endTime - startTime)\n",
    "print('Correct count is',correctCount,'out of',NUMBER_OF_QUESTIONS,'\\nText time is',textTime,'seconds')\n",
    "        "
   ]
  },
  {
   "cell_type": "markdown",
   "metadata": {},
   "source": [
    "5.2.4 根据用户确认控制循环"
   ]
  },
  {
   "cell_type": "markdown",
   "metadata": {},
   "source": [
    "5.2.5 使用哨兵值控制循环\n",
    "指派一个特殊的输入值，这个值被称为哨兵值，它表明输入的结束。使用哨兵值控制循环的这种方式被称作步哨式控制。"
   ]
  },
  {
   "cell_type": "code",
   "execution_count": 8,
   "metadata": {},
   "outputs": [
    {
     "name": "stdout",
     "output_type": "stream",
     "text": [
      "Enter an integer (the input ends  if it is 0):2\n",
      "Enter an integer(the input ends  if it is 0):3\n",
      "Enter an integer(the input ends  if it is 0):4\n",
      "Enter an integer(the input ends  if it is 0):5\n",
      "Enter an integer(the input ends  if it is 0):0\n",
      "The sum is 14\n"
     ]
    }
   ],
   "source": [
    "#程序清单5-5\n",
    "data = eval(input('Enter an integer (the input ends '+' if it is 0):'))\n",
    "sum =  0\n",
    "while data !=0:\n",
    "    sum += data\n",
    "    data = eval(input('Enter an integer(the input ends '+' if it is 0):'))\n",
    "print('The sum is',sum)"
   ]
  },
  {
   "cell_type": "markdown",
   "metadata": {},
   "source": [
    "5.2.6输入输出重定向"
   ]
  },
  {
   "cell_type": "markdown",
   "metadata": {},
   "source": [
    "检查点\n",
    "5.1 A处一直为true  B处有时为true有时为false  C处一直为false\n",
    "5.2 产生的随机数可能是0，循环无法运行\n",
    "5.3 无数次没有输出结果，无数次没有输出结果，四次 输出结果为2,4,6,8\n",
    "5.4 死循环，死循环，对齐方式。\n",
    "5.5 max is 5"
   ]
  },
  {
   "cell_type": "code",
   "execution_count": 12,
   "metadata": {},
   "outputs": [
    {
     "name": "stdout",
     "output_type": "stream",
     "text": [
      "2\n",
      "4\n",
      "6\n",
      "8\n"
     ]
    }
   ],
   "source": [
    "i = 1 # 检查点5.3\n",
    "while  i < 10:\n",
    "    if i % 2 == 0:\n",
    "        print(i)\n",
    "    i += 1"
   ]
  },
  {
   "cell_type": "code",
   "execution_count": 13,
   "metadata": {},
   "outputs": [
    {
     "name": "stdout",
     "output_type": "stream",
     "text": [
      "Enter an integer:2\n",
      "Enter an integer:3\n",
      "Enter an integer:4\n",
      "Enter an integer:5\n",
      "Enter an integer:0\n",
      "max is 5\n",
      "number 0\n"
     ]
    }
   ],
   "source": [
    "number = eval(input('Enter an integer:')) # 检查点5.5\n",
    "max = number\n",
    "while number != 0:\n",
    "    number = eval(input('Enter an integer:'))\n",
    "    if number > max:\n",
    "        max = number\n",
    "print('max is',max)\n",
    "print('number',number)"
   ]
  },
  {
   "cell_type": "markdown",
   "metadata": {},
   "source": [
    "5.3 for 循环\n",
    "循环通过一个序列中的每个值来进行迭代。\n",
    "这种类型的循环被称为计数器控制的循环。\n",
    "range(a，b)函数返回一系列连续整数。"
   ]
  },
  {
   "cell_type": "code",
   "execution_count": 17,
   "metadata": {},
   "outputs": [
    {
     "name": "stdout",
     "output_type": "stream",
     "text": [
      "4\n",
      "5\n",
      "6\n",
      "7\n"
     ]
    }
   ],
   "source": [
    "for i in range(4,8): #左闭右开\n",
    "    print(i)"
   ]
  },
  {
   "cell_type": "code",
   "execution_count": 19,
   "metadata": {},
   "outputs": [
    {
     "name": "stdout",
     "output_type": "stream",
     "text": [
      "0\n",
      "1\n",
      "2\n",
      "3\n"
     ]
    }
   ],
   "source": [
    "for i in range(4):\n",
    "    print(i)"
   ]
  },
  {
   "cell_type": "code",
   "execution_count": 21,
   "metadata": {},
   "outputs": [
    {
     "name": "stdout",
     "output_type": "stream",
     "text": [
      "3\n",
      "5\n",
      "7\n"
     ]
    }
   ],
   "source": [
    "for i in range(3,9,2): #range(a,b,k) 第一个数是a，b是界限值，k是步长\n",
    "    print(i)"
   ]
  },
  {
   "cell_type": "code",
   "execution_count": 22,
   "metadata": {},
   "outputs": [
    {
     "name": "stdout",
     "output_type": "stream",
     "text": [
      "5\n",
      "4\n",
      "3\n",
      "2\n"
     ]
    }
   ],
   "source": [
    "for i in range(5,1,-1):\n",
    "    print(i)"
   ]
  },
  {
   "cell_type": "code",
   "execution_count": 25,
   "metadata": {},
   "outputs": [
    {
     "name": "stdout",
     "output_type": "stream",
     "text": [
      "Enter an integer:2\n",
      "Enter an integer:3\n",
      "Enter an integer:4\n",
      "Enter an integer:5\n",
      "Enter an integer:0\n",
      "sum is 14\n",
      "count is 4\n"
     ]
    }
   ],
   "source": [
    "#检查点5.6 \n",
    "number = 0\n",
    "sum = 0\n",
    "for count in range(5):\n",
    "    number = eval(input('Enter an integer:'))\n",
    "    sum += number\n",
    "print('sum is',sum)\n",
    "print('count is',count)"
   ]
  },
  {
   "cell_type": "markdown",
   "metadata": {},
   "source": [
    "检查点5.7\n",
    "可以，for循环更加简洁和可实现性，编译器可以比while循环更高效的执行。"
   ]
  },
  {
   "cell_type": "code",
   "execution_count": 27,
   "metadata": {},
   "outputs": [
    {
     "name": "stdout",
     "output_type": "stream",
     "text": [
      "500500\n"
     ]
    }
   ],
   "source": [
    "#检查点5.8\n",
    "i = 0\n",
    "sum = 0\n",
    "while i < 1001:\n",
    "    sum = sum + i\n",
    "    i +=1\n",
    "print(sum)"
   ]
  },
  {
   "cell_type": "code",
   "execution_count": 31,
   "metadata": {},
   "outputs": [
    {
     "name": "stdout",
     "output_type": "stream",
     "text": [
      "49995000\n"
     ]
    }
   ],
   "source": [
    "#检查点5.9\n",
    "sum = 0\n",
    "for i in range(10000):\n",
    "    sum += i\n",
    "print(sum)"
   ]
  },
  {
   "cell_type": "markdown",
   "metadata": {},
   "source": [
    "#检查点5.10\n",
    " n次，n次，n-5次，（n-5)/3\n",
    " "
   ]
  },
  {
   "cell_type": "markdown",
   "metadata": {},
   "source": [
    "5.4 嵌套循环\n",
    "嵌套循环是一个外层循环和一个或多个内层循环构成。"
   ]
  },
  {
   "cell_type": "code",
   "execution_count": 4,
   "metadata": {},
   "outputs": [
    {
     "name": "stdout",
     "output_type": "stream",
     "text": [
      "     Multiplication Table\n",
      "      1   2   3   4   5   6   7   8   9\n",
      "---------------------------------------\n",
      "1 |   1   2   3   4   5   6   7   8   9\n",
      "2 |   2   4   6   8  10  12  14  16  18\n",
      "3 |   3   6   9  12  15  18  21  24  27\n",
      "4 |   4   8  12  16  20  24  28  32  36\n",
      "5 |   5  10  15  20  25  30  35  40  45\n",
      "6 |   6  12  18  24  30  36  42  48  54\n",
      "7 |   7  14  21  28  35  42  49  56  63\n",
      "8 |   8  16  24  32  40  48  56  64  72\n",
      "9 |   9  18  27  36  45  54  63  72  81\n"
     ]
    }
   ],
   "source": [
    "#程序清单5-6显示乘法口诀表的程序\n",
    "print('     Multiplication Table')\n",
    "print('   ',end = '')\n",
    "for j in range(1,10):\n",
    "    print('  ',j,end = '')\n",
    "print()\n",
    "print('---------------------------------------')\n",
    "for i in range(1,10):\n",
    "    print(i,'|',end = '')\n",
    "    for j in range(1,10):\n",
    "        print(format(i * j,'4d'),end = '')\n",
    "    print()"
   ]
  },
  {
   "cell_type": "markdown",
   "metadata": {},
   "source": [
    "5.5 最小数值错误\n",
    "在循环继续条件中使用浮点数可能会导致数值错误。"
   ]
  },
  {
   "cell_type": "code",
   "execution_count": 47,
   "metadata": {},
   "outputs": [
    {
     "name": "stdout",
     "output_type": "stream",
     "text": [
      "the sum is 49.50000000000003\n"
     ]
    }
   ],
   "source": [
    "sum = 0\n",
    "i = 0.01\n",
    "while i <= 1.0:\n",
    "    sum += i\n",
    "    i = i + 0.01\n",
    "print('the sum is',sum)"
   ]
  },
  {
   "cell_type": "code",
   "execution_count": 50,
   "metadata": {},
   "outputs": [
    {
     "name": "stdout",
     "output_type": "stream",
     "text": [
      "the sum is 50.50000000000003\n"
     ]
    }
   ],
   "source": [
    "sum = 0\n",
    "count = 0\n",
    "i = 0.01\n",
    "while count < 100:\n",
    "    sum += i\n",
    "    i = i + 0.01\n",
    "    count += 1\n",
    "print('the sum is',sum)"
   ]
  },
  {
   "cell_type": "code",
   "execution_count": 51,
   "metadata": {},
   "outputs": [
    {
     "name": "stdout",
     "output_type": "stream",
     "text": [
      "the sum is 50.50000000000003\n"
     ]
    }
   ],
   "source": [
    "sum = 0\n",
    "i = 0.01\n",
    "for count in range(100):\n",
    "    sum += i\n",
    "    i = i + 0.01\n",
    "print('the sum is',sum)"
   ]
  },
  {
   "cell_type": "code",
   "execution_count": 54,
   "metadata": {},
   "outputs": [
    {
     "name": "stdout",
     "output_type": "stream",
     "text": [
      "Enter first integer:125\n",
      "Enter second integer:2525\n",
      "The greatest common divisor for 125 and 2525 is 25\n"
     ]
    }
   ],
   "source": [
    "#5.6 实例研究，找出最大公约数\n",
    "n1 = eval(input('Enter first integer:'))\n",
    "n2 = eval(input('Enter second integer:'))\n",
    "gcd = 1\n",
    "k = 2\n",
    "while k <= n1 and k <= n2:\n",
    "    if n1 % k == 0 and n2 % k == 0:\n",
    "        gcd = k\n",
    "    k += 1\n",
    "print('The greatest common divisor for',n1,'and',n2,'is',gcd)"
   ]
  },
  {
   "cell_type": "code",
   "execution_count": 57,
   "metadata": {},
   "outputs": [
    {
     "name": "stdout",
     "output_type": "stream",
     "text": [
      "Tuition will be doubled in 11 years\n",
      "Tuition will be $21048.52 in 11 years\n"
     ]
    }
   ],
   "source": [
    "#5.6.2 预测未来学费\n",
    "year = 0\n",
    "tuition = 10000\n",
    "while tuition < 20000:\n",
    "    year += 1\n",
    "    tuition = tuition * 1.07\n",
    "print('Tuition will be doubled in',year,'years')\n",
    "print('Tuition will be $' + format(tuition,'.2f'),'in',year,'years')"
   ]
  },
  {
   "cell_type": "code",
   "execution_count": 58,
   "metadata": {},
   "outputs": [
    {
     "name": "stdout",
     "output_type": "stream",
     "text": [
      "pi is 3.1422\n"
     ]
    }
   ],
   "source": [
    "#5.6.3 蒙特卡罗模拟\n",
    "import random\n",
    "NUMBER_OF_TETALS = 1000000\n",
    "numberOfHits = 0\n",
    "for i in range(NUMBER_OF_TETALS):\n",
    "    x = random.random() * 2 - 1\n",
    "    y = random.random() * 2 - 1\n",
    "    if x * x + y * y <= 1:\n",
    "         numberOfHits += 1\n",
    "pi = 4 * numberOfHits / NUMBER_OF_TETALS\n",
    "print('pi is',pi)"
   ]
  },
  {
   "cell_type": "markdown",
   "metadata": {},
   "source": [
    "5.7 关键字break 和 continue\n",
    "提供了另一种控制循环的方式\n",
    "break来立即终止循环"
   ]
  },
  {
   "cell_type": "code",
   "execution_count": 59,
   "metadata": {},
   "outputs": [
    {
     "name": "stdout",
     "output_type": "stream",
     "text": [
      "The number is 14\n",
      "The sum is 105\n"
     ]
    }
   ],
   "source": [
    "sum = 0\n",
    "number = 0\n",
    "while number < 20:\n",
    "    number += 1\n",
    "    sum += number\n",
    "    if sum >= 100:\n",
    "        break\n",
    "print('The number is',number)\n",
    "print('The sum is',sum)"
   ]
  },
  {
   "cell_type": "code",
   "execution_count": 60,
   "metadata": {},
   "outputs": [
    {
     "name": "stdout",
     "output_type": "stream",
     "text": [
      "the sum is 189\n"
     ]
    }
   ],
   "source": [
    "sum = 0\n",
    "number = 0\n",
    "while number < 20:\n",
    "    number += 1\n",
    "    if number == 10 or number == 11:\n",
    "        continue #退出一次迭代\n",
    "    sum += number\n",
    "print('the sum is',sum)"
   ]
  },
  {
   "cell_type": "markdown",
   "metadata": {},
   "source": [
    "检查点5.13\n",
    "a：break语句会跳出整个循环，结果是1\n",
    "b：continue语句只会退出语句的当前迭代"
   ]
  },
  {
   "cell_type": "code",
   "execution_count": 63,
   "metadata": {},
   "outputs": [
    {
     "name": "stdout",
     "output_type": "stream",
     "text": [
      "the first 50 prime numbers are\n",
      "    2    3    5    7   11   13   17   19   23   29\n",
      "   31   37   41   43   47   53   59   61   67   71\n",
      "   73   79   83   89   97  101  103  107  109  113\n",
      "  127  131  137  139  149  151  157  163  167  173\n",
      "  179  181  191  193  197  199  211  223  227  229\n"
     ]
    }
   ],
   "source": [
    "#5.8 显示素数\n",
    "NUMBER_OF_PRIMES = 50\n",
    "NUMBER_OF_PRIMES_PER_LINE = 10\n",
    "count = 0\n",
    "number = 2\n",
    "print('the first 50 prime numbers are')\n",
    "while count < NUMBER_OF_PRIMES:\n",
    "    isPrime = True\n",
    "    divisor = 2\n",
    "    while divisor <= number / 2:\n",
    "        if number % divisor == 0:\n",
    "            isPrime = False\n",
    "            break\n",
    "        divisor += 1\n",
    "    if isPrime:\n",
    "        count += 1\n",
    "        print(format(number,'5d'),end = '')\n",
    "        if count % NUMBER_OF_PRIMES_PER_LINE == 0:\n",
    "            print()\n",
    "    number += 1"
   ]
  },
  {
   "cell_type": "code",
   "execution_count": 81,
   "metadata": {},
   "outputs": [
    {
     "name": "stdout",
     "output_type": "stream",
     "text": [
      "Enter an integer,the input ends if it is 0:4\n",
      "Enter an integer,the input ends if it is 0:5\n",
      "Enter an integer,the input ends if it is 0:6\n",
      "Enter an integer,the input ends if it is 0:0\n",
      "the number of positives is 2\n",
      "the number of negatives is 0\n",
      "the total is\n",
      "the average is\n"
     ]
    }
   ],
   "source": [
    "#编程题5.1\n",
    "a = eval(input('Enter an integer,the input ends if it is 0:'))\n",
    "b = 0\n",
    "c = 0\n",
    "while a != 0:\n",
    "    a = eval(input('Enter an integer,the input ends if it is 0:'))\n",
    "    if a > 0:\n",
    "        b = b + 1\n",
    "    elif a < 0:\n",
    "        c = c + 1\n",
    "print('the number of positives is',b)\n",
    "print('the number of negatives is',c)\n",
    "print('the total is',)\n",
    "print('the average is')"
   ]
  },
  {
   "cell_type": "code",
   "execution_count": 82,
   "metadata": {},
   "outputs": [
    {
     "name": "stdout",
     "output_type": "stream",
     "text": [
      "what is12+13?25\n",
      "you are correct!\n",
      "what is12+8?20\n",
      "you are correct!\n",
      "what is2+1?3\n",
      "you are correct!\n",
      "what is14+11?25\n",
      "you are correct!\n",
      "what is5+2?7\n",
      "you are correct!\n",
      "Correct count is 5 out of 5 \n",
      "Text time is 16 seconds\n"
     ]
    }
   ],
   "source": [
    "#编程题5.2\n",
    "import random\n",
    "import time\n",
    "correctCount = 0\n",
    "count = 0\n",
    "NUMBER_OF_QUESTIONS = 5\n",
    "startTime = time.time()\n",
    "while count < NUMBER_OF_QUESTIONS:\n",
    "    number1 = random.randint(1,15)\n",
    "    number2 = random.randint(1,15)\n",
    "    answer = eval(input('what is' + str(number1) + '+' + str(number2) + '?'))\n",
    "    if number1 + number2 == answer: #为什么用elif不可以\n",
    "        print('you are correct!')\n",
    "        correctCount +=1\n",
    "    else:\n",
    "        print('Your answer is wrong.\\n',number1,'+',number2,'is',number1 - number2)\n",
    "    count +=1\n",
    "endTime = time.time()\n",
    "textTime = int(endTime - startTime)\n",
    "print('Correct count is',correctCount,'out of',NUMBER_OF_QUESTIONS,'\\nText time is',textTime,'seconds')\n",
    "        "
   ]
  },
  {
   "cell_type": "code",
   "execution_count": 5,
   "metadata": {
    "collapsed": true
   },
   "outputs": [
    {
     "name": "stdout",
     "output_type": "stream",
     "text": [
      "      公斤       磅     \n",
      "1 |            2.2\n",
      "3 |            6.6\n",
      "5 |            11.0\n",
      "7 |            15.4\n",
      "9 |            19.8\n",
      "11 |            24.2\n",
      "13 |            28.6\n",
      "15 |            33.0\n",
      "17 |            37.4\n",
      "19 |            41.8\n",
      "21 |            46.2\n",
      "23 |            50.6\n",
      "25 |            55.0\n",
      "27 |            59.4\n",
      "29 |            63.8\n",
      "31 |            68.2\n",
      "33 |            72.6\n",
      "35 |            77.0\n",
      "37 |            81.4\n",
      "39 |            85.8\n",
      "41 |            90.2\n",
      "43 |            94.6\n",
      "45 |            99.0\n",
      "47 |            103.4\n",
      "49 |            107.8\n",
      "51 |            112.2\n",
      "53 |            116.6\n",
      "55 |            121.0\n",
      "57 |            125.4\n",
      "59 |            129.8\n",
      "61 |            134.2\n",
      "63 |            138.6\n",
      "65 |            143.0\n",
      "67 |            147.4\n",
      "69 |            151.8\n",
      "71 |            156.2\n",
      "73 |            160.6\n",
      "75 |            165.0\n",
      "77 |            169.4\n",
      "79 |            173.8\n",
      "81 |            178.2\n",
      "83 |            182.6\n",
      "85 |            187.0\n",
      "87 |            191.4\n",
      "89 |            195.8\n",
      "91 |            200.2\n",
      "93 |            204.6\n",
      "95 |            209.0\n",
      "97 |            213.4\n",
      "99 |            217.8\n",
      "101 |            222.2\n",
      "103 |            226.6\n",
      "105 |            231.0\n",
      "107 |            235.4\n",
      "109 |            239.8\n",
      "111 |            244.2\n",
      "113 |            248.6\n",
      "115 |            253.0\n",
      "117 |            257.4\n",
      "119 |            261.8\n",
      "121 |            266.2\n",
      "123 |            270.6\n",
      "125 |            275.0\n",
      "127 |            279.4\n",
      "129 |            283.8\n",
      "131 |            288.2\n",
      "133 |            292.6\n",
      "135 |            297.0\n",
      "137 |            301.4\n",
      "139 |            305.8\n",
      "141 |            310.2\n",
      "143 |            314.6\n",
      "145 |            319.0\n",
      "147 |            323.4\n",
      "149 |            327.8\n",
      "151 |            332.2\n",
      "153 |            336.6\n",
      "155 |            341.0\n",
      "157 |            345.4\n",
      "159 |            349.8\n",
      "161 |            354.2\n",
      "163 |            358.6\n",
      "165 |            363.0\n",
      "167 |            367.4\n",
      "169 |            371.8\n",
      "171 |            376.2\n",
      "173 |            380.6\n",
      "175 |            385.0\n",
      "177 |            389.4\n",
      "179 |            393.8\n",
      "181 |            398.2\n",
      "183 |            402.6\n",
      "185 |            407.0\n",
      "187 |            411.4\n",
      "189 |            415.8\n",
      "191 |            420.2\n",
      "193 |            424.6\n",
      "195 |            429.0\n",
      "197 |            433.4\n",
      "199 |            437.8\n"
     ]
    }
   ],
   "source": [
    "#编程题5.3\n",
    "print('      公斤       磅     ')\n",
    "for i in range(1,200,2):\n",
    "    print(i,'|',end = '')   \n",
    "    print('           ',format(i * 2.2,'.1f'))"
   ]
  },
  {
   "cell_type": "code",
   "execution_count": 49,
   "metadata": {},
   "outputs": [
    {
     "name": "stdout",
     "output_type": "stream",
     "text": [
      "---------------------------------\n",
      "    英里                公里\n",
      "---------------------------------\n",
      "       1            1.609\n",
      "       2            3.218\n",
      "       3            4.827\n",
      "       4            6.436\n",
      "       5            8.045\n",
      "       6            9.654\n",
      "       7            11.263\n",
      "       8            12.872\n",
      "       9            14.481\n",
      "       10            16.090\n"
     ]
    }
   ],
   "source": [
    "#编程题5.4\n",
    "print('---------------------------------')\n",
    "print('    英里                公里')\n",
    "print('---------------------------------')\n",
    "for i in range(1,11):\n",
    "    print('      ',i,end = '')\n",
    "    print('           ',format(i * 1.609,'.3f'))"
   ]
  },
  {
   "cell_type": "code",
   "execution_count": 78,
   "metadata": {
    "collapsed": true
   },
   "outputs": [
    {
     "name": "stdout",
     "output_type": "stream",
     "text": [
      "---------------------------------\n",
      " 公斤       磅        公斤       磅\n",
      "---------------------------------\n",
      "  1    2.2\n",
      "  3    6.6\n",
      "  5    11.0\n",
      "  7    15.4\n",
      "  9    19.8\n",
      "  11    24.2\n",
      "  13    28.6\n",
      "  15    33.0\n",
      "  17    37.4\n",
      "  19    41.8\n",
      "  21    46.2\n",
      "  23    50.6\n",
      "  25    55.0\n",
      "  27    59.4\n",
      "  29    63.8\n",
      "  31    68.2\n",
      "  33    72.6\n",
      "  35    77.0\n",
      "  37    81.4\n",
      "  39    85.8\n",
      "  41    90.2\n",
      "  43    94.6\n",
      "  45    99.0\n",
      "  47    103.4\n",
      "  49    107.8\n",
      "  51    112.2\n",
      "  53    116.6\n",
      "  55    121.0\n",
      "  57    125.4\n",
      "  59    129.8\n",
      "  61    134.2\n",
      "  63    138.6\n",
      "  65    143.0\n",
      "  67    147.4\n",
      "  69    151.8\n",
      "  71    156.2\n",
      "  73    160.6\n",
      "  75    165.0\n",
      "  77    169.4\n",
      "  79    173.8\n",
      "  81    178.2\n",
      "  83    182.6\n",
      "  85    187.0\n",
      "  87    191.4\n",
      "  89    195.8\n",
      "  91    200.2\n",
      "  93    204.6\n",
      "  95    209.0\n",
      "  97    213.4\n",
      "  99    217.8\n",
      "  101    222.2\n",
      "  103    226.6\n",
      "  105    231.0\n",
      "  107    235.4\n",
      "  109    239.8\n",
      "  111    244.2\n",
      "  113    248.6\n",
      "  115    253.0\n",
      "  117    257.4\n",
      "  119    261.8\n",
      "  121    266.2\n",
      "  123    270.6\n",
      "  125    275.0\n",
      "  127    279.4\n",
      "  129    283.8\n",
      "  131    288.2\n",
      "  133    292.6\n",
      "  135    297.0\n",
      "  137    301.4\n",
      "  139    305.8\n",
      "  141    310.2\n",
      "  143    314.6\n",
      "  145    319.0\n",
      "  147    323.4\n",
      "  149    327.8\n",
      "  151    332.2\n",
      "  153    336.6\n",
      "  155    341.0\n",
      "  157    345.4\n",
      "  159    349.8\n",
      "  161    354.2\n",
      "  163    358.6\n",
      "  165    363.0\n",
      "  167    367.4\n",
      "  169    371.8\n",
      "  171    376.2\n",
      "  173    380.6\n",
      "  175    385.0\n",
      "  177    389.4\n",
      "  179    393.8\n",
      "  181    398.2\n",
      "  183    402.6\n",
      "  185    407.0\n",
      "  187    411.4\n",
      "  189    415.8\n",
      "  191    420.2\n",
      "  193    424.6\n",
      "  195    429.0\n",
      "  197    433.4\n",
      "  199    437.8\n",
      "    9.09      20\n",
      "    11.36      25\n",
      "    13.64      30\n",
      "    15.91      35\n",
      "    18.18      40\n",
      "    20.45      45\n",
      "    22.73      50\n",
      "    25.00      55\n",
      "    27.27      60\n",
      "    29.55      65\n",
      "    31.82      70\n",
      "    34.09      75\n",
      "    36.36      80\n",
      "    38.64      85\n",
      "    40.91      90\n",
      "    43.18      95\n",
      "    45.45      100\n",
      "    47.73      105\n",
      "    50.00      110\n",
      "    52.27      115\n",
      "    54.55      120\n",
      "    56.82      125\n",
      "    59.09      130\n",
      "    61.36      135\n",
      "    63.64      140\n",
      "    65.91      145\n",
      "    68.18      150\n",
      "    70.45      155\n",
      "    72.73      160\n",
      "    75.00      165\n",
      "    77.27      170\n",
      "    79.55      175\n",
      "    81.82      180\n",
      "    84.09      185\n",
      "    86.36      190\n",
      "    88.64      195\n",
      "    90.91      200\n",
      "    93.18      205\n",
      "    95.45      210\n",
      "    97.73      215\n",
      "    100.00      220\n",
      "    102.27      225\n",
      "    104.55      230\n",
      "    106.82      235\n",
      "    109.09      240\n",
      "    111.36      245\n",
      "    113.64      250\n",
      "    115.91      255\n",
      "    118.18      260\n",
      "    120.45      265\n",
      "    122.73      270\n",
      "    125.00      275\n",
      "    127.27      280\n",
      "    129.55      285\n",
      "    131.82      290\n",
      "    134.09      295\n",
      "    136.36      300\n",
      "    138.64      305\n",
      "    140.91      310\n",
      "    143.18      315\n",
      "    145.45      320\n",
      "    147.73      325\n",
      "    150.00      330\n",
      "    152.27      335\n",
      "    154.55      340\n",
      "    156.82      345\n",
      "    159.09      350\n",
      "    161.36      355\n",
      "    163.64      360\n",
      "    165.91      365\n",
      "    168.18      370\n",
      "    170.45      375\n",
      "    172.73      380\n",
      "    175.00      385\n",
      "    177.27      390\n",
      "    179.55      395\n",
      "    181.82      400\n",
      "    184.09      405\n",
      "    186.36      410\n",
      "    188.64      415\n",
      "    190.91      420\n",
      "    193.18      425\n",
      "    195.45      430\n",
      "    197.73      435\n",
      "    200.00      440\n",
      "    202.27      445\n",
      "    204.55      450\n",
      "    206.82      455\n",
      "    209.09      460\n",
      "    211.36      465\n",
      "    213.64      470\n",
      "    215.91      475\n",
      "    218.18      480\n",
      "    220.45      485\n",
      "    222.73      490\n",
      "    225.00      495\n",
      "    227.27      500\n",
      "    229.55      505\n",
      "    231.82      510\n",
      "    234.09      515\n"
     ]
    }
   ],
   "source": [
    "#编程题5.5\n",
    "print('---------------------------------')\n",
    "print(' 公斤       磅        公斤       磅')\n",
    "print('---------------------------------')\n",
    "for i in range(1,200,2):\n",
    "    print(' ',i,'   ',end = '')\n",
    "    print(format(i * 2.2,'.1f'))\n",
    "for j in range(20,520,5):\n",
    "    print('   ',format(j / 2.2,'.2f'),'    ',j)"
   ]
  },
  {
   "cell_type": "code",
   "execution_count": 99,
   "metadata": {},
   "outputs": [
    {
     "name": "stdout",
     "output_type": "stream",
     "text": [
      "---------------------------------\n",
      " 英里      公里      英里      公里\n",
      "---------------------------------\n",
      "1       1.609\n",
      "2       3.218\n",
      "3       4.827\n",
      "4       6.436\n",
      "5       8.045\n",
      "6       9.654\n",
      "7       11.263\n",
      "8       12.872\n",
      "9       14.481\n",
      "10       16.090\n",
      "             12.430      20\n",
      "             15.538      25\n",
      "             18.645      30\n",
      "             21.753      35\n",
      "             24.860      40\n",
      "             27.968      45\n",
      "             31.075      50\n",
      "             34.183      55\n",
      "             37.290      60\n",
      "             40.398      65\n"
     ]
    }
   ],
   "source": [
    "#编程题5.6\n",
    "print('---------------------------------')\n",
    "print(' 英里      公里      英里      公里')\n",
    "print('---------------------------------')\n",
    "for i in range(1,11):\n",
    "    print(i,'    ',end = '  ')\n",
    "    print(format(i * 1.609,'.3f'))\n",
    "for j in range(20,70,5):\n",
    "    print('            ',format(j / 1.609,'.3f'),'    ',j)\n"
   ]
  },
  {
   "cell_type": "code",
   "execution_count": 32,
   "metadata": {
    "collapsed": true
   },
   "outputs": [
    {
     "name": "stdout",
     "output_type": "stream",
     "text": [
      "---------------------------------\n",
      " 度        sin        cos\n",
      "---------------------------------\n",
      "    0     0.0     1.0\n",
      "    10     0.9275984563424636     0.37357877856093286\n",
      "    20     0.6930621966308488     -0.720877792417843\n",
      "    30     -0.4097717985741408     -0.9121880689272984\n",
      "    40     -0.9992262926310146     0.039329583202445347\n",
      "    50     -0.3368076772397759     0.9415734642354504\n",
      "    60     0.7475778912844228     0.6641741461866276\n",
      "    70     0.8953661482504315     -0.4453307316671357\n",
      "    80     -0.07859830722820497     -0.9969063677702439\n",
      "    90     -0.9540914674728181     -0.2995153947555356\n",
      "    100     -0.6342583428795024     0.773121177104694\n",
      "    110     0.48020055342267753     0.8771587247998816\n",
      "    120     0.993043815303662     -0.11774540707452853\n",
      "    130     0.2617596377343344     -0.9651330955123184\n",
      "    140     -0.7974681238206994     -0.6033610788656272\n",
      "    150     -0.8575939730112704     0.5143273057642813\n",
      "    160     0.15671030594351906     0.9876446122017214\n",
      "    170     0.974681262375685     0.2235988299918878\n",
      "    180     0.5715301650260188     -0.8205810566088714\n",
      "    190     -0.5476581804535839     -0.8367021676691592\n",
      "    200     -0.980717113270947     0.19543270897549503\n",
      "    210     -0.18509202212629824     0.9827211930884557\n",
      "    220     0.8424242101768663     0.5388148569851084\n",
      "    230     0.8145156370614746     -0.5801416008030629\n",
      "    240     -0.23385269655154522     -0.9722720382257072\n",
      "    250     -0.9892404465440967     -0.14629880013601007\n",
      "    260     -0.5052657788934425     0.8629637841063801\n",
      "    270     0.6117273014893283     0.7910687129526641\n",
      "    280     0.9623224550988095     -0.27191081702021286\n",
      "    290     0.10727919322804724     -0.9942289347531278\n",
      "    300     -0.882167995157145     -0.470934845090511\n",
      "    310     -0.7663976774598232     0.642366406332234\n",
      "    320     0.3095481786832     0.9508837600221773\n",
      "    330     0.9976789384559593     0.06809358091178769\n",
      "    340     0.43587517976443874     -0.9000071264525177\n",
      "    350     -0.6720115039335668     -0.7405407069033718\n",
      "    360     -0.9379736534017862     0.34670654093066344\n"
     ]
    }
   ],
   "source": [
    "#编程题5.7\n",
    "import math\n",
    "print('---------------------------------')\n",
    "print(' 度        sin        cos')\n",
    "print('---------------------------------')\n",
    "for i in range(0,370,10):\n",
    "    print('   ',i,'   ',math.sin(math.degrees(i)),'   ',math.cos(math.degrees(i)))"
   ]
  },
  {
   "cell_type": "code",
   "execution_count": 13,
   "metadata": {},
   "outputs": [
    {
     "name": "stdout",
     "output_type": "stream",
     "text": [
      "         number        sqrt     \n",
      "--------------------------------\n",
      "       0               0.0000\n",
      "       2               1.4142\n",
      "       4               2.0000\n",
      "       6               2.4495\n",
      "       8               2.8284\n",
      "       10               3.1623\n",
      "       12               3.4641\n",
      "       14               3.7417\n",
      "       16               4.0000\n",
      "       18               4.2426\n"
     ]
    }
   ],
   "source": [
    "#编程题5.8\n",
    "import math\n",
    "print('         number        sqrt     ')\n",
    "print('--------------------------------')\n",
    "for i in range(0,20,2):\n",
    "    a = math.sqrt(i)\n",
    "    print('      ',i,end = ' ')\n",
    "    print('             ',format(a,'.4f'))"
   ]
  },
  {
   "cell_type": "code",
   "execution_count": 13,
   "metadata": {},
   "outputs": [
    {
     "name": "stdout",
     "output_type": "stream",
     "text": [
      "10500.00\n",
      "21525.00\n",
      "33101.25\n",
      "45256.31\n",
      "58019.13\n",
      "71420.08\n",
      "85491.09\n",
      "100265.64\n",
      "115778.93\n",
      "132067.87\n",
      "149171.27\n"
     ]
    }
   ],
   "source": [
    "#编程题5.9\n",
    "a = 10000\n",
    "i = 0\n",
    "sum = 0\n",
    "while i <= 10:\n",
    "    if i <= 10:\n",
    "        a = a * 1.05\n",
    "        i = i + 1\n",
    "        sum = sum + a\n",
    "        print(format(sum,'.2f'))\n",
    "        "
   ]
  },
  {
   "cell_type": "code",
   "execution_count": 15,
   "metadata": {},
   "outputs": [
    {
     "name": "stdout",
     "output_type": "stream",
     "text": [
      "输入学生的个数：4\n",
      "Enter an integer:55\n",
      "Enter an integer:44\n",
      "Enter an integer:55\n",
      "Enter an integer:66\n",
      "Enter an integer:0\n",
      "max is 66\n"
     ]
    }
   ],
   "source": [
    "#编程题5.10\n",
    "a = eval(input('输入学生的个数：'))\n",
    "number = eval(input('Enter an integer:')) # 检查点5.5\n",
    "max = number\n",
    "while number != 0:\n",
    "    number = eval(input('Enter an integer:'))\n",
    "    if number > max:\n",
    "        max = number\n",
    "print('max is',max)"
   ]
  },
  {
   "cell_type": "code",
   "execution_count": 24,
   "metadata": {},
   "outputs": [
    {
     "name": "stdout",
     "output_type": "stream",
     "text": [
      "输入学生的个数：4\n",
      "Enter an integer:77\n",
      "Enter an integer:0\n"
     ]
    }
   ],
   "source": [
    "#编程题5.11\n",
    "a = eval(input('输入学生的个数：'))\n",
    "number = eval(input('Enter an integer:')) # 检查点5.5\n",
    "max = number\n",
    "while number != 0:\n",
    "    number = eval(input('Enter an integer:'))\n",
    "    "
   ]
  },
  {
   "cell_type": "code",
   "execution_count": null,
   "metadata": {},
   "outputs": [],
   "source": [
    "#编程题5.12\n",
    "n = 100\n",
    "m = 0\n",
    "while n <= 200:\n",
    "    n = n + 1\n",
    "    m = m + 1\n",
    "    if i % 5 == 0 or i % 6 == 0:\n",
    "        "
   ]
  },
  {
   "cell_type": "code",
   "execution_count": 14,
   "metadata": {
    "collapsed": true
   },
   "outputs": [
    {
     "name": "stdout",
     "output_type": "stream",
     "text": [
      "120\n",
      "150\n",
      "180\n",
      "210\n",
      "240\n",
      "270\n",
      "300\n",
      "330\n",
      "360\n",
      "390\n",
      "420\n",
      "450\n",
      "480\n",
      "510\n",
      "540\n",
      "570\n",
      "600\n",
      "630\n",
      "660\n",
      "690\n",
      "720\n",
      "750\n",
      "780\n",
      "810\n",
      "840\n",
      "870\n",
      "900\n",
      "930\n",
      "960\n",
      "990\n"
     ]
    }
   ],
   "source": [
    "#编程题5.12\n",
    "for i in range(100,1000):\n",
    "    if i % 5 == 0 and i % 6 == 0:\n",
    "        print(i)"
   ]
  },
  {
   "cell_type": "code",
   "execution_count": 28,
   "metadata": {
    "collapsed": true
   },
   "outputs": [
    {
     "name": "stdout",
     "output_type": "stream",
     "text": [
      "100\n",
      "   1   11   21   31   41   51   61   71   81   91102\n",
      "   1   11   21   31   41   51   61   71   81   91   101105\n",
      "   1   11   21   31   41   51   61   71   81   91   101108\n",
      "   1   11   21   31   41   51   61   71   81   91   101110\n",
      "   1   11   21   31   41   51   61   71   81   91   101114\n",
      "   1   11   21   31   41   51   61   71   81   91   101   111115\n",
      "   1   11   21   31   41   51   61   71   81   91   101   111125\n",
      "   1   11   21   31   41   51   61   71   81   91   101   111   121126\n",
      "   1   11   21   31   41   51   61   71   81   91   101   111   121130\n",
      "   1   11   21   31   41   51   61   71   81   91   101   111   121132\n",
      "   1   11   21   31   41   51   61   71   81   91   101   111   121   131135\n",
      "   1   11   21   31   41   51   61   71   81   91   101   111   121   131138\n",
      "   1   11   21   31   41   51   61   71   81   91   101   111   121   131140\n",
      "   1   11   21   31   41   51   61   71   81   91   101   111   121   131144\n",
      "   1   11   21   31   41   51   61   71   81   91   101   111   121   131   141145\n",
      "   1   11   21   31   41   51   61   71   81   91   101   111   121   131   141155\n",
      "   1   11   21   31   41   51   61   71   81   91   101   111   121   131   141   151156\n",
      "   1   11   21   31   41   51   61   71   81   91   101   111   121   131   141   151160\n",
      "   1   11   21   31   41   51   61   71   81   91   101   111   121   131   141   151162\n",
      "   1   11   21   31   41   51   61   71   81   91   101   111   121   131   141   151   161165\n",
      "   1   11   21   31   41   51   61   71   81   91   101   111   121   131   141   151   161168\n",
      "   1   11   21   31   41   51   61   71   81   91   101   111   121   131   141   151   161170\n",
      "   1   11   21   31   41   51   61   71   81   91   101   111   121   131   141   151   161174\n",
      "   1   11   21   31   41   51   61   71   81   91   101   111   121   131   141   151   161   171175\n",
      "   1   11   21   31   41   51   61   71   81   91   101   111   121   131   141   151   161   171185\n",
      "   1   11   21   31   41   51   61   71   81   91   101   111   121   131   141   151   161   171   181186\n",
      "   1   11   21   31   41   51   61   71   81   91   101   111   121   131   141   151   161   171   181190\n",
      "   1   11   21   31   41   51   61   71   81   91   101   111   121   131   141   151   161   171   181192\n",
      "   1   11   21   31   41   51   61   71   81   91   101   111   121   131   141   151   161   171   181   191195\n",
      "   1   11   21   31   41   51   61   71   81   91   101   111   121   131   141   151   161   171   181   191198\n",
      "   1   11   21   31   41   51   61   71   81   91   101   111   121   131   141   151   161   171   181   191"
     ]
    }
   ],
   "source": [
    "#编程题5.13  每行显示10个数，这些数被一个空格隔开  错误\n",
    "\n",
    "for i in range(100,200):\n",
    "    if (i % 5 == 0 or i % 6 == 0) and (not (i % 5 == 0 and i % 6 == 0) ):\n",
    "        i = i + 1\n",
    "    if i % 10 == 0:\n",
    "        print()\n",
    "       "
   ]
  },
  {
   "cell_type": "code",
   "execution_count": 12,
   "metadata": {},
   "outputs": [
    {
     "name": "stdout",
     "output_type": "stream",
     "text": [
      "110\n"
     ]
    }
   ],
   "source": [
    "#编程题5.14\n",
    "n = 1\n",
    "while n * n < 12000:\n",
    "    n = n + 1\n",
    "    continue\n",
    "print(n)"
   ]
  },
  {
   "cell_type": "code",
   "execution_count": 26,
   "metadata": {
    "collapsed": true
   },
   "outputs": [
    {
     "name": "stdout",
     "output_type": "stream",
     "text": [
      "2\n",
      "3\n",
      "4\n",
      "5\n",
      "6\n",
      "7\n",
      "8\n",
      "9\n",
      "10\n",
      "11\n",
      "12\n",
      "13\n",
      "14\n",
      "15\n",
      "16\n",
      "17\n",
      "18\n",
      "19\n",
      "20\n",
      "21\n",
      "22\n"
     ]
    }
   ],
   "source": [
    "#编程题5.15\n",
    "n = 1\n",
    "max = n\n",
    "while n * n * n < 12000:\n",
    "    n = n + 1\n",
    "    if  n * n * n < 12000:\n",
    "        while n > max:\n",
    "            max = n\n",
    "            print(max)"
   ]
  },
  {
   "cell_type": "code",
   "execution_count": 30,
   "metadata": {
    "collapsed": true
   },
   "outputs": [
    {
     "name": "stdout",
     "output_type": "stream",
     "text": [
      "1\n",
      "3\n",
      "5\n",
      "7\n",
      "9\n",
      "11\n",
      "13\n",
      "15\n",
      "17\n",
      "19\n",
      "21\n",
      "23\n",
      "25\n",
      "27\n",
      "29\n",
      "31\n",
      "33\n",
      "35\n",
      "37\n",
      "39\n",
      "41\n",
      "43\n",
      "45\n",
      "47\n",
      "49\n",
      "51\n",
      "53\n",
      "55\n",
      "57\n",
      "59\n",
      "61\n",
      "63\n",
      "65\n",
      "67\n",
      "69\n",
      "71\n",
      "73\n",
      "75\n",
      "77\n",
      "79\n",
      "81\n",
      "83\n",
      "85\n",
      "87\n",
      "89\n",
      "91\n",
      "93\n",
      "95\n",
      "97\n",
      "3\n",
      "5\n",
      "7\n",
      "9\n",
      "11\n",
      "13\n",
      "15\n",
      "17\n",
      "19\n",
      "21\n",
      "23\n",
      "25\n",
      "27\n",
      "29\n",
      "31\n",
      "33\n",
      "35\n",
      "37\n",
      "39\n",
      "41\n",
      "43\n",
      "45\n",
      "47\n",
      "49\n",
      "51\n",
      "53\n",
      "55\n",
      "57\n",
      "59\n",
      "61\n",
      "63\n",
      "65\n",
      "67\n",
      "69\n",
      "71\n",
      "73\n",
      "75\n",
      "77\n",
      "79\n",
      "81\n",
      "83\n",
      "85\n",
      "87\n",
      "89\n",
      "91\n",
      "93\n",
      "95\n",
      "97\n",
      "99\n",
      "0.9797979797979798\n"
     ]
    }
   ],
   "source": [
    "for i in range(1,98,2):\n",
    "    print(i)\n",
    "for j in range(3,100,2):\n",
    "    print(j)\n"
   ]
  }
 ],
 "metadata": {
  "kernelspec": {
   "display_name": "Python 3",
   "language": "python",
   "name": "python3"
  },
  "language_info": {
   "codemirror_mode": {
    "name": "ipython",
    "version": 3
   },
   "file_extension": ".py",
   "mimetype": "text/x-python",
   "name": "python",
   "nbconvert_exporter": "python",
   "pygments_lexer": "ipython3",
   "version": "3.6.7"
  }
 },
 "nbformat": 4,
 "nbformat_minor": 2
}
