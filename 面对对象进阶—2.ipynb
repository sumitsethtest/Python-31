{
 "cells": [
  {
   "cell_type": "markdown",
   "metadata": {},
   "source": [
    "### 访问器和修改器"
   ]
  },
  {
   "cell_type": "code",
   "execution_count": 27,
   "metadata": {},
   "outputs": [
    {
     "name": "stdout",
     "output_type": "stream",
     "text": [
      "3\n"
     ]
    }
   ],
   "source": [
    "class Number(object):\n",
    "    def __init__(self,a,b,c):\n",
    "        self.__a = a\n",
    "        self.__b = b\n",
    "        self.__c = c\n",
    "    @property\n",
    "    def C(self):\n",
    "        print(self.__a)\n",
    "    @C.setter\n",
    "    def C(self,a):\n",
    "        self.__a = a\n",
    "    def A(self):\n",
    "        print(self.__a + self.__b + self.__c)\n",
    "N = Number(1,1,1)\n",
    "N.a=2\n",
    "N.A()"
   ]
  },
  {
   "cell_type": "markdown",
   "metadata": {},
   "source": [
    "### 作业"
   ]
  },
  {
   "cell_type": "markdown",
   "metadata": {},
   "source": [
    "#### 第一题"
   ]
  },
  {
   "cell_type": "code",
   "execution_count": 42,
   "metadata": {},
   "outputs": [
    {
     "name": "stdout",
     "output_type": "stream",
     "text": [
      "这个圆的面积是 2\n",
      "这个圆的周长是 6\n"
     ]
    }
   ],
   "source": [
    "class Rectangle(object):\n",
    "    def __init__(self,width=1,height=2):\n",
    "        self.width = width\n",
    "        self.height = height\n",
    "    def area(self):\n",
    "        Area = self.width * self.height\n",
    "        return Area\n",
    "        \n",
    "    def perimeter(self):\n",
    "        Perimeter = 2 * self.width + 2 * self.height\n",
    "        return Perimeter\n",
    "def main():\n",
    "    R = Rectangle()\n",
    "    print(\"这个圆的面积是\",R.area())\n",
    "    print(\"这个圆的周长是\",R.perimeter())\n",
    "main()    "
   ]
  },
  {
   "cell_type": "markdown",
   "metadata": {},
   "source": [
    "#### 第二题"
   ]
  },
  {
   "cell_type": "code",
   "execution_count": 86,
   "metadata": {},
   "outputs": [
    {
     "name": "stdout",
     "output_type": "stream",
     "text": [
      "用户的ID号是 1122\n",
      "用户的本金为 2000\n",
      "月利息为 7.5\n",
      "月利率为 0.00375\n"
     ]
    }
   ],
   "source": [
    "class Account(object):\n",
    "    def __init__(self,Id = 0,blance = 100,rate = 0):\n",
    "        self.__Id =Id\n",
    "        self.__blance = blance\n",
    "        self.__rate = rate\n",
    "    \n",
    "    #@property    \n",
    "    def Id(self):\n",
    "        return self.__Id\n",
    "#     @Id.setter\n",
    "#     def Id(self,Id1):\n",
    "#         self.__Id = Id1\n",
    "    def blance(self):\n",
    "        return self.__blance\n",
    "    def annuallnterestRate(self):\n",
    "        return self.__rate\n",
    "    def getMounthlyInterestRate(self):#月利率就是年利率/12\n",
    "        monthlyInterestrate = (self.__rate/100) / 12\n",
    "        return monthlyInterestrate\n",
    "    \n",
    "    def getMounthlyInterest(self):\n",
    "        #类中函数调用函数用self.()调用\n",
    "        monthlyInterestrate = self.getMounthlyInterestRate()\n",
    "        MounthlyInterest = monthlyInterestrate * self.__blance\n",
    "        return MounthlyInterest\n",
    "        \n",
    "    def withdraw(self,qu):\n",
    "        self.__blance = self.__blance - qu\n",
    "        return self.__blance\n",
    "    def deposit(self,cun):\n",
    "        self.__blance = self.__blance + cun\n",
    "        return self.__blance\n",
    "def main():\n",
    "    A = Account(1122,2000,4.5)\n",
    "    iD = A.Id()\n",
    "    benjin = A.blance()\n",
    "    yuelixi = A.getMounthlyInterest()\n",
    "    yuelilv = A.getMounthlyInterestRate()\n",
    "    print(\"用户的ID号是\",iD)\n",
    "    print(\"用户的本金为\",benjin)\n",
    "    print(\"月利息为\",yuelixi)\n",
    "    print(\"月利率为\",yuelilv)\n",
    "    \n",
    "main()"
   ]
  },
  {
   "cell_type": "markdown",
   "metadata": {},
   "source": [
    "#### 第三题"
   ]
  },
  {
   "cell_type": "code",
   "execution_count": 100,
   "metadata": {},
   "outputs": [
    {
     "name": "stdout",
     "output_type": "stream",
     "text": [
      "打开\n"
     ]
    }
   ],
   "source": [
    "class Fan(object):\n",
    "    def __init__(self,radius,sudu,on):\n",
    "        self.__radius = radius\n",
    "        self.__sudu = sudu\n",
    "        self.__on = on\n",
    "        \n",
    "    def seed(self):\n",
    "        if self.__sudu == 1:\n",
    "            print(\"SLOW档\")\n",
    "        elif self.__sudu == 2:\n",
    "            print(\"MEDIUM档\")\n",
    "        elif self.__sudu == 3:\n",
    "            print(\"FAST档\")  \n",
    "        else:\n",
    "            print(\"没有这个档位\")\n",
    "    def On(self):\n",
    "        if self.__on == \"False\":\n",
    "            print(\"关闭\")\n",
    "        else:\n",
    "            print(\"打开\")\n",
    "    def radius(self):\n",
    "        return self.__radius\n",
    "    def Color(self,color):\n",
    "        self.__color = color\n",
    "        return self.__color\n",
    "Fan = Fan(1,1,\"Fause\")\n",
    "Fan.On() "
   ]
  },
  {
   "cell_type": "markdown",
   "metadata": {},
   "source": [
    "#### 第四题"
   ]
  },
  {
   "cell_type": "code",
   "execution_count": 48,
   "metadata": {},
   "outputs": [
    {
     "name": "stdout",
     "output_type": "stream",
     "text": [
      "这是一个 4 边形 边长是 1 周长为 4 面积为 16.0\n"
     ]
    }
   ],
   "source": [
    "import math\n",
    "class RegularPolygon(object):\n",
    "    def __init__(self,n=3,length=1,x = 0,y = 0):\n",
    "        self.__n = n\n",
    "        self.__length = length\n",
    "        self.__x = x\n",
    "        self.__y = y\n",
    "    def N(self):\n",
    "        return self.__n\n",
    "    def side(self):\n",
    "        return self.__length\n",
    "    def getPerimeter(self):\n",
    "        perimeter = self.__n * self.__length\n",
    "        return perimeter\n",
    "    def getArea(self):\n",
    "        area = round((self.__n * self.getPerimeter() * self.getPerimeter()) /( 4 * math.tan(math.pi/4)),2)\n",
    "        return area\n",
    "def main():\n",
    "    Re = RegularPolygon(4,1,8,0) \n",
    "    a = Re.getPerimeter()\n",
    "    b = Re.getArea()\n",
    "    n = Re.N()\n",
    "    length = Re.side()\n",
    "    print(\"这是一个\",n,\"边形\",\"边长是\",length,\"周长为\",a,\"面积为\",b)\n",
    "main()\n"
   ]
  },
  {
   "cell_type": "markdown",
   "metadata": {},
   "source": [
    "#### 第五题"
   ]
  },
  {
   "cell_type": "code",
   "execution_count": 8,
   "metadata": {},
   "outputs": [
    {
     "data": {
      "text/plain": [
       "(-0.7051671732522796, 2.6109422492401215)"
      ]
     },
     "execution_count": 8,
     "metadata": {},
     "output_type": "execute_result"
    }
   ],
   "source": [
    "class Linearquation(object):\n",
    "    def __init__(self,a,b,c,d,e,f):\n",
    "        self.__a = a\n",
    "        self.__b = b\n",
    "        self.__c = c\n",
    "        self.__d = d\n",
    "        self.__e = e\n",
    "        self.__f = f\n",
    "    def get_a(self):\n",
    "        return self.__a\n",
    "    def get_b(self):\n",
    "        return self.__b\n",
    "    def get_c(self):\n",
    "        return self.__c\n",
    "    def get_d(self):\n",
    "        return self.__d\n",
    "    def get_e(self):\n",
    "        return self.__e\n",
    "    def isSolvable(self):\n",
    "        if (self.__a * self.__d  - self.__b * self.__c) != 0:\n",
    "            print(\"True\")\n",
    "        else:\n",
    "            print(\"这个方程无解\")\n",
    "            \n",
    "    def get(self):\n",
    "        x = (self.__e * self.__d  - self.__b * self.__f) / (self.__a * self.__d  - self.__b * self.__c)\n",
    "        y = (self.__a * self.__f  - self.__e * self.__c) / (self.__a * self.__d  - self.__b * self.__c)\n",
    "        return x,y\n",
    "        print(89789)\n",
    "A = Linearquation(10,23,33,43,53,89)\n",
    "A.get()\n"
   ]
  },
  {
   "cell_type": "markdown",
   "metadata": {},
   "source": [
    "#### 第六题"
   ]
  },
  {
   "cell_type": "code",
   "execution_count": 37,
   "metadata": {},
   "outputs": [
    {
     "name": "stdout",
     "output_type": "stream",
     "text": [
      "请输入x1的值2\n",
      "请输入y1的值2\n",
      "请输入x2的值0\n",
      "请输入y2的值0\n",
      "请输入x3的值0\n",
      "请输入y3的值2\n",
      "请输入x4的值2\n",
      "请输入y4的值0\n",
      "两条直线的交点为： (1.0, 1.0)\n"
     ]
    }
   ],
   "source": [
    "class Linearquation(object):\n",
    "    def __init__(self,x1,y1,x2,y2,x3,y3,x4,y4):\n",
    "        self.__x1 = x1\n",
    "        self.__y1 = y1\n",
    "        self.__x2 = x2\n",
    "        self.__y2 = y2\n",
    "        self.__x3 = x3\n",
    "        self.__y3 = y3\n",
    "        self.__x4 = x4\n",
    "        self.__y4 = y4\n",
    "    def AA(self):\n",
    "        k1 = (self.__y2 - self.__y1) / (self.__x2 - self.__x1)\n",
    "        k2 = (self.__y4 - self.__y3) / (self.__x4 - self.__x3)\n",
    "        b1 = self.__y1 - k1 * self.__x1\n",
    "        b2 = self.__y3 - k2 * self.__x3\n",
    "        X = (b2 - b1) / (k1 - k2)\n",
    "        Y = k1 * X + b1\n",
    "        return X,Y\n",
    "def main():\n",
    "    x1 = eval(input(\"请输入x1的值\"))\n",
    "    y1 = eval(input(\"请输入y1的值\"))\n",
    "    x2 = eval(input(\"请输入x2的值\"))\n",
    "    y2 = eval(input(\"请输入y2的值\"))\n",
    "    x3 = eval(input(\"请输入x3的值\"))\n",
    "    y3 = eval(input(\"请输入y3的值\"))\n",
    "    x4 = eval(input(\"请输入x4的值\"))\n",
    "    y4 = eval(input(\"请输入y4的值\"))\n",
    "    Li = Linearquation(x1,y1,x2,y2,x3,y3,x4,y4)\n",
    "    \n",
    "    a = Li.AA()\n",
    "    print(\"两条直线的交点为：\",a)\n",
    "main()"
   ]
  },
  {
   "cell_type": "code",
   "execution_count": 40,
   "metadata": {},
   "outputs": [],
   "source": [
    "from PIL import Image\n",
    "im = Image.open('/Users/zwx/Pictures/WechatIMG1.jpeg')\n",
    "im.show()"
   ]
  },
  {
   "cell_type": "code",
   "execution_count": 45,
   "metadata": {
    "scrolled": true
   },
   "outputs": [
    {
     "data": {
      "image/png": "[encoded data removed]",
      "text/plain": [
       "<Figure size 432x288 with 1 Axes>"
      ]
     },
     "metadata": {
      "needs_background": "light"
     },
     "output_type": "display_data"
    }
   ],
   "source": [
    "import matplotlib.pyplot as plt\n",
    "import matplotlib.image as mpimg\n",
    "lena = mpimg.imread('/Users/zwx/Pictures/WechatIMG1.jpeg')\n",
    "plt.imshow(lena)\n",
    "plt.axis('off')\n",
    "plt.show()"
   ]
  },
  {
   "cell_type": "code",
   "execution_count": 47,
   "metadata": {},
   "outputs": [
    {
     "name": "stdout",
     "output_type": "stream",
     "text": [
      "这是一个人机对战\n",
      "二级\n"
     ]
    }
   ],
   "source": [
    "\n",
    "class Wangzhe(object):\n",
    "    def __init__(self,ren):\n",
    "        self.ren = ren   \n",
    "    def renji(self):\n",
    "        if self.ren == \"人机\":\n",
    "            print(\"这是一个人机对战\")\n",
    "        elif self.ren == \"人人\":\n",
    "            print(\"这是一个人人对战\")\n",
    "        else:\n",
    "            print(\"不对战\")\n",
    "    def renwu(self,renwu):\n",
    "        self.renwu = renwu\n",
    "        res = np.random.choice(['典韦','赵云','鲁班'])\n",
    "        if res == \"典韦\":\n",
    "            print(\"一级\")\n",
    "        elif res == \"赵云\":\n",
    "            print(\"二级\")\n",
    "        else:\n",
    "            print(\"三级\")\n",
    "    \n",
    "    def jiazai(self):\n",
    "        if self.ren == \"人机\" and self.renwu == \"典韦\":\n",
    "            print(\"哈哈哈\")\n",
    "        else:\n",
    "            print(\"hahha\")\n",
    "W = Wangzhe(\"人机\")\n",
    "W.renji()\n",
    "W.renwu(\"典韦\")"
   ]
  },
  {
   "cell_type": "code",
   "execution_count": 71,
   "metadata": {
    "scrolled": true
   },
   "outputs": [
    {
     "name": "stdout",
     "output_type": "stream",
     "text": [
      "一级\n",
      "典韦\n"
     ]
    },
    {
     "data": {
      "image/png": "[encoded data removed]",
      "text/plain": [
       "<Figure size 432x288 with 1 Axes>"
      ]
     },
     "metadata": {
      "needs_background": "light"
     },
     "output_type": "display_data"
    }
   ],
   "source": [
    "import matplotlib.pyplot as plt\n",
    "import matplotlib.image as mpimg\n",
    "from PIL import Image\n",
    "class king(object):\n",
    "    def __init__(self,renji):\n",
    "        self.renji = renji\n",
    "    def renji(self):\n",
    "        if self.renji == \"人机\":\n",
    "            print(\"这是一个人机对战\")\n",
    "        elif self.renji == \"人人\":\n",
    "            print(\"这是一个人人对战\")\n",
    "        else:\n",
    "            print(\"不对战\")\n",
    "    \n",
    "    def renwu(self):\n",
    "        res = np.random.choice(['典韦','赵云','鲁班'])\n",
    "        if res == \"典韦\":\n",
    "            print(\"一级\")\n",
    "        elif res == \"赵云\":\n",
    "            print(\"二级\")\n",
    "        else:\n",
    "            print(\"三级\")\n",
    "        print(res)\n",
    "\n",
    "K = king(\"人机\")\n",
    "renwu = K.renwu()\n",
    "lena = mpimg.imread('/Users/zwx/Pictures/WechatIMG1.jpeg')\n",
    "plt.imshow(lena)\n",
    "plt.axis('off')\n",
    "plt.show()\n"
   ]
  },
  {
   "cell_type": "markdown",
   "metadata": {},
   "source": [
    "####  邮箱登录"
   ]
  },
  {
   "cell_type": "code",
   "execution_count": null,
   "metadata": {},
   "outputs": [],
   "source": [
    "import urllib\n",
    "import http.client\n",
    "host = \"106.ihuyi.com\"\n",
    "sms_send_uri = \"/webservice/sms.php?method=Submit\"\n",
    "\n",
    "# 用户名是登录用户中心->验证码短信->产品总览->APIID\n",
    "account = \"###\"\n",
    "# 密码 查看密码请登录用户中心->验证码短信->产品总览->APIKEY\n",
    "password = \"###\"\n",
    "\n",
    "def send_sms(text, mobile):\n",
    "    params = urllib.parse.urlencode(\n",
    "        {'account': account, 'password': password, 'content': text, 'mobile': mobile, 'format': 'json'})\n",
    "    headers = {\"Content-type\": \"application/x-www-form-urlencoded\", \"Accept\": \"text/plain\"}\n",
    "    conn = http.client.HTTPConnection(host, port=80, timeout=30)\n",
    "    conn.request(\"POST\", sms_send_uri, params, headers)\n",
    "    response = conn.getresponse()\n",
    "    response_str = response.read()\n",
    "    conn.close()\n",
    "    return response_str\n",
    "\n",
    "\n",
    "#if __name__ == '__main__':\n",
    "    #需要接受短信的目标手机号\n",
    "    mobile = \"13847516539\"\n",
    "    #短信内容\n",
    "    \n",
    "    \n",
    "    text = \"您的验证码是：121254。请不要把验证码泄露给其他人。\"\n",
    "    ret = send_sms(text, mobile).decode('utf-8')\n",
    "    import json\n",
    "    ret = json.loads(ret)\n",
    "    print(ret)"
   ]
  },
  {
   "cell_type": "code",
   "execution_count": null,
   "metadata": {},
   "outputs": [],
   "source": [
    "def verfily(self):\n",
    "        \"\"\"\n",
    "        ver...\n",
    "        \"\"\"\n",
    "        # 英文和数字的结合\n",
    "        # 给予一个简单的数学运算得到结果.\n",
    "        for _ in range(3):\n",
    "            number = random.randrange(1000,9999)\n",
    "            print('验证码是: %d'%number)\n",
    "            number_2 = input('输入验证码:>>')\n",
    "            if number == int(number_2):\n",
    "                print('注册成功')\n",
    "                \n",
    "                break\n",
    "                \n",
    "            else:\n",
    "                print('验证码错误')\n",
    "        else:\n",
    "            print('机器人😡')"
   ]
  }
 ],
 "metadata": {
  "kernelspec": {
   "display_name": "Python 3",
   "language": "python",
   "name": "python3"
  },
  "language_info": {
   "codemirror_mode": {
    "name": "ipython",
    "version": 3
   },
   "file_extension": ".py",
   "mimetype": "text/x-python",
   "name": "python",
   "nbconvert_exporter": "python",
   "pygments_lexer": "ipython3",
   "version": "3.6.8"
  }
 },
 "nbformat": 4,
 "nbformat_minor": 2
}
