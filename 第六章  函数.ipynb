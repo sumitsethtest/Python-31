{
 "cells": [
  {
   "cell_type": "markdown",
   "metadata": {},
   "source": [
    "6.1 引言\n",
    "函数可以用来定义和重用代码，组织和简化代码。"
   ]
  },
  {
   "cell_type": "code",
   "execution_count": 3,
   "metadata": {},
   "outputs": [
    {
     "name": "stdout",
     "output_type": "stream",
     "text": [
      "sum from 1 to 10 is 55\n",
      "sum from 20 to 37 is 513\n",
      "sum from 35 to 49 is 630\n"
     ]
    }
   ],
   "source": [
    "sum = 0\n",
    "for i in range(1,11):\n",
    "    sum += i\n",
    "print('sum from 1 to 10 is',sum)\n",
    "sum = 0\n",
    "for i in range(20,38):\n",
    "    sum += i\n",
    "print('sum from 20 to 37 is',sum)\n",
    "sum = 0\n",
    "for i in range(35,50):\n",
    "    sum += i \n",
    "print('sum from 35 to 49 is',sum)"
   ]
  },
  {
   "cell_type": "code",
   "execution_count": 11,
   "metadata": {},
   "outputs": [
    {
     "name": "stdout",
     "output_type": "stream",
     "text": [
      "sum from 1 to 10 is 55\n",
      "sum from 20 to 37 is 513\n",
      "sum from 35 to 49 is 630\n"
     ]
    }
   ],
   "source": [
    "def sum(i1,i2):\n",
    "    result = 0\n",
    "    for i in range(i1,i2 + 1):\n",
    "        result += i\n",
    "    return result\n",
    "def main():\n",
    "    print('sum from 1 to 10 is',sum(1,10))\n",
    "    print('sum from 20 to 37 is',sum(20,37))\n",
    "    print('sum from 35 to 49 is',sum(35,49))\n",
    "main()"
   ]
  },
  {
   "cell_type": "code",
   "execution_count": 10,
   "metadata": {},
   "outputs": [
    {
     "data": {
      "text/plain": [
       "55"
      ]
     },
     "execution_count": 10,
     "metadata": {},
     "output_type": "execute_result"
    }
   ],
   "source": [
    "def sum(i1,i2):\n",
    "    result = 0\n",
    "    for i in range(i1,i2 + 1):\n",
    "        result += i\n",
    "    return result\n",
    "sum(1,10)"
   ]
  },
  {
   "cell_type": "markdown",
   "metadata": {},
   "source": [
    "6.2 定义一个函数\n",
    "函数包括函数名称，形参以及函数体。"
   ]
  },
  {
   "cell_type": "code",
   "execution_count": 15,
   "metadata": {},
   "outputs": [
    {
     "data": {
      "text/plain": [
       "3"
      ]
     },
     "execution_count": 15,
     "metadata": {},
     "output_type": "execute_result"
    }
   ],
   "source": [
    "def max(a,b):\n",
    "    if a > b:\n",
    "        result = a\n",
    "    else:\n",
    "        result = b\n",
    "    return result\n",
    "max(1,3)"
   ]
  },
  {
   "cell_type": "markdown",
   "metadata": {},
   "source": [
    "参数就像一个占位符：当调用函数时，就将一个参数值传给参数。这个值被称为实际参数或实参。参数是可选的：也就是说，函数可以不包含参数。例如 random.random()\n",
    "就不包含参数。\n",
    "某些函数有返回值，而一些其他的函数会完成要求的操作而不返回值。如果函数有返回值，则被称为带返回值的函数。\n",
    "return语句意味着函数的终止。\n"
   ]
  },
  {
   "cell_type": "code",
   "execution_count": 19,
   "metadata": {},
   "outputs": [
    {
     "name": "stdout",
     "output_type": "stream",
     "text": [
      "The larger number of 5 and 2 is 5\n"
     ]
    }
   ],
   "source": [
    " #6.3 调用一个函数\n",
    "#程序清单6-1\n",
    "def max(a,b):\n",
    "    if a > b:\n",
    "        result = a\n",
    "    else:\n",
    "        result = b\n",
    "    return result\n",
    "def main():\n",
    "    i = 5\n",
    "    j = 2\n",
    "    k = max(i,j)\n",
    "    print('The larger number of',i,'and',j,'is',k)\n",
    "main()"
   ]
  },
  {
   "cell_type": "code",
   "execution_count": 11,
   "metadata": {},
   "outputs": [
    {
     "name": "stdout",
     "output_type": "stream",
     "text": [
      "The larger number of 5\n"
     ]
    }
   ],
   "source": [
    "def max(a,b):\n",
    "    if a > b:\n",
    "        result = a\n",
    "    else:\n",
    "        result = b\n",
    "    return result\n",
    "max(5,2)\n",
    "print('The larger number of',max(5,2))"
   ]
  },
  {
   "cell_type": "code",
   "execution_count": 34,
   "metadata": {},
   "outputs": [
    {
     "name": "stdout",
     "output_type": "stream",
     "text": [
      "Enter a score:99\n",
      "The grade isA\n"
     ]
    }
   ],
   "source": [
    "#6.4 带返回值或不带返回值的函数   函数不一定有返回值\n",
    "#程序清单6-2\n",
    "def printGrade(score):\n",
    "    if score >= 90:\n",
    "        print('A')\n",
    "    elif score >= 80:\n",
    "        print('B')\n",
    "    elif score >= 70:\n",
    "        print('C')\n",
    "    elif score >= 60:\n",
    "        print('D')\n",
    "    else:\n",
    "        print('F')\n",
    "def main():\n",
    "    score = eval(input('Enter a score:'))\n",
    "    print('The grade is',end = '')\n",
    "    printGrade(score)\n",
    "main()"
   ]
  },
  {
   "cell_type": "code",
   "execution_count": 4,
   "metadata": {},
   "outputs": [
    {
     "name": "stdout",
     "output_type": "stream",
     "text": [
      "Enter a score:33\n",
      "F\n",
      "The grade is None\n"
     ]
    }
   ],
   "source": [
    "def printGrade(score):\n",
    "    if score >= 90:\n",
    "        print('A')\n",
    "    elif score >= 80:\n",
    "        print('B')\n",
    "    elif score >= 70:\n",
    "        print('C')\n",
    "    elif score >= 60:\n",
    "        print('D')\n",
    "    else:\n",
    "        print('F')\n",
    "def main():\n",
    "    score = eval(input('Enter a score:'))\n",
    "    print('The grade is',printGrade(score))\n",
    "main()"
   ]
  },
  {
   "cell_type": "code",
   "execution_count": 7,
   "metadata": {},
   "outputs": [
    {
     "name": "stdout",
     "output_type": "stream",
     "text": [
      "Enter a score:88\n",
      "The grade is B\n"
     ]
    }
   ],
   "source": [
    "#程序清单6-3\n",
    "def getGrade(score):\n",
    "    if score >= 90:\n",
    "        return 'A'\n",
    "    elif score >= 80:\n",
    "        return 'B'\n",
    "    elif score >= 70:\n",
    "        return 'C'\n",
    "    elif score >= 60:\n",
    "        return 'D'\n",
    "    else:\n",
    "        return 'F'\n",
    "def main():\n",
    "    score = eval(input('Enter a score:'))\n",
    "    print('The grade is',getGrade(score))\n",
    "main()\n",
    "  "
   ]
  },
  {
   "cell_type": "code",
   "execution_count": 36,
   "metadata": {},
   "outputs": [
    {
     "name": "stdout",
     "output_type": "stream",
     "text": [
      "None\n"
     ]
    }
   ],
   "source": [
    "def sum(a,b):\n",
    "    total = a + b\n",
    "print(sum(1,2))"
   ]
  },
  {
   "cell_type": "code",
   "execution_count": 13,
   "metadata": {},
   "outputs": [
    {
     "data": {
      "text/plain": [
       "3"
      ]
     },
     "execution_count": 13,
     "metadata": {},
     "output_type": "execute_result"
    }
   ],
   "source": [
    "def sum(a,b):\n",
    "    total = a + b\n",
    "    return total\n",
    "sum (1,2)"
   ]
  },
  {
   "cell_type": "code",
   "execution_count": 40,
   "metadata": {},
   "outputs": [
    {
     "name": "stdout",
     "output_type": "stream",
     "text": [
      "3\n"
     ]
    }
   ],
   "source": [
    "def sum(a,b):\n",
    "    total = a + b\n",
    "    print(total)\n",
    "sum(1,2)"
   ]
  },
  {
   "cell_type": "code",
   "execution_count": 41,
   "metadata": {},
   "outputs": [
    {
     "name": "stdout",
     "output_type": "stream",
     "text": [
      "Enter a score:-9\n",
      "The grade isInvalid score\n"
     ]
    }
   ],
   "source": [
    "def zwx(score):\n",
    "    if score < 0 or score > 100:\n",
    "        print('Invalid score')\n",
    "        return\n",
    "    if score >= 90:\n",
    "        print('A')\n",
    "    elif score >= 80:\n",
    "        print('B')\n",
    "    elif score >= 70:\n",
    "        print('C')\n",
    "    elif score >= 60:\n",
    "        print('D')\n",
    "    else:\n",
    "        print('F')\n",
    "def main():\n",
    "    score = eval(input('Enter a score:'))\n",
    "    print('The grade is',end = '')\n",
    "    zwx(score)\n",
    "main()"
   ]
  },
  {
   "cell_type": "code",
   "execution_count": null,
   "metadata": {},
   "outputs": [],
   "source": [
    "检查点\n",
    "6.1 重用代码，减少复杂性，易于维护\n",
    "6.2 defzwx（形参数）  zwx（参数）\n",
    "6.3 下面\n",
    "6.4 如果一个函数没有返回值，默认情况下，它会返回一个特殊值none，因此，无返回\n",
    "函数不会返回函数值，他被称为none函数，none函数可以赋值给一个变量\n",
    "6.5 可以有return函数，会报错，是因为这个函数是有返回值的函数\n"
   ]
  },
  {
   "cell_type": "code",
   "execution_count": 42,
   "metadata": {},
   "outputs": [
    {
     "name": "stdout",
     "output_type": "stream",
     "text": [
      "5\n"
     ]
    }
   ],
   "source": [
    "#检查点6.3\n",
    "a = 5\n",
    "b = 2\n",
    "if a > b:\n",
    "    print(a)\n",
    "else:\n",
    "    print(b)\n",
    "    "
   ]
  },
  {
   "cell_type": "markdown",
   "metadata": {},
   "source": [
    "6.5 位置参数和关键字参数\n",
    "函数实参是作为位置参数和关键字参数被传递\n",
    "当调用函数时，需要将实参传递给形参。实参有两种类型：未知参数，关键字参数\n",
    "#位置参数不能出现在任何关键字参数之后"
   ]
  },
  {
   "cell_type": "markdown",
   "metadata": {},
   "source": [
    "6.6 通过传引用来传递参数\n",
    "当你调用带参数的函数时，每个实参的引用值被传递给函数的形参。\n",
    "这在程序设计术语中被称为通过值传递"
   ]
  },
  {
   "cell_type": "code",
   "execution_count": 14,
   "metadata": {},
   "outputs": [
    {
     "name": "stdout",
     "output_type": "stream",
     "text": [
      "Before the call,x is  1\n",
      "\tn inside the function is 2\n",
      "After the call,x is 1\n"
     ]
    }
   ],
   "source": [
    "#程序清单6-4\n",
    "def main():\n",
    "    x = 1\n",
    "    print('Before the call,x is ',x)\n",
    "    increment(x)\n",
    "    print('After the call,x is',x)\n",
    "def increment(n):\n",
    "    n += 1\n",
    "    print('\\tn inside the function is',n)\n",
    "main()"
   ]
  },
  {
   "cell_type": "code",
   "execution_count": 45,
   "metadata": {},
   "outputs": [
    {
     "name": "stdout",
     "output_type": "stream",
     "text": [
      "Before the call,x is  1\n",
      "\tn inside the function is 2\n",
      "After the call,x is 1\n"
     ]
    }
   ],
   "source": [
    "def increment(n):\n",
    "    n += 1\n",
    "    print('\\tn inside the function is',n)\n",
    "def main():\n",
    "    x = 1\n",
    "    print('Before the call,x is ',x)\n",
    "    increment(x)\n",
    "    print('After the call,x is',x)\n",
    "main()"
   ]
  },
  {
   "cell_type": "code",
   "execution_count": null,
   "metadata": {},
   "outputs": [],
   "source": [
    "检查点6.13：当你调用带参数的函数时，每个实参的引用值被传递给函数的形参。\n",
    "           这在程序设计术语中被称为通过值传递\n",
    "检查点6.14：能\n",
    "检查点6.15：0"
   ]
  },
  {
   "cell_type": "code",
   "execution_count": 46,
   "metadata": {},
   "outputs": [
    {
     "name": "stdout",
     "output_type": "stream",
     "text": [
      "0\n"
     ]
    }
   ],
   "source": [
    "def main():\n",
    "    max = 0\n",
    "    getmax(1,2,max)\n",
    "    print(max)\n",
    "def getmax(value1,value2,max):\n",
    "    if value1 > value2:\n",
    "        max = value1\n",
    "    else:\n",
    "        max = value2\n",
    "main()"
   ]
  },
  {
   "cell_type": "code",
   "execution_count": 16,
   "metadata": {},
   "outputs": [
    {
     "name": "stdout",
     "output_type": "stream",
     "text": [
      "\n",
      "2\n",
      "24\n",
      "248\n",
      "24816\n"
     ]
    }
   ],
   "source": [
    "def main():\n",
    "    i = 1\n",
    "    while i < 6:\n",
    "        print(function(i,2))\n",
    "        i += 1\n",
    "def function(i,num):\n",
    "    line = ''\n",
    "    for j in range(1,i):\n",
    "        line += str(num) + '' \n",
    "        num *= 2\n",
    "    return line\n",
    "main()"
   ]
  },
  {
   "cell_type": "code",
   "execution_count": 6,
   "metadata": {},
   "outputs": [
    {
     "name": "stdout",
     "output_type": "stream",
     "text": [
      "Before the call,vaeiable times is 3\n",
      "n =  3\n",
      "welcome to cs!\n",
      "n =  2\n",
      "welcome to cs!\n",
      "n =  1\n",
      "welcome to cs!\n",
      "after the call,variable times is 3\n"
     ]
    }
   ],
   "source": [
    "def main():\n",
    "    times = 3\n",
    "    print('Before the call,vaeiable','times is',times)\n",
    "    nprint('welcome to cs!',times)\n",
    "    print('after the call,variable','times is',times)\n",
    "def nprint(message,n):\n",
    "    while n > 0:\n",
    "        print('n = ',n)\n",
    "        print(message)\n",
    "        n -= 1\n",
    "main()"
   ]
  },
  {
   "cell_type": "markdown",
   "metadata": {},
   "source": [
    "6.7 模块化代码\n",
    "模块化代码可以使代码易于维护和调试，并且提高代码的重用性。"
   ]
  },
  {
   "cell_type": "code",
   "execution_count": 20,
   "metadata": {},
   "outputs": [
    {
     "data": {
      "text/plain": [
       "2"
      ]
     },
     "execution_count": 20,
     "metadata": {},
     "output_type": "execute_result"
    }
   ],
   "source": [
    "#程序清单6-5\n",
    "def gcd(n1,n2):\n",
    "    a = 1\n",
    "    k = 2\n",
    "    while k <= n1 and k <= n2:\n",
    "        if n1 % k == 0 and n2 % k == 0:\n",
    "            a = k\n",
    "        k += 1\n",
    "    return a\n",
    "gcd(8,2)"
   ]
  },
  {
   "cell_type": "code",
   "execution_count": 13,
   "metadata": {},
   "outputs": [
    {
     "ename": "ModuleNotFoundError",
     "evalue": "No module named 'GCDFunction'",
     "output_type": "error",
     "traceback": [
      "\u001b[0;31m---------------------------------------------------------------------------\u001b[0m",
      "\u001b[0;31mModuleNotFoundError\u001b[0m                       Traceback (most recent call last)",
      "\u001b[0;32m<ipython-input-13-0fb92248c9d4>\u001b[0m in \u001b[0;36m<module>\u001b[0;34m()\u001b[0m\n\u001b[1;32m      1\u001b[0m \u001b[0;31m#程序清单6-6\u001b[0m\u001b[0;34m\u001b[0m\u001b[0;34m\u001b[0m\u001b[0m\n\u001b[0;32m----> 2\u001b[0;31m \u001b[0;32mfrom\u001b[0m \u001b[0mGCDFunction\u001b[0m \u001b[0;32mimport\u001b[0m \u001b[0mgcd\u001b[0m\u001b[0;34m\u001b[0m\u001b[0m\n\u001b[0m\u001b[1;32m      3\u001b[0m \u001b[0mn1\u001b[0m \u001b[0;34m=\u001b[0m \u001b[0meval\u001b[0m\u001b[0;34m(\u001b[0m\u001b[0minput\u001b[0m\u001b[0;34m(\u001b[0m\u001b[0;34m'Enter the first integer:'\u001b[0m\u001b[0;34m)\u001b[0m\u001b[0;34m)\u001b[0m\u001b[0;34m\u001b[0m\u001b[0m\n\u001b[1;32m      4\u001b[0m \u001b[0mn2\u001b[0m \u001b[0;34m=\u001b[0m \u001b[0meval\u001b[0m\u001b[0;34m(\u001b[0m\u001b[0minput\u001b[0m\u001b[0;34m(\u001b[0m\u001b[0;34m'Enter the second integer:'\u001b[0m\u001b[0;34m)\u001b[0m\u001b[0;34m)\u001b[0m\u001b[0;34m\u001b[0m\u001b[0m\n\u001b[1;32m      5\u001b[0m \u001b[0mprint\u001b[0m\u001b[0;34m(\u001b[0m\u001b[0;34m'The greatest common divisor for'\u001b[0m\u001b[0;34m,\u001b[0m\u001b[0mn1\u001b[0m\u001b[0;34m,\u001b[0m\u001b[0;34m'and'\u001b[0m\u001b[0;34m,\u001b[0m\u001b[0mn2\u001b[0m\u001b[0;34m,\u001b[0m\u001b[0;34m'is'\u001b[0m\u001b[0;34m,\u001b[0m\u001b[0mgcd\u001b[0m\u001b[0;34m(\u001b[0m\u001b[0mn1\u001b[0m\u001b[0;34m,\u001b[0m\u001b[0mn2\u001b[0m\u001b[0;34m)\u001b[0m\u001b[0;34m)\u001b[0m\u001b[0;34m\u001b[0m\u001b[0m\n",
      "\u001b[0;31mModuleNotFoundError\u001b[0m: No module named 'GCDFunction'"
     ]
    }
   ],
   "source": [
    "#程序清单6-6\n",
    "from GCDFunction import gcd\n",
    "n1 = eval(input('Enter the first integer:'))\n",
    "n2 = eval(input('Enter the second integer:'))\n",
    "print('The greatest common divisor for',n1,'and',n2,'is',gcd(n1,n2))"
   ]
  },
  {
   "cell_type": "code",
   "execution_count": 6,
   "metadata": {},
   "outputs": [
    {
     "name": "stdout",
     "output_type": "stream",
     "text": [
      "The first 50 prime numbers are\n",
      "2 3 5 7 11 13 17 19 23 29 \n",
      "31 37 41 43 47 53 59 61 67 71 \n",
      "73 79 83 89 97 101 103 107 109 113 \n",
      "127 131 137 139 149 151 157 163 167 173 \n",
      "179 181 191 193 197 199 211 223 227 229 \n"
     ]
    }
   ],
   "source": [
    "#程序清单6-7\n",
    "def isPrime(number):\n",
    "    divisor = 2\n",
    "    while divisor <= number / 2:\n",
    "        if number % divisor == 0:\n",
    "            return False\n",
    "        divisor += 1\n",
    "    return True\n",
    "def printPrimeNumbers(numberOfPrimes):\n",
    "    NUMBER_OF_PRIMES = 50\n",
    "    NUMBER_OF_PRIMES_PER_LINE = 10\n",
    "    count = 0\n",
    "    number = 2\n",
    "    while count < numberOfPrimes:\n",
    "        if isPrime(number):\n",
    "            count += 1\n",
    "            print(number,end = ' ')\n",
    "            if count % NUMBER_OF_PRIMES_PER_LINE == 0:\n",
    "                print()\n",
    "        number += 1\n",
    "def main():\n",
    "    print('The first 50 prime numbers are')\n",
    "    printPrimeNumbers(50)\n",
    "main()"
   ]
  },
  {
   "cell_type": "code",
   "execution_count": 8,
   "metadata": {},
   "outputs": [
    {
     "name": "stdout",
     "output_type": "stream",
     "text": [
      "Enter a decimal number:1234\n",
      "The hex number for decimal 1234 is SDQ \n"
     ]
    }
   ],
   "source": [
    "#6.8实例研究：将十进制数转换为十六进制数\n",
    "#程序清单6-8\n",
    "def decimalToHex(decimalValue):\n",
    "    hex = ' '\n",
    "    while decimalValue != 0:\n",
    "        hexValue = decimalValue % 16\n",
    "        hex = toHexChar(hexValue) + hex\n",
    "        decimalValue = decimalValue // 16\n",
    "    return hex\n",
    "def toHexChar(hexValue):\n",
    "    if 0 <= hexValue <= 9:\n",
    "        return chr(hexValue + ord('O'))\n",
    "    else:\n",
    "        return chr(hexValue - 10 + ord('A'))\n",
    "def main():\n",
    "    decimalValue = eval(input('Enter a decimal number:'))\n",
    "    print('The hex number for decimal',decimalValue,'is',\\\n",
    "          decimalToHex(decimalValue))\n",
    "main()    "
   ]
  },
  {
   "cell_type": "markdown",
   "metadata": {},
   "source": [
    "# 6.9 变量的作用域\n",
    "它们在所有的函数之外创建，可以被所有的函数访问。"
   ]
  },
  {
   "cell_type": "code",
   "execution_count": 12,
   "metadata": {},
   "outputs": [
    {
     "name": "stdout",
     "output_type": "stream",
     "text": [
      "1\n",
      "2\n",
      "1\n"
     ]
    }
   ],
   "source": [
    "a = 1 #定义一个全局变量\n",
    "def zwx():\n",
    "    b = 2\n",
    "    print(a)\n",
    "    print(b)\n",
    "zwx()\n",
    "print(a)\n",
    "#print(b) 函数外访问局部变量就会报错"
   ]
  },
  {
   "cell_type": "code",
   "execution_count": 13,
   "metadata": {},
   "outputs": [
    {
     "name": "stdout",
     "output_type": "stream",
     "text": [
      "2\n",
      "1\n"
     ]
    }
   ],
   "source": [
    "x = 1 #定义一个全局变量\n",
    "def a():\n",
    "    x = 2 #创建一个同名的局部变量。\n",
    "    print(x)\n",
    "a()\n",
    "print(x) #在函数之外，全局变量x仍旧可以访问。"
   ]
  },
  {
   "cell_type": "code",
   "execution_count": 18,
   "metadata": {},
   "outputs": [
    {
     "name": "stdout",
     "output_type": "stream",
     "text": [
      "Enter a number:9\n",
      "4\n"
     ]
    }
   ],
   "source": [
    "x = eval(input('Enter a number:'))\n",
    "if x > 0:\n",
    "    y = 4\n",
    "    print(y) #如果输入一个非正数，结果会报错，因为没有定义"
   ]
  },
  {
   "cell_type": "code",
   "execution_count": 19,
   "metadata": {},
   "outputs": [
    {
     "name": "stdout",
     "output_type": "stream",
     "text": [
      "2\n",
      "2\n"
     ]
    }
   ],
   "source": [
    "x = 1\n",
    "def increase():\n",
    "    global x #将x限定在这个函数中，这意味着函数里的x和函数外的x是一样的\n",
    "    x = x + 1\n",
    "    print(x)\n",
    "increase()\n",
    "print(x)"
   ]
  },
  {
   "cell_type": "code",
   "execution_count": 24,
   "metadata": {},
   "outputs": [
    {
     "name": "stdout",
     "output_type": "stream",
     "text": [
      "2\n",
      "3.4\n",
      "2\n",
      "4\n"
     ]
    }
   ],
   "source": [
    "#检查点6.17\n",
    "def function(x):\n",
    "    print(x)\n",
    "    x = 4.5\n",
    "    y = 3.4\n",
    "    print(y)\n",
    "x = 2\n",
    "y = 4\n",
    "function(x)\n",
    "print(x)\n",
    "print(y)"
   ]
  },
  {
   "cell_type": "code",
   "execution_count": 25,
   "metadata": {},
   "outputs": [
    {
     "name": "stdout",
     "output_type": "stream",
     "text": [
      "3\n",
      "6\n",
      "5\n"
     ]
    }
   ],
   "source": [
    "#检查点6.17\n",
    "def f(x,y = 1,z = 2):\n",
    "    return x + y + z\n",
    "print(f(1,1,1))\n",
    "print(f(y = 1,x = 2,z = 3))\n",
    "print(f(1,z = 3))"
   ]
  },
  {
   "cell_type": "markdown",
   "metadata": {},
   "source": [
    "检查点6.18\n",
    "函数之外访问全局变量会报错"
   ]
  },
  {
   "cell_type": "code",
   "execution_count": 26,
   "metadata": {},
   "outputs": [
    {
     "name": "stdout",
     "output_type": "stream",
     "text": [
      "y is 1\n"
     ]
    }
   ],
   "source": [
    "#检查点6.19\n",
    "x = 10\n",
    "if x < 0:\n",
    "    y = -1\n",
    "else:\n",
    "    y = 1\n",
    "print('y is',y) #能运行，结果是1"
   ]
  },
  {
   "cell_type": "code",
   "execution_count": 27,
   "metadata": {},
   "outputs": [
    {
     "name": "stdout",
     "output_type": "stream",
     "text": [
      "width 1 \theight 2 \tarea: 2\n",
      "width 4 \theight 2.5 \tarea: 10.0\n",
      "width 3 \theight 5 \tarea: 15\n",
      "width 1.2 \theight 2 \tarea: 2.4\n",
      "width 1 \theight 6.2 \tarea: 6.2\n"
     ]
    }
   ],
   "source": [
    "#6.10 默认函数\n",
    "#Python允许带默认参数值的函数。当函数被调用时无参数，那么这些默认值就会被传递给实参\n",
    "#程序清单6-9\n",
    "def printArea(width = 1,height = 2):\n",
    "    area = width * height\n",
    "    print('width',width,'\\theight',height,'\\tarea:',area)\n",
    "printArea()\n",
    "printArea(4,2.5)\n",
    "printArea(height = 5,width = 3)\n",
    "printArea(width = 1.2)\n",
    "printArea(height = 6.2)"
   ]
  },
  {
   "cell_type": "code",
   "execution_count": 28,
   "metadata": {},
   "outputs": [
    {
     "name": "stdout",
     "output_type": "stream",
     "text": [
      "1 2\n",
      "5 2\n",
      "1 24\n",
      "4 5\n"
     ]
    }
   ],
   "source": [
    "#检查点6.20\n",
    "def f(w = 1,h = 2):\n",
    "    print(w,h)\n",
    "f()\n",
    "f(w = 5)\n",
    "f(h = 24)\n",
    "f(4,5)"
   ]
  },
  {
   "cell_type": "markdown",
   "metadata": {},
   "source": [
    "检查点6.21\n",
    "非默认参数必须在默认参数之前"
   ]
  },
  {
   "cell_type": "markdown",
   "metadata": {},
   "source": [
    "检查点6.22\n",
    "将x限定在这个函数中，这意味着函数里的x和函数外的x是一样的"
   ]
  },
  {
   "cell_type": "markdown",
   "metadata": {},
   "source": [
    "#6.11 返回多个值\n",
    "Python的return语句可以返回多个值\n"
   ]
  },
  {
   "cell_type": "code",
   "execution_count": 31,
   "metadata": {},
   "outputs": [
    {
     "name": "stdout",
     "output_type": "stream",
     "text": [
      "n1 is 2\n",
      "n2 is 3\n"
     ]
    }
   ],
   "source": [
    "#程序清单6-10\n",
    "def sort(number1,number2):\n",
    "    if number1 < number2:\n",
    "        return number1,number2\n",
    "    else:\n",
    "        return number2,number1\n",
    "n1,n2 = sort(3,2)\n",
    "print('n1 is',n1)\n",
    "print('n2 is',n2)"
   ]
  },
  {
   "cell_type": "code",
   "execution_count": 32,
   "metadata": {},
   "outputs": [
    {
     "name": "stdout",
     "output_type": "stream",
     "text": [
      "14 4 45 1.8\n"
     ]
    }
   ],
   "source": [
    "#检查点6.23\n",
    "def f(x,y):\n",
    "    return x + y,x - y,x * y,x / y\n",
    "t1,t2,t3,t4 = f(9,5)\n",
    "print(t1,t2,t3,t4) #可以返回多个值"
   ]
  },
  {
   "cell_type": "markdown",
   "metadata": {},
   "source": [
    "#6.12 实例研究：生成随机ASCII码"
   ]
  },
  {
   "cell_type": "code",
   "execution_count": 40,
   "metadata": {},
   "outputs": [],
   "source": [
    "#程序清单6-11\n",
    "from random import randint\n",
    "def a(ch1,ch2):\n",
    "    return chr(randint(ord(ch1),ord(ch2)))\n",
    "def b():\n",
    "    return a('a','z')\n",
    "def c():\n",
    "    return a('A','Z')\n",
    "def d():\n",
    "    return a('0','9')\n",
    "def f():\n",
    "    return chr(randint(0,127))\n"
   ]
  },
  {
   "cell_type": "code",
   "execution_count": 42,
   "metadata": {},
   "outputs": [
    {
     "ename": "ModuleNotFoundError",
     "evalue": "No module named 'a'",
     "output_type": "error",
     "traceback": [
      "\u001b[0;31m---------------------------------------------------------------------------\u001b[0m",
      "\u001b[0;31mModuleNotFoundError\u001b[0m                       Traceback (most recent call last)",
      "\u001b[0;32m<ipython-input-42-4576d783c748>\u001b[0m in \u001b[0;36m<module>\u001b[0;34m()\u001b[0m\n\u001b[1;32m      1\u001b[0m \u001b[0;31m#程序清单6-12\u001b[0m\u001b[0;34m\u001b[0m\u001b[0;34m\u001b[0m\u001b[0m\n\u001b[0;32m----> 2\u001b[0;31m \u001b[0;32mimport\u001b[0m \u001b[0ma\u001b[0m\u001b[0;34m\u001b[0m\u001b[0m\n\u001b[0m\u001b[1;32m      3\u001b[0m \u001b[0mNUMBER_OF_CHARS\u001b[0m \u001b[0;34m=\u001b[0m \u001b[0;36m175\u001b[0m\u001b[0;34m\u001b[0m\u001b[0m\n\u001b[1;32m      4\u001b[0m \u001b[0mCHARS_PER_LINE\u001b[0m \u001b[0;34m=\u001b[0m \u001b[0;36m25\u001b[0m\u001b[0;34m\u001b[0m\u001b[0m\n\u001b[1;32m      5\u001b[0m \u001b[0;32mfor\u001b[0m \u001b[0mi\u001b[0m \u001b[0;32min\u001b[0m \u001b[0mrange\u001b[0m\u001b[0;34m(\u001b[0m\u001b[0mNUMBER_OF_CHARS\u001b[0m\u001b[0;34m)\u001b[0m\u001b[0;34m:\u001b[0m\u001b[0;34m\u001b[0m\u001b[0m\n",
      "\u001b[0;31mModuleNotFoundError\u001b[0m: No module named 'a'"
     ]
    }
   ],
   "source": [
    "#程序清单6-12\n",
    "import RandomCharacter\n",
    "NUMBER_OF_CHARS = 175\n",
    "CHARS_PER_LINE = 25\n",
    "for i in range(NUMBER_OF_CHARS):\n",
    "    print(a,b(),end = '')\n",
    "    if (i + 1) % CHARS_PER_LINE == 0:\n",
    "        print()"
   ]
  },
  {
   "cell_type": "markdown",
   "metadata": {},
   "source": [
    "#检查点6.24  random. randint(34,55)\n",
    "检查点6.25   chr(random.randint(ord('B'),ord('M')）\n",
    "检查点6.26   random.randint()*50 + 6.5\n",
    "检查点6.27   chr(random.randint(ord('a'),ord('z'))"
   ]
  },
  {
   "cell_type": "code",
   "execution_count": null,
   "metadata": {},
   "outputs": [],
   "source": [
    "6.13 函数抽象和逐步求精\n",
    "函数抽象就是将函数的使用和函数的实现分开来实现的。"
   ]
  },
  {
   "cell_type": "code",
   "execution_count": 2,
   "metadata": {},
   "outputs": [
    {
     "ename": "SyntaxError",
     "evalue": "EOL while scanning string literal (<ipython-input-2-9b58aaf321ce>, line 19)",
     "output_type": "error",
     "traceback": [
      "\u001b[0;36m  File \u001b[0;32m\"<ipython-input-2-9b58aaf321ce>\"\u001b[0;36m, line \u001b[0;32m19\u001b[0m\n\u001b[0;31m    print(format(i,'4d‘),end = '')\u001b[0m\n\u001b[0m                                  ^\u001b[0m\n\u001b[0;31mSyntaxError\u001b[0m\u001b[0;31m:\u001b[0m EOL while scanning string literal\n"
     ]
    }
   ],
   "source": [
    "#假设要编写一个程序，它显示给定年月的日历。程序提示用户输入年月，然后显示该月的整个日历。\n",
    "#分成两个子问题：获取用户的输入，打印该月的日历。\n",
    "#如何打印给定月份分成两个子问题：打印日历标题，打印日历主体\n",
    "# 程序清单6-13\n",
    "def printMonth(year,month):\n",
    "    printMonthTitle(year,month)\n",
    "    printMonthBody(year,month)\n",
    "def printMonthTitle(year,month):\n",
    "    print('       ',getMonthName(month),' ',year)\n",
    "    print('---------------------------------------')\n",
    "    print('Sun Mon Tue Wed Thu Fri Sat')\n",
    "def printMonthBody(year,month):\n",
    "    startDay = getStartDay(year,month)\n",
    "    numberOfDaysInMonth = getNumberOfDaysInMonth(year,month)\n",
    "    i = 0\n",
    "    for i in range(0,startDay):\n",
    "        print('    ',end = '')\n",
    "    for i in range(1,numberOfDaysInMonth + 1):\n",
    "        print(format(i,'4d‘),end = '')\n",
    "        if (i + startDay) % 7 == 0:\n",
    "            print()\n",
    "def getMonthName(month):\n",
    "    if month == 1:\n",
    "        monthName = 'January'\n",
    "    elif month == 2:\n",
    "        monthName = 'February'\n",
    "    elif month == 3:\n",
    "        monthName = 'March'\n",
    "    elif month == 4:\n",
    "        monthName = 'April'\n",
    "    elif month == 5:\n",
    "        monthName = 'May'\n",
    "    elif month = 6:\n",
    "        monthName = 'June'\n",
    "    elif month == 7:\n",
    "        monthName = 'July'\n",
    "    elif month == 8:\n",
    "        monthName = 'August'\n",
    "    elif month == 9:\n",
    "        monthName = 'September'\n",
    "    elif month == 10:\n",
    "        monthName = 'October'\n",
    "    elif month == 11:\n",
    "        monthName = 'November'\n",
    "    else:\n",
    "        monthName = 'December'\n",
    "    return monthName\n",
    "def getStartDay(year,month):\n",
    "    START_DAY_FOR_JAN_1_1800 = 3\n",
    "    totalNumberOfDays = getTotalNumberOfDays(year,month)\n",
    "    return(totalNumberOfDays +  START_DAY_FOR_JAN_1_1800) % 7\n",
    "def getTotalNumberOfDays(year,month):\n",
    "    total = 0\n",
    "    for i in range(1800,year):\n",
    "        if isLeapYear(i):\n",
    "              total = total + 366\n",
    "        else:\n",
    "              total = total + 365\n",
    "    for i in range(1,month):\n",
    "        total = total + getNumberOfDaysInMonth(year,i)\n",
    "    return total\n",
    "def getNumberOfDaysInMonth(year,month):\n",
    "    if (month == 1 or month == 3 or month == 5 or month == 7 or month == 10 or month == 12):\n",
    "        return 31\n",
    "    if month == 4 or month == 6 or month == 9 or month == 11:\n",
    "        return 30\n",
    "    if month == 2:\n",
    "        return 29 if isLeapYear(year) else 28\n",
    "    return 0\n",
    "def isLeapYear(year):\n",
    "    return year % 400 == 0 or (year % 4 == 0 and year % 100 != 0)\n",
    "def main():\n",
    "    year = eval(input('Enter full year(e.g.,2001):'))\n",
    "    month = eval(input(('Enter month as number between 1 and 12:')))\n",
    "    printMonth(year,month)\n",
    "main()"
   ]
  },
  {
   "cell_type": "code",
   "execution_count": 21,
   "metadata": {},
   "outputs": [
    {
     "data": {
      "text/plain": [
       "14950.0"
      ]
     },
     "execution_count": 21,
     "metadata": {},
     "output_type": "execute_result"
    }
   ],
   "source": [
    "#编程题6.1\n",
    "def getPentagona(n):\n",
    "    for a in range(1,100):\n",
    "        a = n * ((3 * n)- 1) / 2\n",
    "        return a\n",
    "getPentagona(100)"
   ]
  },
  {
   "cell_type": "code",
   "execution_count": 19,
   "metadata": {},
   "outputs": [
    {
     "name": "stdout",
     "output_type": "stream",
     "text": [
      "Enter a n:234\n",
      "相加的和为： 9\n"
     ]
    }
   ],
   "source": [
    "#编程题6.2  用循环怎么写\n",
    "def  sumDigits(n):\n",
    "    n1 = n // 100 #百位上的数\n",
    "    n2 = n % 10 #十位上的数\n",
    "    n3 = (n % 100) //10 #个位上的数\n",
    "    n4 = n1 + n2 + n3\n",
    "    return n4\n",
    "def main():\n",
    "    n = eval(input('Enter a n:'))\n",
    "    print('相加的和为：',sumDigits(n))\n",
    "main()"
   ]
  },
  {
   "cell_type": "code",
   "execution_count": 23,
   "metadata": {},
   "outputs": [
    {
     "name": "stdout",
     "output_type": "stream",
     "text": [
      "输入一个数:121\n",
      "k\n"
     ]
    }
   ],
   "source": [
    "#编程题6.3\n",
    "def reverse(number):\n",
    "    n1 = number // 100\n",
    "    n2 = number % 10\n",
    "    n3 = (number % 100) // 10\n",
    "    return n1,n2,n3\n",
    "def isPalindrome(number):\n",
    "    m1 = (number % 100) // 10\n",
    "    m2 = number % 10\n",
    "    m3 = number // 100\n",
    "    return m1,m2,m3\n",
    "def main():\n",
    "    number = eval(input('输入一个数:'))\n",
    "    if reverse(number) == isPalindrome(number):\n",
    "        print(number)\n",
    "    else:\n",
    "        print('k')\n",
    "main()"
   ]
  },
  {
   "cell_type": "code",
   "execution_count": 11,
   "metadata": {},
   "outputs": [
    {
     "name": "stdout",
     "output_type": "stream",
     "text": [
      "输入一个数1\n",
      "输入一个数2\n",
      "输入一个数3\n",
      "3 2 1\n"
     ]
    }
   ],
   "source": [
    "#编程题6.5\n",
    "def reverse(a,b,c):\n",
    "    a = eval(input('输入一个数'))\n",
    "    b = eval(input('输入一个数'))\n",
    "    c = eval(input('输入一个数'))\n",
    "    if a > b > c:\n",
    "        print(a,b,c)\n",
    "    elif b > a > c:\n",
    "        print(b,a,c)\n",
    "    elif c > b > a:\n",
    "        print(c,b,a)      \n",
    "reverse(1,2,3)"
   ]
  }
 ],
 "metadata": {
  "kernelspec": {
   "display_name": "Python 3",
   "language": "python",
   "name": "python3"
  },
  "language_info": {
   "codemirror_mode": {
    "name": "ipython",
    "version": 3
   },
   "file_extension": ".py",
   "mimetype": "text/x-python",
   "name": "python",
   "nbconvert_exporter": "python",
   "pygments_lexer": "ipython3",
   "version": "3.6.7"
  }
 },
 "nbformat": 4,
 "nbformat_minor": 2
}
