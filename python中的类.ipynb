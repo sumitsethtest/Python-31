{
 "cells": [
  {
   "cell_type": "markdown",
   "metadata": {},
   "source": [
    "## 对象和类"
   ]
  },
  {
   "cell_type": "code",
   "execution_count": 1,
   "metadata": {},
   "outputs": [
    {
     "name": "stdout",
     "output_type": "stream",
     "text": [
      "hello\n"
     ]
    }
   ],
   "source": [
    "##定义类\n",
    "class Zwx(object):#python2中必须写object,python3中随意\n",
    "    print('hello')"
   ]
  },
  {
   "cell_type": "code",
   "execution_count": 2,
   "metadata": {},
   "outputs": [
    {
     "name": "stdout",
     "output_type": "stream",
     "text": [
      "hello\n"
     ]
    }
   ],
   "source": [
    "class Zwx:\n",
    "    print('hello')"
   ]
  },
  {
   "cell_type": "markdown",
   "metadata": {},
   "source": [
    "### 定义一个不含初始化init的简单类\n"
   ]
  },
  {
   "cell_type": "code",
   "execution_count": 8,
   "metadata": {},
   "outputs": [],
   "source": [
    "class Zwx1:\n",
    "    a = 'hello'\n",
    "    def b():\n",
    "        print('hhahah')"
   ]
  },
  {
   "cell_type": "code",
   "execution_count": 12,
   "metadata": {},
   "outputs": [
    {
     "name": "stdout",
     "output_type": "stream",
     "text": [
      "hhahah\n"
     ]
    }
   ],
   "source": [
    "Zwx1.b()"
   ]
  },
  {
   "cell_type": "code",
   "execution_count": 13,
   "metadata": {},
   "outputs": [
    {
     "data": {
      "text/plain": [
       "'hello'"
      ]
     },
     "execution_count": 13,
     "metadata": {},
     "output_type": "execute_result"
    }
   ],
   "source": [
    "Zwx1.a"
   ]
  },
  {
   "cell_type": "markdown",
   "metadata": {},
   "source": [
    "### 定义一个带初始化init的类"
   ]
  },
  {
   "cell_type": "code",
   "execution_count": 16,
   "metadata": {},
   "outputs": [],
   "source": [
    "class Zwx2():\n",
    "    def __init__(self,num = 5):\n",
    "        self.num = num\n",
    "    def aa(self):\n",
    "        return self.num * 3"
   ]
  },
  {
   "cell_type": "code",
   "execution_count": 18,
   "metadata": {},
   "outputs": [
    {
     "data": {
      "text/plain": [
       "6"
      ]
     },
     "execution_count": 18,
     "metadata": {},
     "output_type": "execute_result"
    }
   ],
   "source": [
    "c = Zwx2(2)\n",
    "c.aa()  #要加这个括号，表示初始化"
   ]
  },
  {
   "cell_type": "markdown",
   "metadata": {},
   "source": [
    "### 定义一个标准类"
   ]
  },
  {
   "cell_type": "code",
   "execution_count": 19,
   "metadata": {},
   "outputs": [],
   "source": [
    "class Zwx3:\n",
    "    def __init__(self):\n",
    "        print('hahaha')\n",
    "        "
   ]
  },
  {
   "cell_type": "code",
   "execution_count": 21,
   "metadata": {},
   "outputs": [
    {
     "name": "stdout",
     "output_type": "stream",
     "text": [
      "hahaha\n"
     ]
    },
    {
     "data": {
      "text/plain": [
       "<__main__.Zwx3 at 0x10694e198>"
      ]
     },
     "execution_count": 21,
     "metadata": {},
     "output_type": "execute_result"
    }
   ],
   "source": [
    "Zwx3()"
   ]
  },
  {
   "cell_type": "code",
   "execution_count": 22,
   "metadata": {},
   "outputs": [],
   "source": [
    "class Zwx3:\n",
    "    def __init__(self):\n",
    "        print('run Zwx3')\n",
    "        self.zwx = 'hello'"
   ]
  },
  {
   "cell_type": "code",
   "execution_count": 24,
   "metadata": {},
   "outputs": [
    {
     "name": "stdout",
     "output_type": "stream",
     "text": [
      "run Zwx3\n"
     ]
    }
   ],
   "source": [
    "a = Zwx3()  #运行这个类"
   ]
  },
  {
   "cell_type": "code",
   "execution_count": 25,
   "metadata": {},
   "outputs": [
    {
     "data": {
      "text/plain": [
       "'hello'"
      ]
     },
     "execution_count": 25,
     "metadata": {},
     "output_type": "execute_result"
    }
   ],
   "source": [
    "a.zwx"
   ]
  },
  {
   "cell_type": "code",
   "execution_count": 27,
   "metadata": {},
   "outputs": [],
   "source": [
    "class Zwx4:\n",
    "    def __init__(self,x=1,y=2):\n",
    "        self.x = x ##也可以把上面x的值放在下面，例如：self.x = 1\n",
    "        self.y = y\n",
    "    def a(self):\n",
    "        return self.x + self.y\n",
    "    def b(self):\n",
    "        self.x -= 1\n",
    "        self.y += 1\n",
    "        return self.x,self.y"
   ]
  },
  {
   "cell_type": "code",
   "execution_count": 32,
   "metadata": {},
   "outputs": [
    {
     "data": {
      "text/plain": [
       "3"
      ]
     },
     "execution_count": 32,
     "metadata": {},
     "output_type": "execute_result"
    }
   ],
   "source": [
    "c = Zwx4() #一定要加这个括号\n",
    "c.a()"
   ]
  },
  {
   "cell_type": "code",
   "execution_count": 33,
   "metadata": {},
   "outputs": [
    {
     "data": {
      "text/plain": [
       "(0, 3)"
      ]
     },
     "execution_count": 33,
     "metadata": {},
     "output_type": "execute_result"
    }
   ],
   "source": [
    "c.b()"
   ]
  },
  {
   "cell_type": "code",
   "execution_count": 1,
   "metadata": {},
   "outputs": [],
   "source": [
    "class Zwx5:\n",
    "    def __init__(self,num = 10):\n",
    "        self.x = num\n",
    "        self.x1 = None\n",
    "        self.x2 = None\n",
    "    def a(self):\n",
    "        self.x1 = self.x ** 2\n",
    "    def b(self):\n",
    "        self.x2 = self.x ** 3\n",
    "    def c(self):\n",
    "        self.a()\n",
    "        self.b()\n",
    "        return self.x2 - self.x1\n",
    "        "
   ]
  },
  {
   "cell_type": "code",
   "execution_count": 2,
   "metadata": {},
   "outputs": [
    {
     "data": {
      "text/plain": [
       "900"
      ]
     },
     "execution_count": 2,
     "metadata": {},
     "output_type": "execute_result"
    }
   ],
   "source": [
    "Zwx5().c()"
   ]
  },
  {
   "cell_type": "code",
   "execution_count": 25,
   "metadata": {},
   "outputs": [],
   "source": [
    "class Zwx6:\n",
    "    def __init__(self):\n",
    "        self.x = 100\n",
    "        self.x1 = 0\n",
    "        self.x2 = 0\n",
    "    def fun1(self):\n",
    "        self.x1 = self.x ** 2\n",
    "        print(self.x1)\n",
    "    def fun2(self):\n",
    "        self.x2 = self.x ** 3\n",
    "        print(self.x2)\n",
    "    def fun3(self):\n",
    "        a = self.x2 - self.x1\n",
    "        return a"
   ]
  },
  {
   "cell_type": "code",
   "execution_count": 26,
   "metadata": {},
   "outputs": [
    {
     "name": "stdout",
     "output_type": "stream",
     "text": [
      "10000\n",
      "1000000\n"
     ]
    },
    {
     "data": {
      "text/plain": [
       "0"
      ]
     },
     "execution_count": 26,
     "metadata": {},
     "output_type": "execute_result"
    }
   ],
   "source": [
    "Zwx6().fun1()\n",
    "Zwx6().fun2()\n",
    "Zwx6().fun3()"
   ]
  },
  {
   "cell_type": "markdown",
   "metadata": {},
   "source": [
    "### 使用类Cirlcle"
   ]
  },
  {
   "cell_type": "code",
   "execution_count": 28,
   "metadata": {},
   "outputs": [],
   "source": [
    "import math\n",
    "class ClassCircle:\n",
    "    def __init__(self,redius1 = 10):\n",
    "        self.redius1 = redius1\n",
    "    def fun1(self):\n",
    "        return 2 * self.redius1 * math.pi\n",
    "    def fun2(self):\n",
    "        return math.pi * self.redius1 ** 2\n",
    "    def fun3(self):\n",
    "        return self.redius1"
   ]
  },
  {
   "cell_type": "code",
   "execution_count": 30,
   "metadata": {},
   "outputs": [
    {
     "data": {
      "text/plain": [
       "10"
      ]
     },
     "execution_count": 30,
     "metadata": {},
     "output_type": "execute_result"
    }
   ],
   "source": [
    "c = ClassCircle()\n",
    "c.fun1()\n",
    "c.fun2()\n",
    "c.fun3()"
   ]
  },
  {
   "cell_type": "code",
   "execution_count": 31,
   "metadata": {},
   "outputs": [
    {
     "data": {
      "text/plain": [
       "4"
      ]
     },
     "execution_count": 31,
     "metadata": {},
     "output_type": "execute_result"
    }
   ],
   "source": [
    "D = ClassCircle(4)  #传进去redius1的值为4\n",
    "D.fun1()\n",
    "D.fun2()\n",
    "D.fun3()"
   ]
  },
  {
   "cell_type": "markdown",
   "metadata": {},
   "source": [
    "### 类的传参"
   ]
  },
  {
   "cell_type": "code",
   "execution_count": 32,
   "metadata": {},
   "outputs": [],
   "source": [
    "#类的传参\n",
    "class SqrtNum():\n",
    "    def __init__(self):\n",
    "        self.num = None\n",
    "    def fun1(self):\n",
    "        self.num = eval(input('Enter a number:')) #获得num的值\n",
    "        return self.num\n",
    "    def fun2(self):\n",
    "        return self.num**2\n",
    "    def fun3(self):\n",
    "        print(self.num**2 - self.num)"
   ]
  },
  {
   "cell_type": "code",
   "execution_count": 34,
   "metadata": {},
   "outputs": [
    {
     "name": "stdout",
     "output_type": "stream",
     "text": [
      "Enter a number:2\n",
      "2\n",
      "4\n",
      "2\n"
     ]
    }
   ],
   "source": [
    "C4 = SqrtNum()\n",
    "print(C4.fun1())\n",
    "print(C4.fun2())\n",
    "C4.fun3()"
   ]
  },
  {
   "cell_type": "markdown",
   "metadata": {},
   "source": [
    "### 类的继承"
   ]
  },
  {
   "cell_type": "code",
   "execution_count": 14,
   "metadata": {},
   "outputs": [],
   "source": [
    "class Zwx():\n",
    "    def __init__(self):\n",
    "        self.__a = '嗯嗯' #__  表示私有变量，不动\n",
    "    def a(self):\n",
    "        print(self.a)"
   ]
  },
  {
   "cell_type": "code",
   "execution_count": 15,
   "metadata": {},
   "outputs": [],
   "source": [
    "class Zwx0():\n",
    "    def __init__(self):\n",
    "        self.k = '嗯'\n",
    "    def aaa(self):\n",
    "        print(self.k)"
   ]
  },
  {
   "cell_type": "code",
   "execution_count": 16,
   "metadata": {},
   "outputs": [],
   "source": [
    "class Zwx1(Zwx):\n",
    "    def __init__(self):\n",
    "        Zwx.__init__(self)\n",
    "        self.b = 'haha'\n",
    "    def aa(self):\n",
    "        print(self.b)\n",
    "        print(self.a)\n",
    "        self.a()"
   ]
  },
  {
   "cell_type": "code",
   "execution_count": 17,
   "metadata": {},
   "outputs": [
    {
     "name": "stdout",
     "output_type": "stream",
     "text": [
      "haha\n",
      "<bound method Zwx.a of <__main__.Zwx1 object at 0x10eed9ac8>>\n",
      "<bound method Zwx.a of <__main__.Zwx1 object at 0x10eed9ac8>>\n"
     ]
    }
   ],
   "source": [
    "Zwx1().aa()"
   ]
  },
  {
   "cell_type": "code",
   "execution_count": null,
   "metadata": {},
   "outputs": [],
   "source": []
  }
 ],
 "metadata": {
  "kernelspec": {
   "display_name": "Python 3",
   "language": "python",
   "name": "python3"
  },
  "language_info": {
   "codemirror_mode": {
    "name": "ipython",
    "version": 3
   },
   "file_extension": ".py",
   "mimetype": "text/x-python",
   "name": "python",
   "nbconvert_exporter": "python",
   "pygments_lexer": "ipython3",
   "version": "3.6.8"
  }
 },
 "nbformat": 4,
 "nbformat_minor": 2
}
