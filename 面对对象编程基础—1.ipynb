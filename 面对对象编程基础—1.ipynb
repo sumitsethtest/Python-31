{
 "cells": [
  {
   "cell_type": "markdown",
   "metadata": {},
   "source": [
    "### 知识点"
   ]
  },
  {
   "cell_type": "markdown",
   "metadata": {},
   "source": [
    "1.导入库，import命名\n",
    "\n",
    "2.for循环，如果计数的情况使用   range（开始，结束，步长） 前闭后开\n",
    "  \n",
    "3.格式化输出\n",
    "        \n",
    "        %（） ，%d后接整数，%f后接浮点，%s后接字符串\n",
    "        .{}   format()   他可以直接传入任何类型，然后格式化输出\n",
    "4.print  控制台打印\n",
    "    \n",
    "    end  以什么方式结尾，默认是换行符“\\n”\n",
    "    \n",
    "    flush 刷新缓冲区"
   ]
  },
  {
   "cell_type": "code",
   "execution_count": 7,
   "metadata": {},
   "outputs": [
    {
     "name": "stdout",
     "output_type": "stream",
     "text": [
      "这个就是插入整数2\n",
      "这个就是插入字符串哈哈哈\n",
      "这个就是插入浮点数0.09\n"
     ]
    }
   ],
   "source": [
    "print(\"这个就是插入整数%d\"%2)\n",
    "print(\"这个就是插入字符串%s\"%\"哈哈哈\")\n",
    "print('这个就是插入浮点数%.2f'%0.09)  #这里保留了两位小数"
   ]
  },
  {
   "cell_type": "code",
   "execution_count": 3,
   "metadata": {},
   "outputs": [
    {
     "name": "stdout",
     "output_type": "stream",
     "text": [
      "10\n",
      "10\n"
     ]
    }
   ],
   "source": [
    "#类中的参数\n",
    "#在python2中object必须写，在python3中必须写\n",
    "class A(object):\n",
    "    def __init__(self,a):\n",
    "        self.a = a  #表示共享这个参数\n",
    "    def B(self,b):\n",
    "        self.b = b\n",
    "        print(b)\n",
    "    def C(self):\n",
    "        print(self.b)\n",
    "#类的调用\n",
    "J = A(1000)\n",
    "J.B(10)\n",
    "J.C()"
   ]
  },
  {
   "cell_type": "code",
   "execution_count": 4,
   "metadata": {},
   "outputs": [
    {
     "name": "stdout",
     "output_type": "stream",
     "text": [
      "100\n"
     ]
    },
    {
     "data": {
      "text/plain": [
       "<__main__.Student at 0x109704b70>"
      ]
     },
     "execution_count": 4,
     "metadata": {},
     "output_type": "execute_result"
    }
   ],
   "source": [
    "# object 不是一个参数 ，可写可不写\n",
    "\"\"\"\n",
    "定义类只有两步:\n",
    "1. 使用标识符class ClassName(object):\n",
    "2. 重写__init__函数,但是需要记住,一定要打上一个\"self\"的标记\n",
    "   因为后面会学到继承,当在继承的时候可能就会有函数名相撞的情况.\n",
    "   或者说,类中会含有多个变量,多个函数,那么就需要使用\"self\"手段去区分.\n",
    "3. 类的传参是在__init__函数中的.需要注意的是,如果你的参数可能被多个函数都使用,那么\n",
    "   你才在__init__函数中去定义参数\n",
    "\"\"\"\n",
    "class Student(object):\n",
    "    def __init__(self,name):\n",
    "      \t# 多个打印用\",\"进行分隔.\n",
    "        print(name)\n",
    "\n",
    "\n",
    "Student(100)"
   ]
  },
  {
   "cell_type": "markdown",
   "metadata": {},
   "source": [
    "### 简单实例"
   ]
  },
  {
   "cell_type": "code",
   "execution_count": 6,
   "metadata": {},
   "outputs": [
    {
     "name": "stdout",
     "output_type": "stream",
     "text": [
      "不是智障\n"
     ]
    },
    {
     "data": {
      "text/plain": [
       "<__main__.Old at 0x1099c2908>"
      ]
     },
     "execution_count": 6,
     "metadata": {},
     "output_type": "execute_result"
    }
   ],
   "source": [
    "class Old():\n",
    "    def __init__(self,age):\n",
    "        if age > 18:\n",
    "            print(\"不是智障\")\n",
    "        else:\n",
    "            print(\"是智障\")\n",
    "Old(20)"
   ]
  },
  {
   "cell_type": "code",
   "execution_count": 7,
   "metadata": {},
   "outputs": [
    {
     "name": "stdout",
     "output_type": "stream",
     "text": [
      "可以看\n"
     ]
    },
    {
     "data": {
      "text/plain": [
       "<__main__.Old at 0x109c35cf8>"
      ]
     },
     "execution_count": 7,
     "metadata": {},
     "output_type": "execute_result"
    }
   ],
   "source": [
    "class Old(object):\n",
    "    def __init__(self,age):\n",
    "        if age > 18 and age < 20 :\n",
    "            print(\"可以看\")\n",
    "        elif (age<18):\n",
    "            print(\"只能看动画片\")\n",
    "        else:\n",
    "            print(\"别看了\")\n",
    "Old(19)"
   ]
  },
  {
   "cell_type": "code",
   "execution_count": 8,
   "metadata": {},
   "outputs": [
    {
     "name": "stdout",
     "output_type": "stream",
     "text": [
      "100\n"
     ]
    }
   ],
   "source": [
    "class Name(object):\n",
    "    def __init__(self,a):\n",
    "        self.a = a\n",
    "    def func1(self):\n",
    "        print(self.a)\n",
    "name = Name(100)\n",
    "name.func1()"
   ]
  },
  {
   "cell_type": "code",
   "execution_count": 9,
   "metadata": {},
   "outputs": [
    {
     "name": "stdout",
     "output_type": "stream",
     "text": [
      "他是一个小女孩\n"
     ]
    }
   ],
   "source": [
    "class Zuoye(object):\n",
    "    def __init__(self,a,b):\n",
    "        self.a = a\n",
    "        self.b = b\n",
    "    def panduan(self):\n",
    "        if self.a<18 and self.b == \"gril\":\n",
    "            print(\"他是一个小女孩\")\n",
    "        elif self.a<18 and self.b == \"boy\": \n",
    "            print(\"他是一个小男孩\")\n",
    "        elif 40<self.a<18 and self.b == \"boy\": \n",
    "            print(\"他是一个青年男孩\")\n",
    "        elif 40<self.a<18 and self.b == \"gril\": \n",
    "            print(\"他是一个青年女孩\")\n",
    "        elif self.a>40 and self.b==\"boy\": \n",
    "            print(\"他是一个老男孩\")\n",
    "        elif self.a>40 and self.b == \"gril\": \n",
    "            print(\"他是一个老女孩\")\n",
    "zuoye = Zuoye(6,\"gril\")\n",
    "zuoye.panduan()"
   ]
  },
  {
   "cell_type": "code",
   "execution_count": 10,
   "metadata": {},
   "outputs": [
    {
     "name": "stdout",
     "output_type": "stream",
     "text": [
      "老年\n",
      "女孩\n"
     ]
    }
   ],
   "source": [
    "class Zwx(object):\n",
    "    def __init__(self,x,x1):\n",
    "        self.x = x\n",
    "        self.x1 = x1\n",
    "       \n",
    "    def fun1(self):\n",
    "        if self.x<18:\n",
    "            print(\"小孩\")\n",
    "        elif 18<self.x<40:\n",
    "            print(\"中年\")\n",
    "        else:\n",
    "            print(\"老年\")\n",
    "    def fun2(self):\n",
    "        if self.x1 == \"gril\":\n",
    "            print(\"女孩\")\n",
    "        else:\n",
    "            print(\"男孩\")\n",
    "a = Zwx(47,\"gril\")\n",
    "a.fun1()\n",
    "a.fun2()"
   ]
  },
  {
   "cell_type": "markdown",
   "metadata": {},
   "source": [
    "#### 实现进度条"
   ]
  },
  {
   "cell_type": "code",
   "execution_count": 7,
   "metadata": {},
   "outputs": [],
   "source": [
    "import time, sys\n",
    "\n",
    "def process(num,total):\n",
    "    rate = num / total\n",
    "    ratenum = int(round(rate, 2) * 100)\n",
    "    bar = '\\r%s%% %s%s ' %(ratenum, '#'*ratenum, ' '*(100 - ratenum))\n",
    "    #print(bar)\n",
    "    sys.stdout.write(bar) #实现打印刷新"
   ]
  },
  {
   "cell_type": "code",
   "execution_count": 8,
   "metadata": {},
   "outputs": [
    {
     "name": "stdout",
     "output_type": "stream",
     "text": [
      "100% #################################################################################################### "
     ]
    }
   ],
   "source": [
    "n=10\n",
    "for i in range(1, n+1):\n",
    "    time.sleep(0.1)\n",
    "    process(i, n)"
   ]
  },
  {
   "cell_type": "markdown",
   "metadata": {},
   "source": [
    "#### 判断1--100之间的素数"
   ]
  },
  {
   "cell_type": "code",
   "execution_count": 11,
   "metadata": {},
   "outputs": [
    {
     "name": "stdout",
     "output_type": "stream",
     "text": [
      "是素数\n"
     ]
    }
   ],
   "source": [
    "class Name(object):\n",
    "    \"\"\"\n",
    "    判断一个数字是否是素数\n",
    "    \"\"\"\n",
    "    def __init__(self,num):\n",
    "        \"\"\"\n",
    "        Argus:\n",
    "        -----\n",
    "            num: int类型的数字\n",
    "        \"\"\"\n",
    "        self.num = num\n",
    "    def Check(self):\n",
    "        \"\"\"\n",
    "        检查self.num是不是素数\n",
    "        \"\"\"\n",
    "        for i in range(2,self.num):\n",
    "            if self.num % i == 0:\n",
    "                print('不是素数')\n",
    "                break\n",
    "        else:\n",
    "            print('是素数')\n",
    "name = Name(11)\n",
    "name.Check()\n",
    "    "
   ]
  },
  {
   "cell_type": "markdown",
   "metadata": {},
   "source": [
    "#### 时钟"
   ]
  },
  {
   "cell_type": "code",
   "execution_count": 37,
   "metadata": {},
   "outputs": [
    {
     "name": "stdout",
     "output_type": "stream",
     "text": [
      "23:59:58\n",
      "23:59:59\n",
      "00:00:00\n",
      "00:00:01\n",
      "00:00:02\n",
      "00:00:03\n",
      "00:00:04\n",
      "00:00:05\n",
      "00:00:06\n",
      "00:00:07\n",
      "00:00:08\n",
      "00:00:09\n"
     ]
    },
    {
     "ename": "KeyboardInterrupt",
     "evalue": "",
     "output_type": "error",
     "traceback": [
      "\u001b[0;31m---------------------------------------------------------------------------\u001b[0m",
      "\u001b[0;31mKeyboardInterrupt\u001b[0m                         Traceback (most recent call last)",
      "\u001b[0;32m<ipython-input-37-76ea81eec7b5>\u001b[0m in \u001b[0;36m<module>\u001b[0;34m\u001b[0m\n\u001b[1;32m     40\u001b[0m \u001b[0;34m\u001b[0m\u001b[0m\n\u001b[1;32m     41\u001b[0m \u001b[0;32mif\u001b[0m \u001b[0m__name__\u001b[0m \u001b[0;34m==\u001b[0m \u001b[0;34m'__main__'\u001b[0m\u001b[0;34m:\u001b[0m\u001b[0;34m\u001b[0m\u001b[0;34m\u001b[0m\u001b[0m\n\u001b[0;32m---> 42\u001b[0;31m     \u001b[0mmain\u001b[0m\u001b[0;34m(\u001b[0m\u001b[0;34m)\u001b[0m\u001b[0;34m\u001b[0m\u001b[0;34m\u001b[0m\u001b[0m\n\u001b[0m",
      "\u001b[0;32m<ipython-input-37-76ea81eec7b5>\u001b[0m in \u001b[0;36mmain\u001b[0;34m()\u001b[0m\n\u001b[1;32m     35\u001b[0m     \u001b[0;32mwhile\u001b[0m \u001b[0;32mTrue\u001b[0m\u001b[0;34m:\u001b[0m\u001b[0;34m\u001b[0m\u001b[0;34m\u001b[0m\u001b[0m\n\u001b[1;32m     36\u001b[0m         \u001b[0mprint\u001b[0m\u001b[0;34m(\u001b[0m\u001b[0mclock\u001b[0m\u001b[0;34m)\u001b[0m\u001b[0;34m\u001b[0m\u001b[0;34m\u001b[0m\u001b[0m\n\u001b[0;32m---> 37\u001b[0;31m         \u001b[0mtime\u001b[0m\u001b[0;34m.\u001b[0m\u001b[0msleep\u001b[0m\u001b[0;34m(\u001b[0m\u001b[0;36m1\u001b[0m\u001b[0;34m)\u001b[0m\u001b[0;34m\u001b[0m\u001b[0;34m\u001b[0m\u001b[0m\n\u001b[0m\u001b[1;32m     38\u001b[0m         \u001b[0mclock\u001b[0m\u001b[0;34m.\u001b[0m\u001b[0mrun\u001b[0m\u001b[0;34m(\u001b[0m\u001b[0;34m)\u001b[0m\u001b[0;34m\u001b[0m\u001b[0;34m\u001b[0m\u001b[0m\n\u001b[1;32m     39\u001b[0m \u001b[0;34m\u001b[0m\u001b[0m\n",
      "\u001b[0;31mKeyboardInterrupt\u001b[0m: "
     ]
    }
   ],
   "source": [
    "class Clock(object):\n",
    "    \"\"\"数字时钟\"\"\"\n",
    "\n",
    "    def __init__(self, hour=0, minute=0, second=0):\n",
    "        \"\"\"初始化方法\n",
    "\n",
    "        :param hour: 时\n",
    "        :param minute: 分\n",
    "        :param second: 秒\n",
    "        \"\"\"\n",
    "        self._hour = hour\n",
    "        self._minute = minute\n",
    "        self._second = second\n",
    "\n",
    "    def run(self):\n",
    "        \"\"\"走字\"\"\"\n",
    "        self._second += 1\n",
    "        if self._second == 60:\n",
    "            self._second = 0\n",
    "            self._minute += 1\n",
    "            if self._minute == 60:\n",
    "                self._minute = 0\n",
    "                self._hour += 1\n",
    "                if self._hour == 24:\n",
    "                    self._hour = 0\n",
    "\n",
    "    def __str__(self):\n",
    "        \"\"\"显示时间\"\"\"\n",
    "        return '%02d:%02d:%02d' % \\\n",
    "               (self._hour, self._minute, self._second)\n",
    "\n",
    "\n",
    "def main():\n",
    "    clock = Clock(23, 59, 58)\n",
    "    while True:\n",
    "        print(clock)\n",
    "        time.sleep(1)\n",
    "        clock.run()\n",
    "\n",
    "\n",
    "if __name__ == '__main__':\n",
    "    main()"
   ]
  },
  {
   "cell_type": "markdown",
   "metadata": {},
   "source": [
    "### 函数练习"
   ]
  },
  {
   "cell_type": "markdown",
   "metadata": {},
   "source": [
    "![avatar](01.png)"
   ]
  },
  {
   "cell_type": "markdown",
   "metadata": {},
   "source": [
    "#### 第一题\n"
   ]
  },
  {
   "cell_type": "code",
   "execution_count": 11,
   "metadata": {},
   "outputs": [
    {
     "name": "stdout",
     "output_type": "stream",
     "text": [
      "1\t5\t12\t22\t35\t51\t70\t92\t117\t145\t\n",
      "176\t210\t247\t287\t330\t376\t425\t477\t532\t590\t\n",
      "651\t715\t782\t852\t925\t1001\t1080\t1162\t1247\t1335\t\n",
      "1426\t1520\t1617\t1717\t1820\t1926\t2035\t2147\t2262\t2380\t\n",
      "2501\t2625\t2752\t2882\t3015\t3151\t3290\t3432\t3577\t3725\t\n",
      "3876\t4030\t4187\t4347\t4510\t4676\t4845\t5017\t5192\t5370\t\n",
      "5551\t5735\t5922\t6112\t6305\t6501\t6700\t6902\t7107\t7315\t\n",
      "7526\t7740\t7957\t8177\t8400\t8626\t8855\t9087\t9322\t9560\t\n",
      "9801\t10045\t10292\t10542\t10795\t11051\t11310\t11572\t11837\t12105\t\n",
      "12376\t12650\t12927\t13207\t13490\t13776\t14065\t14357\t14652\t"
     ]
    }
   ],
   "source": [
    "def getPentagona1Number():\n",
    "    count = 0\n",
    "    for n in range(1,100):\n",
    "        number = (n * (3* n - 1)) / 2\n",
    "        print(int(number),end = \"\\t\")\n",
    "        count += 1\n",
    "        if count % 10 == 0:\n",
    "             print(end = \"\\n\")        \n",
    "            \n",
    "getPentagona1Number()   "
   ]
  },
  {
   "cell_type": "code",
   "execution_count": 12,
   "metadata": {},
   "outputs": [
    {
     "name": "stdout",
     "output_type": "stream",
     "text": [
      "1\t5\t12\t22\t35\t51\t70\t92\t117\t145\t\n",
      "176\t210\t247\t287\t330\t376\t425\t477\t532\t590\t\n",
      "651\t715\t782\t852\t925\t1001\t1080\t1162\t1247\t1335\t\n",
      "1426\t1520\t1617\t1717\t1820\t1926\t2035\t2147\t2262\t2380\t\n",
      "2501\t2625\t2752\t2882\t3015\t3151\t3290\t3432\t3577\t3725\t\n",
      "3876\t4030\t4187\t4347\t4510\t4676\t4845\t5017\t5192\t5370\t\n",
      "5551\t5735\t5922\t6112\t6305\t6501\t6700\t6902\t7107\t7315\t\n",
      "7526\t7740\t7957\t8177\t8400\t8626\t8855\t9087\t9322\t9560\t\n",
      "9801\t10045\t10292\t10542\t10795\t11051\t11310\t11572\t11837\t12105\t\n",
      "12376\t12650\t12927\t13207\t13490\t13776\t14065\t14357\t14652\t"
     ]
    },
    {
     "data": {
      "text/plain": [
       "<__main__.getPentagona1Number1 at 0x1078a7550>"
      ]
     },
     "execution_count": 12,
     "metadata": {},
     "output_type": "execute_result"
    }
   ],
   "source": [
    "class getPentagona1Number1(object):\n",
    "    def __init__(self):\n",
    "        count = 0\n",
    "        for n in range(1,100):\n",
    "            number = (n * (3* n - 1)) / 2\n",
    "            print(int(number),end = \"\\t\")\n",
    "            count += 1\n",
    "            if count % 10 == 0:\n",
    "                 print(end = \"\\n\")\n",
    "getPentagona1Number1()"
   ]
  },
  {
   "cell_type": "markdown",
   "metadata": {},
   "source": [
    "#### 第二题"
   ]
  },
  {
   "cell_type": "code",
   "execution_count": 13,
   "metadata": {},
   "outputs": [
    {
     "name": "stdout",
     "output_type": "stream",
     "text": [
      "Enter a n:234\n",
      "相加的和为： 9\n"
     ]
    }
   ],
   "source": [
    "def  sumDigits(n):\n",
    "    n1 = n // 100 #百位上的数\n",
    "    n2 = n % 10 #十位上的数\n",
    "    n3 = (n % 100) //10 #个位上的数\n",
    "    n4 = n1 + n2 + n3\n",
    "    return n4\n",
    "def main():\n",
    "    n = eval(input('Enter a n:'))\n",
    "    print('相加的和为：',sumDigits(n))\n",
    "main()"
   ]
  },
  {
   "cell_type": "code",
   "execution_count": 14,
   "metadata": {},
   "outputs": [
    {
     "name": "stdout",
     "output_type": "stream",
     "text": [
      "12\n"
     ]
    }
   ],
   "source": [
    "def sumDigits2(n):\n",
    "    #str 将括号中的内容全部转换为字符串\n",
    "    str_ = str(n)\n",
    "    int_ = 0\n",
    "    for i in str_:\n",
    "        int_ += int(i)\n",
    "    print(int_)\n",
    "sumDigits2(345)"
   ]
  },
  {
   "cell_type": "code",
   "execution_count": 102,
   "metadata": {},
   "outputs": [
    {
     "name": "stdout",
     "output_type": "stream",
     "text": [
      "相加的和为： 9\n"
     ]
    }
   ],
   "source": [
    "class BBB(object):\n",
    "    \n",
    "    def __init__(self,n):\n",
    "        self.n = n\n",
    "    def sumDigits1(self):\n",
    "        n1 = self.n // 100 #百位上的数\n",
    "        n2 = self.n % 10 #十位上的数\n",
    "        n3 = (self.n % 100) //10 #个位上的数\n",
    "        n4 = n1 + n2 + n3\n",
    "        print('相加的和为：',n4)\n",
    "B = BBB(234)\n",
    "B.sumDigits1()"
   ]
  },
  {
   "cell_type": "markdown",
   "metadata": {},
   "source": [
    "#### 第三题"
   ]
  },
  {
   "cell_type": "code",
   "execution_count": 16,
   "metadata": {},
   "outputs": [
    {
     "name": "stdout",
     "output_type": "stream",
     "text": [
      "输入一个数:234\n",
      "(2, 3, 4, 9)\n"
     ]
    }
   ],
   "source": [
    "def displaySortedNumbers(number):\n",
    "    List = []\n",
    "    n1 = number // 100\n",
    "    n2 = number % 10\n",
    "    n3 = (number % 100) // 10\n",
    "    List.append(n1)\n",
    "    List.append(n2)\n",
    "    List.append(n3)\n",
    "    List.sort()\n",
    "    return List[0],List[1],List[2],n1+n2+n3\n",
    "def main():\n",
    "    number = eval(input('输入一个数:'))\n",
    "    print(displaySortedNumbers(number))\n",
    "main()"
   ]
  },
  {
   "cell_type": "code",
   "execution_count": 103,
   "metadata": {},
   "outputs": [
    {
     "name": "stdout",
     "output_type": "stream",
     "text": [
      "输入san个数:2\n",
      "输入san个数:8\n",
      "输入san个数:0\n",
      "(0, 2, 8)\n"
     ]
    }
   ],
   "source": [
    "def a(n1,n2,n3):\n",
    "    List = []\n",
    "    List.append(n1)\n",
    "    List.append(n2)\n",
    "    List.append(n3)\n",
    "    List.sort()\n",
    "    return List[0],List[1],List[2]\n",
    "def main1():\n",
    "    n1 = eval(input('输入一个数:'))\n",
    "    n2 = eval(input('输入一个数:'))\n",
    "    n3 = eval(input('输入一个数:'))\n",
    "    print(a(n1,n2,n3))\n",
    "main1()"
   ]
  },
  {
   "cell_type": "code",
   "execution_count": 104,
   "metadata": {},
   "outputs": [
    {
     "data": {
      "text/plain": [
       "(0, 2, 8)"
      ]
     },
     "execution_count": 104,
     "metadata": {},
     "output_type": "execute_result"
    }
   ],
   "source": [
    "class A:\n",
    "    def __init__(self,n1,n2,n3):\n",
    "        self.n1 = n1\n",
    "        self.n2 = n2\n",
    "        self.n3 = n3\n",
    "    def aa(self):\n",
    "        List = []\n",
    "        List.append(self.n1)\n",
    "        List.append(self.n2)\n",
    "        List.append(self.n3)\n",
    "        List.sort()\n",
    "        return List[0],List[1],List[2]\n",
    "AA = A(2,8,0)\n",
    "AA.aa()"
   ]
  },
  {
   "cell_type": "markdown",
   "metadata": {},
   "source": [
    "![avatar](02.png)"
   ]
  },
  {
   "cell_type": "markdown",
   "metadata": {},
   "source": [
    "#### 第四题"
   ]
  },
  {
   "cell_type": "code",
   "execution_count": 23,
   "metadata": {
    "collapsed": true
   },
   "outputs": [
    {
     "name": "stdout",
     "output_type": "stream",
     "text": [
      "输入investmentAmount：1000\n",
      "输入monthlyInterestRate：9\n",
      "1 年后\t 1093.81\n",
      "2 年后\t 1196.41\n",
      "3 年后\t 1308.65\n",
      "4 年后\t 1431.41\n",
      "5 年后\t 1565.68\n",
      "6 年后\t 1712.55\n",
      "7 年后\t 1873.2\n",
      "8 年后\t 2048.92\n",
      "9 年后\t 2241.12\n",
      "10 年后\t 2451.36\n",
      "11 年后\t 2681.31\n",
      "12 年后\t 2932.84\n",
      "13 年后\t 3207.96\n",
      "14 年后\t 3508.89\n",
      "15 年后\t 3838.04\n",
      "16 年后\t 4198.08\n",
      "17 年后\t 4591.89\n",
      "18 年后\t 5022.64\n",
      "19 年后\t 5493.8\n",
      "20 年后\t 6009.15\n",
      "21 年后\t 6572.85\n",
      "22 年后\t 7189.43\n",
      "23 年后\t 7863.85\n",
      "24 年后\t 8601.53\n",
      "25 年后\t 9408.41\n",
      "26 年后\t 10290.99\n",
      "27 年后\t 11256.35\n",
      "28 年后\t 12312.28\n",
      "29 年后\t 13467.25\n",
      "30 年后\t 14730.58\n"
     ]
    }
   ],
   "source": [
    "def futureInvestmentValue(investmentAmount,monthlyInterestRate,years):\n",
    "    return investmentAmount * ((1 + monthlyInterestRate / 1200) ** (years * 12))\n",
    "def main():\n",
    "    investmentAmount = eval(input(\"输入investmentAmount：\"))\n",
    "    monthlyInterestRate = eval(input('输入monthlyInterestRate：'))\n",
    "    year = 30\n",
    "    for i in range(year):\n",
    "        Value = futureInvestmentValue(investmentAmount, monthlyInterestRate, i+1)\n",
    "        print(i+1,'年后\\t', round(Value, 2))\n",
    "main()"
   ]
  },
  {
   "cell_type": "code",
   "execution_count": 111,
   "metadata": {
    "collapsed": true
   },
   "outputs": [
    {
     "name": "stdout",
     "output_type": "stream",
     "text": [
      "1 年后\t 1093.81\n",
      "2 年后\t 1196.41\n",
      "3 年后\t 1308.65\n",
      "4 年后\t 1431.41\n",
      "5 年后\t 1565.68\n",
      "6 年后\t 1712.55\n",
      "7 年后\t 1873.2\n",
      "8 年后\t 2048.92\n",
      "9 年后\t 2241.12\n",
      "10 年后\t 2451.36\n",
      "11 年后\t 2681.31\n",
      "12 年后\t 2932.84\n",
      "13 年后\t 3207.96\n",
      "14 年后\t 3508.89\n",
      "15 年后\t 3838.04\n",
      "16 年后\t 4198.08\n",
      "17 年后\t 4591.89\n",
      "18 年后\t 5022.64\n",
      "19 年后\t 5493.8\n",
      "20 年后\t 6009.15\n",
      "21 年后\t 6572.85\n",
      "22 年后\t 7189.43\n",
      "23 年后\t 7863.85\n",
      "24 年后\t 8601.53\n",
      "25 年后\t 9408.41\n",
      "26 年后\t 10290.99\n",
      "27 年后\t 11256.35\n",
      "28 年后\t 12312.28\n",
      "29 年后\t 13467.25\n",
      "30 年后\t 14730.58\n"
     ]
    }
   ],
   "source": [
    "class C(object):\n",
    "    def __init__(self,investmentAmount,monthlyInterestRate,years):\n",
    "        self.investmentAmount = investmentAmount\n",
    "        self.monthlyInterestRate = monthlyInterestRate\n",
    "        self.years = years\n",
    "    def futureInvestmentValue(self):\n",
    "       #print()\n",
    "        #self.years = 30\n",
    "        for i in range(self.years):\n",
    "            self.years = i+1\n",
    "            Value = self.investmentAmount * ((1 + self.monthlyInterestRate / 1200) ** (self.years * 12))\n",
    "            print(i+1,'年后\\t', round(Value, 2))\n",
    "CC = C(1000,9,30)\n",
    "CC.futureInvestmentValue()"
   ]
  },
  {
   "cell_type": "markdown",
   "metadata": {},
   "source": [
    "#### 第五题"
   ]
  },
  {
   "cell_type": "code",
   "execution_count": 24,
   "metadata": {},
   "outputs": [
    {
     "name": "stdout",
     "output_type": "stream",
     "text": [
      "1 2 3 4 5 6 7 8 9 : \n",
      "; < = > ? @ A B C D \n",
      "E F G H I J K L M N \n",
      "O P Q R S T U V W X \n",
      "Y "
     ]
    }
   ],
   "source": [
    "def printChars(ch1,ch2):\n",
    "    a = ord(ch1)\n",
    "    b = ord(ch2)\n",
    "    count = 0\n",
    "    for i in range(a,b):\n",
    "        a1 = chr(i)\n",
    "        print(a1,end = \" \")\n",
    "        count += 1\n",
    "        if count % 10 == 0:\n",
    "             print(end = \"\\n\")\n",
    "printChars(\"1\",\"Z\")"
   ]
  },
  {
   "cell_type": "code",
   "execution_count": 112,
   "metadata": {},
   "outputs": [
    {
     "name": "stdout",
     "output_type": "stream",
     "text": [
      "1 2 3 4 5 6 7 8 9 : \n",
      "; < = > ? @ A B C D \n",
      "E F G H I J K L M N \n",
      "O P Q R S T U V W X \n",
      "Y "
     ]
    }
   ],
   "source": [
    "class D(object):\n",
    "    def __init__(self,ch1,ch2):\n",
    "        self.ch1 = ch1\n",
    "        self.ch2 = ch2\n",
    "    def printChars(self):\n",
    "        a = ord(self.ch1)\n",
    "        b = ord(self.ch2)\n",
    "        count = 0\n",
    "        for i in range(a,b):\n",
    "            a1 = chr(i)\n",
    "            print(a1,end = \" \")\n",
    "            count += 1\n",
    "            if count % 10 == 0:\n",
    "                 print(end = \"\\n\")\n",
    "DD = D(\"1\",\"Z\")\n",
    "DD.printChars()"
   ]
  },
  {
   "cell_type": "markdown",
   "metadata": {},
   "source": [
    "#### 第六题"
   ]
  },
  {
   "cell_type": "code",
   "execution_count": 25,
   "metadata": {},
   "outputs": [
    {
     "name": "stdout",
     "output_type": "stream",
     "text": [
      "2008 年有366天\n",
      "-----------------------------\n",
      "2010 年有365天\n",
      "2011 年有365天\n",
      "2012 年有366天\n",
      "2013 年有365天\n",
      "2014 年有365天\n",
      "2015 年有365天\n",
      "2016 年有366天\n",
      "2017 年有365天\n",
      "2018 年有365天\n",
      "2019 年有365天\n",
      "2020 年有366天\n"
     ]
    }
   ],
   "source": [
    "def numberOfDaysInAYear(year):\n",
    "    if (year % 4) == 0 and (year % 100) != 0 or (year % 400) == 0:\n",
    "        print(year,\"年有366天\")\n",
    "    else:\n",
    "        print(year,\"年有365天\")\n",
    "    print(\"-----------------------------\")\n",
    "    for i in range(2010,2021):\n",
    "        if (i % 4) == 0 and (i % 100) != 0 or (i % 400) == 0:\n",
    "            print(i,\"年有366天\")\n",
    "        else:\n",
    "            print(i,\"年有365天\")\n",
    "numberOfDaysInAYear(2008)"
   ]
  },
  {
   "cell_type": "markdown",
   "metadata": {},
   "source": [
    "![avatar](03.png)"
   ]
  },
  {
   "cell_type": "markdown",
   "metadata": {},
   "source": [
    "#### 第七题"
   ]
  },
  {
   "cell_type": "code",
   "execution_count": 27,
   "metadata": {},
   "outputs": [
    {
     "data": {
      "text/plain": [
       "2.24"
      ]
     },
     "execution_count": 27,
     "metadata": {},
     "output_type": "execute_result"
    }
   ],
   "source": [
    "import numpy as np\n",
    "def distance(x1,y1,x2,y2):\n",
    "    d = round(np.sqrt(pow((x1-x2),2)+pow((y1-y2),2)),2)\n",
    "    return d\n",
    "distance(2,3,4,4)"
   ]
  },
  {
   "cell_type": "code",
   "execution_count": 6,
   "metadata": {},
   "outputs": [
    {
     "data": {
      "text/plain": [
       "1.0"
      ]
     },
     "execution_count": 6,
     "metadata": {},
     "output_type": "execute_result"
    }
   ],
   "source": [
    "class FF(object):\n",
    "    def __init__(self,x1,x2,y1,y2):\n",
    "        self.x1 = x1\n",
    "        self.x2 = x2\n",
    "        self.y1 = y1\n",
    "        self.y2 = y2\n",
    "    def distance(self):\n",
    "        d = round(np.sqrt(pow((self.x1-self.x2),2)+pow((self.y1-self.y2),2)),2)\n",
    "        return d\n",
    "F = FF(2,3,4,4)\n",
    "F.distance()"
   ]
  },
  {
   "cell_type": "markdown",
   "metadata": {},
   "source": [
    "#### 第八题"
   ]
  },
  {
   "cell_type": "code",
   "execution_count": 31,
   "metadata": {},
   "outputs": [],
   "source": [
    "#首先判断是否是素数\n",
    "def sushu(num):\n",
    "    for y in range(2,num):\n",
    "        if num%y == 0:\n",
    "            break\n",
    "    else:\n",
    "        return True"
   ]
  },
  {
   "cell_type": "code",
   "execution_count": 35,
   "metadata": {},
   "outputs": [
    {
     "name": "stdout",
     "output_type": "stream",
     "text": [
      "2 3\n",
      "3 7\n",
      "5 31\n"
     ]
    }
   ],
   "source": [
    "def meisen(num):\n",
    "    for i in range(num):\n",
    "        if sushu(num) == True and num == (2**i-1):\n",
    "            print(i,num)\n",
    "for num in range(1, 32):\n",
    "    meisen(num) "
   ]
  },
  {
   "cell_type": "markdown",
   "metadata": {},
   "source": [
    "#### 第九题"
   ]
  },
  {
   "cell_type": "code",
   "execution_count": 76,
   "metadata": {},
   "outputs": [
    {
     "name": "stdout",
     "output_type": "stream",
     "text": [
      "毫秒为 1565099236.6540532\n",
      "Tue Aug  6 21:47:16 2019\n"
     ]
    }
   ],
   "source": [
    "import time\n",
    "def time1():\n",
    "    a = time.time()\n",
    "    print('毫秒为',a)\n",
    "    print(time.asctime(time.localtime(time.time())))\n",
    "time1()"
   ]
  },
  {
   "cell_type": "markdown",
   "metadata": {},
   "source": [
    "![avatar](04.png)"
   ]
  },
  {
   "cell_type": "markdown",
   "metadata": {},
   "source": [
    "#### 第十题"
   ]
  },
  {
   "cell_type": "code",
   "execution_count": 64,
   "metadata": {},
   "outputs": [],
   "source": [
    "import random\n",
    "def hahaha():\n",
    "    a = random.randint(1,6)\n",
    "    print(a)\n",
    "    b = random.randint(1,6)\n",
    "    print(b)\n",
    "    if a + b == 2 or a + b == 12 or a + b == 3:\n",
    "        ww = True\n",
    "        print(\"you lose\")\n",
    "    elif a + b == 7 or a + b == 11:\n",
    "        ee = True\n",
    "        print(\"you win\")\n",
    "    else:\n",
    "        print(\"再掷一次\")\n",
    "        while True:\n",
    "            c = random.randint(1,6)\n",
    "            d = random.randint(1,6)\n",
    "            if c == 7 or d == 7:\n",
    "                print(\"you win\")\n",
    "        "
   ]
  },
  {
   "cell_type": "code",
   "execution_count": 65,
   "metadata": {},
   "outputs": [
    {
     "name": "stdout",
     "output_type": "stream",
     "text": [
      "6\n",
      "1\n",
      "you win\n"
     ]
    }
   ],
   "source": [
    "hahaha()"
   ]
  },
  {
   "cell_type": "markdown",
   "metadata": {},
   "source": [
    "#### 王者荣耀"
   ]
  },
  {
   "cell_type": "code",
   "execution_count": 3,
   "metadata": {},
   "outputs": [
    {
     "name": "stdout",
     "output_type": "stream",
     "text": [
      "这是一个人机对战\n"
     ]
    }
   ],
   "source": [
    "import numpy as np\n",
    "class Wangzhe(object):\n",
    "    def __init__(self,ren):\n",
    "        self.ren = ren\n",
    "        \n",
    "    def renji(self):\n",
    "        if self.ren == \"人机\":\n",
    "            print(\"这是一个人机对战\")\n",
    "        elif self.ren == \"人人\":\n",
    "            print(\"这是一个人人对战\")\n",
    "        else:\n",
    "            print(\"不对战\")\n",
    "    def renwu(self,renwu):\n",
    "        self.renwu = renwu\n",
    "        res = np.random.choice(['典韦','赵云','鲁班'])\n",
    "        if res == \"典韦\":\n",
    "            print(\"一级\")\n",
    "        elif res == \"赵云\":\n",
    "            print(\"二级\")\n",
    "        else:\n",
    "            print(\"三级\")\n",
    "    \n",
    "    def jiazai(self):\n",
    "        if self.ren == \"人机\" and self.renwu == \"典韦\":\n",
    "            print(\"哈哈哈\")\n",
    "        else:\n",
    "            print(\"hahha\")\n",
    "W = Wangzhe(\"人机\")\n",
    "W.renji()"
   ]
  },
  {
   "cell_type": "markdown",
   "metadata": {},
   "source": [
    "###  第二个"
   ]
  },
  {
   "cell_type": "code",
   "execution_count": 19,
   "metadata": {},
   "outputs": [
    {
     "name": "stdout",
     "output_type": "stream",
     "text": [
      "1000\n",
      "None\n"
     ]
    }
   ],
   "source": [
    "class A(object):\n",
    "    def __init__(self):\n",
    "        self.__a = 1000\n",
    "    def B(self):\n",
    "        print(self.__a)\n",
    "    def __C(self):\n",
    "        print(self.__a)\n",
    "A_ = A()\n",
    "print(A_.B())\n"
   ]
  },
  {
   "cell_type": "markdown",
   "metadata": {},
   "source": [
    "#### 注册页面"
   ]
  },
  {
   "cell_type": "code",
   "execution_count": 31,
   "metadata": {},
   "outputs": [],
   "source": [
    "import random"
   ]
  },
  {
   "cell_type": "code",
   "execution_count": null,
   "metadata": {},
   "outputs": [],
   "source": [
    "def zhuce():\n",
    "    Zhuce = eval(input('请输入邮箱号:'))\n",
    "    return Zhuce\n",
    "def passwd():\n",
    "    mima = eval(input('请输入密码:'))\n",
    "    return mima\n",
    "\n",
    "def passwd1():\n",
    "    a = passwd()\n",
    "    mima1 = eval(input('请再次输入密码:'))\n",
    "    if a == mima1:\n",
    "        print(\"两次密码相同\")\n",
    "    else:\n",
    "        print(\"两次密码不相同\")\n",
    "def yanzheng():\n",
    "    #str_s = random.randrange(10000,9999)\n",
    "    str_s = \"\"\n",
    "    for i in range(4):\n",
    "        num_1 = random.randrange(97,123)\n",
    "        zimu = chr(num_1)\n",
    "        str_s = str_s + zimu\n",
    "    return str_s\n",
    "\n",
    "def yanzheng1():\n",
    "    Str_0 = yanzheng()\n",
    "    print(Str_0)\n",
    "    for i in range(0,5):\n",
    "        if i == 5:\n",
    "            exit(0)\n",
    "        else:\n",
    "            Str_1= eval(input('请输入验证码:'))\n",
    "            if Str_0 == Str_1:\n",
    "                print(\"验证码输入正确\")\n",
    "            else:\n",
    "                print(\"验证码错误\")\n",
    "\n",
    "yanzheng1()\n",
    "        \n",
    "        "
   ]
  },
  {
   "cell_type": "code",
   "execution_count": 60,
   "metadata": {},
   "outputs": [
    {
     "data": {
      "text/plain": [
       "'anny'"
      ]
     },
     "execution_count": 60,
     "metadata": {},
     "output_type": "execute_result"
    }
   ],
   "source": [
    "Str_0"
   ]
  },
  {
   "cell_type": "code",
   "execution_count": 67,
   "metadata": {},
   "outputs": [
    {
     "name": "stdout",
     "output_type": "stream",
     "text": [
      "请输入邮箱:>>123\n",
      "📮 您输入的邮箱是: 123\n",
      "请输入您的密码:>>345\n",
      "请输入确认密码:>>345\n",
      "密码确认成功\n",
      "验证码是: 6583\n",
      "输入验证码:>>456\n",
      "验证码错误\n",
      "验证码是: 5895\n",
      "输入验证码:>>456\n",
      "验证码错误\n",
      "验证码是: 4503\n",
      "输入验证码:>>456\n",
      "验证码错误\n",
      "机器人😡\n"
     ]
    }
   ],
   "source": [
    "import random\n",
    "import urllib\n",
    "import http.client\n",
    "\n",
    "class Regist(object):\n",
    "    \n",
    "    def account(self):\n",
    "        \"\"\"\n",
    "        Input account.\n",
    "        \"\"\"\n",
    "        # 检测邮箱的正确性.\n",
    "        # input 返回出来的是一个字符串\n",
    "        email = input('请输入邮箱:>>')\n",
    "        print('📮 您输入的邮箱是: %s' % email)\n",
    "        self.password()\n",
    "    def password(self):\n",
    "        \n",
    "        # 密码的长度必须是6-20位\n",
    "        # 密码必须含有大写小写字母以及数字.\n",
    "        for _ in range(4):\n",
    "            password_1 = eval(input('请输入您的密码:>>'))\n",
    "            password_2 = input(('请输入确认密码:>>'))\n",
    "            if password_1 == password_2:\n",
    "                print('密码确认成功')\n",
    "                self.verfily()\n",
    "                break #密码输入正确，停止运行\n",
    "            else:\n",
    "                print('两次密码不一致')\n",
    "        else:\n",
    "            print('您可能是一个机器人')\n",
    "    def phone(self):\n",
    "        Phone = eval(input(\"请输入发送验证码的手机号：\"))\n",
    "        return Phone\n",
    "    \n",
    "    def verfily(self):\n",
    "        \"\"\"\n",
    "        ver...\n",
    "        \"\"\"\n",
    "        # 英文和数字的结合\n",
    "        # 给予一个简单的数学运算得到结果.\n",
    "        for _ in range(3): #_为了代码规范\n",
    "            number = random.randrange(1000,9999)\n",
    "            print('验证码是: %d'%number)\n",
    "            number_2 = input('输入验证码:>>')\n",
    "            if number == int(number_2):\n",
    "                print('注册成功')\n",
    "                break\n",
    "            else:\n",
    "                print('验证码错误')\n",
    "        else:\n",
    "            print('机器人😡')\n",
    "\n",
    "def main():\n",
    "    regist = Regist()\n",
    "    regist.account()\n",
    "\n",
    "\n",
    "main()"
   ]
  },
  {
   "cell_type": "code",
   "execution_count": 64,
   "metadata": {},
   "outputs": [
    {
     "name": "stdout",
     "output_type": "stream",
     "text": [
      "{'code': 2, 'msg': '提交成功', 'smsid': '15651469569550136254'}\n"
     ]
    }
   ],
   "source": [
    "import urllib\n",
    "import http.client\n",
    "host = \"106.ihuyi.com\"\n",
    "sms_send_uri = \"/webservice/sms.php?method=Submit\"\n",
    "\n",
    "# 用户名是登录用户中心->验证码短信->产品总览->APIID\n",
    "account = \"C89412601\"\n",
    "# 密码 查看密码请登录用户中心->验证码短信->产品总览->APIKEY\n",
    "password = \"c8c7b80e87c1775c4673c0d2e6ac3eaa\"\n",
    "\n",
    "def send_sms(text, mobile):\n",
    "    params = urllib.parse.urlencode(\n",
    "        {'account': account, 'password': password, 'content': text, 'mobile': mobile, 'format': 'json'})\n",
    "    headers = {\"Content-type\": \"application/x-www-form-urlencoded\", \"Accept\": \"text/plain\"}\n",
    "    conn = http.client.HTTPConnection(host, port=80, timeout=30)\n",
    "    conn.request(\"POST\", sms_send_uri, params, headers)\n",
    "    response = conn.getresponse()\n",
    "    response_str = response.read()\n",
    "    conn.close()\n",
    "    return response_str\n",
    "\n",
    "\n",
    "if __name__ == '__main__':\n",
    "    #需要接受短信的目标手机号\n",
    "    mobile = \"13847516539\"\n",
    "    #短信内容\n",
    "    text = \"您的验证码是：121254。请不要把验证码泄露给其他人。\"\n",
    "    ret = send_sms(text, mobile).decode('utf-8')\n",
    "    import json\n",
    "    ret = json.loads(ret)\n",
    "    print(ret)"
   ]
  }
 ],
 "metadata": {
  "kernelspec": {
   "display_name": "Python 3",
   "language": "python",
   "name": "python3"
  },
  "language_info": {
   "codemirror_mode": {
    "name": "ipython",
    "version": 3
   },
   "file_extension": ".py",
   "mimetype": "text/x-python",
   "name": "python",
   "nbconvert_exporter": "python",
   "pygments_lexer": "ipython3",
   "version": "3.6.8"
  }
 },
 "nbformat": 4,
 "nbformat_minor": 2
}
