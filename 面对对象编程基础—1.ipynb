{
 "cells": [
  {
   "cell_type": "markdown",
   "metadata": {},
   "source": [
    "### 知识点"
   ]
  },
  {
   "cell_type": "markdown",
   "metadata": {},
   "source": [
    "1.导入库，import命名\n",
    "\n",
    "2.for循环，如果计数的情况使用   range（开始，结束，步长） 前闭后开\n",
    "  \n",
    "3.格式化输出\n",
    "        \n",
    "        %（） ，%d后接整数，%f后接浮点，%s后接字符串\n",
    "        .{}   format()   他可以直接传入任何类型，然后格式化输出\n",
    "4.print  控制台打印\n",
    "    \n",
    "    end  以什么方式结尾，默认是换行符“\\n”\n",
    "    \n",
    "    flush 刷新缓冲区"
   ]
  },
  {
   "cell_type": "code",
   "execution_count": 3,
   "metadata": {},
   "outputs": [
    {
     "name": "stdout",
     "output_type": "stream",
     "text": [
      "10\n",
      "10\n"
     ]
    }
   ],
   "source": [
    "#类中的参数\n",
    "class A(object):\n",
    "    def __init__(self,a):\n",
    "        self.a = a  #表示共享这个参数\n",
    "    def B(self,b):\n",
    "        self.b = b\n",
    "        print(b)\n",
    "    def C(self):\n",
    "        print(self.b)\n",
    "#类的调用\n",
    "J = A(1000)\n",
    "J.B(10)\n",
    "J.C()"
   ]
  },
  {
   "cell_type": "code",
   "execution_count": 4,
   "metadata": {},
   "outputs": [
    {
     "name": "stdout",
     "output_type": "stream",
     "text": [
      "100\n"
     ]
    },
    {
     "data": {
      "text/plain": [
       "<__main__.Student at 0x109704b70>"
      ]
     },
     "execution_count": 4,
     "metadata": {},
     "output_type": "execute_result"
    }
   ],
   "source": [
    "# object 不是一个参数 ，可写可不写\n",
    "\"\"\"\n",
    "定义类只有两步:\n",
    "1. 使用标识符class ClassName(object):\n",
    "2. 重写__init__函数,但是需要记住,一定要打上一个\"self\"的标记\n",
    "   因为后面会学到继承,当在继承的时候可能就会有函数名相撞的情况.\n",
    "   或者说,类中会含有多个变量,多个函数,那么就需要使用\"self\"手段去区分.\n",
    "3. 类的传参是在__init__函数中的.需要注意的是,如果你的参数可能被多个函数都使用,那么\n",
    "   你才在__init__函数中去定义参数\n",
    "\"\"\"\n",
    "class Student(object):\n",
    "    def __init__(self,name):\n",
    "      \t# 多个打印用\",\"进行分隔.\n",
    "        print(name)\n",
    "\n",
    "\n",
    "Student(100)"
   ]
  },
  {
   "cell_type": "markdown",
   "metadata": {},
   "source": [
    "### 简单实例"
   ]
  },
  {
   "cell_type": "code",
   "execution_count": 6,
   "metadata": {},
   "outputs": [
    {
     "name": "stdout",
     "output_type": "stream",
     "text": [
      "不是智障\n"
     ]
    },
    {
     "data": {
      "text/plain": [
       "<__main__.Old at 0x1099c2908>"
      ]
     },
     "execution_count": 6,
     "metadata": {},
     "output_type": "execute_result"
    }
   ],
   "source": [
    "class Old():\n",
    "    def __init__(self,age):\n",
    "        if age > 18:\n",
    "            print(\"不是智障\")\n",
    "        else:\n",
    "            print(\"是智障\")\n",
    "Old(20)"
   ]
  },
  {
   "cell_type": "code",
   "execution_count": 7,
   "metadata": {},
   "outputs": [
    {
     "name": "stdout",
     "output_type": "stream",
     "text": [
      "可以看\n"
     ]
    },
    {
     "data": {
      "text/plain": [
       "<__main__.Old at 0x109c35cf8>"
      ]
     },
     "execution_count": 7,
     "metadata": {},
     "output_type": "execute_result"
    }
   ],
   "source": [
    "class Old(object):\n",
    "    def __init__(self,age):\n",
    "        if age > 18 and age < 20 :\n",
    "            print(\"可以看\")\n",
    "        elif (age<18):\n",
    "            print(\"只能看动画片\")\n",
    "        else:\n",
    "            print(\"别看了\")\n",
    "Old(19)"
   ]
  },
  {
   "cell_type": "code",
   "execution_count": 8,
   "metadata": {},
   "outputs": [
    {
     "name": "stdout",
     "output_type": "stream",
     "text": [
      "100\n"
     ]
    }
   ],
   "source": [
    "class Name(object):\n",
    "    def __init__(self,a):\n",
    "        self.a = a\n",
    "    def func1(self):\n",
    "        print(self.a)\n",
    "name = Name(100)\n",
    "name.func1()"
   ]
  },
  {
   "cell_type": "code",
   "execution_count": 9,
   "metadata": {},
   "outputs": [
    {
     "name": "stdout",
     "output_type": "stream",
     "text": [
      "他是一个小女孩\n"
     ]
    }
   ],
   "source": [
    "class Zuoye(object):\n",
    "    def __init__(self,a,b):\n",
    "        self.a = a\n",
    "        self.b = b\n",
    "    def panduan(self):\n",
    "        if self.a<18 and self.b == \"gril\":\n",
    "            print(\"他是一个小女孩\")\n",
    "        elif self.a<18 and self.b == \"boy\": \n",
    "            print(\"他是一个小男孩\")\n",
    "        elif 40<self.a<18 and self.b == \"boy\": \n",
    "            print(\"他是一个青年男孩\")\n",
    "        elif 40<self.a<18 and self.b == \"gril\": \n",
    "            print(\"他是一个青年女孩\")\n",
    "        elif self.a>40 and self.b==\"boy\": \n",
    "            print(\"他是一个老男孩\")\n",
    "        elif self.a>40 and self.b == \"gril\": \n",
    "            print(\"他是一个老女孩\")\n",
    "zuoye = Zuoye(6,\"gril\")\n",
    "zuoye.panduan()"
   ]
  },
  {
   "cell_type": "code",
   "execution_count": 10,
   "metadata": {},
   "outputs": [
    {
     "name": "stdout",
     "output_type": "stream",
     "text": [
      "老年\n",
      "女孩\n"
     ]
    }
   ],
   "source": [
    "class Zwx(object):\n",
    "    def __init__(self,x,x1):\n",
    "        self.x = x\n",
    "        self.x1 = x1\n",
    "       \n",
    "    def fun1(self):\n",
    "        if self.x<18:\n",
    "            print(\"小孩\")\n",
    "        elif 18<self.x<40:\n",
    "            print(\"中年\")\n",
    "        else:\n",
    "            print(\"老年\")\n",
    "    def fun2(self):\n",
    "        if self.x1 == \"gril\":\n",
    "            print(\"女孩\")\n",
    "        else:\n",
    "            print(\"男孩\")\n",
    "a = Zwx(47,\"gril\")\n",
    "a.fun1()\n",
    "a.fun2()"
   ]
  },
  {
   "cell_type": "markdown",
   "metadata": {},
   "source": [
    "#### 实现进度条"
   ]
  },
  {
   "cell_type": "code",
   "execution_count": 7,
   "metadata": {},
   "outputs": [],
   "source": [
    "import time, sys\n",
    "\n",
    "def process(num,total):\n",
    "    rate = num / total\n",
    "    ratenum = int(round(rate, 2) * 100)\n",
    "    bar = '\\r%s%% %s%s ' %(ratenum, '#'*ratenum, ' '*(100 - ratenum))\n",
    "    #print(bar)\n",
    "    sys.stdout.write(bar) #实现打印刷新"
   ]
  },
  {
   "cell_type": "code",
   "execution_count": 8,
   "metadata": {},
   "outputs": [
    {
     "name": "stdout",
     "output_type": "stream",
     "text": [
      "100% #################################################################################################### "
     ]
    }
   ],
   "source": [
    "n=10\n",
    "for i in range(1, n+1):\n",
    "    time.sleep(0.1)\n",
    "    process(i, n)"
   ]
  },
  {
   "cell_type": "markdown",
   "metadata": {},
   "source": [
    "#### 判断1--100之间的素数"
   ]
  },
  {
   "cell_type": "code",
   "execution_count": 11,
   "metadata": {},
   "outputs": [
    {
     "name": "stdout",
     "output_type": "stream",
     "text": [
      "是素数\n"
     ]
    }
   ],
   "source": [
    "class Name(object):\n",
    "    \"\"\"\n",
    "    判断一个数字是否是素数\n",
    "    \"\"\"\n",
    "    def __init__(self,num):\n",
    "        \"\"\"\n",
    "        Argus:\n",
    "        -----\n",
    "            num: int类型的数字\n",
    "        \"\"\"\n",
    "        self.num = num\n",
    "    def Check(self):\n",
    "        \"\"\"\n",
    "        检查self.num是不是素数\n",
    "        \"\"\"\n",
    "        for i in range(2,self.num):\n",
    "            if self.num % i == 0:\n",
    "                print('不是素数')\n",
    "                break\n",
    "        else:\n",
    "            print('是素数')\n",
    "name = Name(11)\n",
    "name.Check()\n",
    "    "
   ]
  },
  {
   "cell_type": "markdown",
   "metadata": {},
   "source": [
    "#### 时钟"
   ]
  },
  {
   "cell_type": "code",
   "execution_count": 37,
   "metadata": {},
   "outputs": [
    {
     "name": "stdout",
     "output_type": "stream",
     "text": [
      "23:59:58\n",
      "23:59:59\n",
      "00:00:00\n",
      "00:00:01\n",
      "00:00:02\n",
      "00:00:03\n",
      "00:00:04\n",
      "00:00:05\n",
      "00:00:06\n",
      "00:00:07\n",
      "00:00:08\n",
      "00:00:09\n"
     ]
    },
    {
     "ename": "KeyboardInterrupt",
     "evalue": "",
     "output_type": "error",
     "traceback": [
      "\u001b[0;31m---------------------------------------------------------------------------\u001b[0m",
      "\u001b[0;31mKeyboardInterrupt\u001b[0m                         Traceback (most recent call last)",
      "\u001b[0;32m<ipython-input-37-76ea81eec7b5>\u001b[0m in \u001b[0;36m<module>\u001b[0;34m\u001b[0m\n\u001b[1;32m     40\u001b[0m \u001b[0;34m\u001b[0m\u001b[0m\n\u001b[1;32m     41\u001b[0m \u001b[0;32mif\u001b[0m \u001b[0m__name__\u001b[0m \u001b[0;34m==\u001b[0m \u001b[0;34m'__main__'\u001b[0m\u001b[0;34m:\u001b[0m\u001b[0;34m\u001b[0m\u001b[0;34m\u001b[0m\u001b[0m\n\u001b[0;32m---> 42\u001b[0;31m     \u001b[0mmain\u001b[0m\u001b[0;34m(\u001b[0m\u001b[0;34m)\u001b[0m\u001b[0;34m\u001b[0m\u001b[0;34m\u001b[0m\u001b[0m\n\u001b[0m",
      "\u001b[0;32m<ipython-input-37-76ea81eec7b5>\u001b[0m in \u001b[0;36mmain\u001b[0;34m()\u001b[0m\n\u001b[1;32m     35\u001b[0m     \u001b[0;32mwhile\u001b[0m \u001b[0;32mTrue\u001b[0m\u001b[0;34m:\u001b[0m\u001b[0;34m\u001b[0m\u001b[0;34m\u001b[0m\u001b[0m\n\u001b[1;32m     36\u001b[0m         \u001b[0mprint\u001b[0m\u001b[0;34m(\u001b[0m\u001b[0mclock\u001b[0m\u001b[0;34m)\u001b[0m\u001b[0;34m\u001b[0m\u001b[0;34m\u001b[0m\u001b[0m\n\u001b[0;32m---> 37\u001b[0;31m         \u001b[0mtime\u001b[0m\u001b[0;34m.\u001b[0m\u001b[0msleep\u001b[0m\u001b[0;34m(\u001b[0m\u001b[0;36m1\u001b[0m\u001b[0;34m)\u001b[0m\u001b[0;34m\u001b[0m\u001b[0;34m\u001b[0m\u001b[0m\n\u001b[0m\u001b[1;32m     38\u001b[0m         \u001b[0mclock\u001b[0m\u001b[0;34m.\u001b[0m\u001b[0mrun\u001b[0m\u001b[0;34m(\u001b[0m\u001b[0;34m)\u001b[0m\u001b[0;34m\u001b[0m\u001b[0;34m\u001b[0m\u001b[0m\n\u001b[1;32m     39\u001b[0m \u001b[0;34m\u001b[0m\u001b[0m\n",
      "\u001b[0;31mKeyboardInterrupt\u001b[0m: "
     ]
    }
   ],
   "source": [
    "class Clock(object):\n",
    "    \"\"\"数字时钟\"\"\"\n",
    "\n",
    "    def __init__(self, hour=0, minute=0, second=0):\n",
    "        \"\"\"初始化方法\n",
    "\n",
    "        :param hour: 时\n",
    "        :param minute: 分\n",
    "        :param second: 秒\n",
    "        \"\"\"\n",
    "        self._hour = hour\n",
    "        self._minute = minute\n",
    "        self._second = second\n",
    "\n",
    "    def run(self):\n",
    "        \"\"\"走字\"\"\"\n",
    "        self._second += 1\n",
    "        if self._second == 60:\n",
    "            self._second = 0\n",
    "            self._minute += 1\n",
    "            if self._minute == 60:\n",
    "                self._minute = 0\n",
    "                self._hour += 1\n",
    "                if self._hour == 24:\n",
    "                    self._hour = 0\n",
    "\n",
    "    def __str__(self):\n",
    "        \"\"\"显示时间\"\"\"\n",
    "        return '%02d:%02d:%02d' % \\\n",
    "               (self._hour, self._minute, self._second)\n",
    "\n",
    "\n",
    "def main():\n",
    "    clock = Clock(23, 59, 58)\n",
    "    while True:\n",
    "        print(clock)\n",
    "        time.sleep(1)\n",
    "        clock.run()\n",
    "\n",
    "\n",
    "if __name__ == '__main__':\n",
    "    main()"
   ]
  },
  {
   "cell_type": "markdown",
   "metadata": {},
   "source": [
    "### 函数练习"
   ]
  },
  {
   "cell_type": "markdown",
   "metadata": {},
   "source": [
    "#### 第一题"
   ]
  },
  {
   "cell_type": "code",
   "execution_count": 12,
   "metadata": {},
   "outputs": [
    {
     "name": "stdout",
     "output_type": "stream",
     "text": [
      "1 5 12 22 35 51 70 92 117 145 \n",
      "176 210 247 287 330 376 425 477 532 590 \n",
      "651 715 782 852 925 1001 1080 1162 1247 1335 \n",
      "1426 1520 1617 1717 1820 1926 2035 2147 2262 2380 \n",
      "2501 2625 2752 2882 3015 3151 3290 3432 3577 3725 \n",
      "3876 4030 4187 4347 4510 4676 4845 5017 5192 5370 \n",
      "5551 5735 5922 6112 6305 6501 6700 6902 7107 7315 \n",
      "7526 7740 7957 8177 8400 8626 8855 9087 9322 9560 \n",
      "9801 10045 10292 10542 10795 11051 11310 11572 11837 12105 \n",
      "12376 12650 12927 13207 13490 13776 14065 14357 14652 "
     ]
    }
   ],
   "source": [
    "def getPentagona1Number():\n",
    "    count = 0\n",
    "    for n in range(1,100):\n",
    "        number = (n * (3* n - 1)) / 2\n",
    "        print(int(number),end = \" \")\n",
    "        count += 1\n",
    "        if count % 10 == 0:\n",
    "             print(end = \"\\n\")        \n",
    "            \n",
    "getPentagona1Number()   "
   ]
  },
  {
   "cell_type": "code",
   "execution_count": 73,
   "metadata": {},
   "outputs": [
    {
     "name": "stdout",
     "output_type": "stream",
     "text": [
      "1 5 12 22 35 51 70 92 117 145 \n",
      "176 210 247 287 330 376 425 477 532 590 \n",
      "651 715 782 852 925 1001 1080 1162 1247 1335 \n",
      "1426 1520 1617 1717 1820 1926 2035 2147 2262 2380 \n",
      "2501 2625 2752 2882 3015 3151 3290 3432 3577 3725 \n",
      "3876 4030 4187 4347 4510 4676 4845 5017 5192 5370 \n",
      "5551 5735 5922 6112 6305 6501 6700 6902 7107 7315 \n",
      "7526 7740 7957 8177 8400 8626 8855 9087 9322 9560 \n",
      "9801 10045 10292 10542 10795 11051 11310 11572 11837 12105 \n",
      "12376 12650 12927 13207 13490 13776 14065 14357 14652 "
     ]
    },
    {
     "data": {
      "text/plain": [
       "<__main__.getPentagona1Number1 at 0x109d4f7b8>"
      ]
     },
     "execution_count": 73,
     "metadata": {},
     "output_type": "execute_result"
    }
   ],
   "source": [
    "class getPentagona1Number1(object):\n",
    "    def __init__(self):\n",
    "        count = 0\n",
    "        for n in range(1,100):\n",
    "            number = (n * (3* n - 1)) / 2\n",
    "            print(int(number),end = \" \")\n",
    "            count += 1\n",
    "            if count % 10 == 0:\n",
    "                 print(end = \"\\n\")\n",
    "getPentagona1Number1()"
   ]
  },
  {
   "cell_type": "markdown",
   "metadata": {},
   "source": [
    "#### 第二题"
   ]
  },
  {
   "cell_type": "code",
   "execution_count": 13,
   "metadata": {},
   "outputs": [
    {
     "name": "stdout",
     "output_type": "stream",
     "text": [
      "Enter a n:234\n",
      "相加的和为： 9\n"
     ]
    }
   ],
   "source": [
    "def  sumDigits(n):\n",
    "    n1 = n // 100 #百位上的数\n",
    "    n2 = n % 10 #十位上的数\n",
    "    n3 = (n % 100) //10 #个位上的数\n",
    "    n4 = n1 + n2 + n3\n",
    "    return n4\n",
    "def main():\n",
    "    n = eval(input('Enter a n:'))\n",
    "    print('相加的和为：',sumDigits(n))\n",
    "main()"
   ]
  },
  {
   "cell_type": "code",
   "execution_count": 102,
   "metadata": {},
   "outputs": [
    {
     "name": "stdout",
     "output_type": "stream",
     "text": [
      "相加的和为： 9\n"
     ]
    }
   ],
   "source": [
    "\n",
    "class BBB(object):\n",
    "    \n",
    "    def __init__(self,n):\n",
    "        self.n = n\n",
    "    def sumDigits1(self):\n",
    "        n1 = self.n // 100 #百位上的数\n",
    "        n2 = self.n % 10 #十位上的数\n",
    "        n3 = (self.n % 100) //10 #个位上的数\n",
    "        n4 = n1 + n2 + n3\n",
    "        print('相加的和为：',n4)\n",
    "B = BBB(234)\n",
    "B.sumDigits1()"
   ]
  },
  {
   "cell_type": "markdown",
   "metadata": {},
   "source": [
    "#### 第三题"
   ]
  },
  {
   "cell_type": "code",
   "execution_count": 16,
   "metadata": {},
   "outputs": [
    {
     "name": "stdout",
     "output_type": "stream",
     "text": [
      "输入一个数:234\n",
      "(2, 3, 4, 9)\n"
     ]
    }
   ],
   "source": [
    "def displaySortedNumbers(number):\n",
    "    List = []\n",
    "    n1 = number // 100\n",
    "    n2 = number % 10\n",
    "    n3 = (number % 100) // 10\n",
    "    List.append(n1)\n",
    "    List.append(n2)\n",
    "    List.append(n3)\n",
    "    List.sort()\n",
    "    return List[0],List[1],List[2],n1+n2+n3\n",
    "def main():\n",
    "    number = eval(input('输入一个数:'))\n",
    "    print(displaySortedNumbers(number))\n",
    "main()"
   ]
  },
  {
   "cell_type": "code",
   "execution_count": 103,
   "metadata": {},
   "outputs": [
    {
     "name": "stdout",
     "output_type": "stream",
     "text": [
      "输入san个数:2\n",
      "输入san个数:8\n",
      "输入san个数:0\n",
      "(0, 2, 8)\n"
     ]
    }
   ],
   "source": [
    "def a(n1,n2,n3):\n",
    "    List = []\n",
    "    List.append(n1)\n",
    "    List.append(n2)\n",
    "    List.append(n3)\n",
    "    List.sort()\n",
    "    return List[0],List[1],List[2]\n",
    "def main1():\n",
    "    n1 = eval(input('输入一个数:'))\n",
    "    n2 = eval(input('输入一个数:'))\n",
    "    n3 = eval(input('输入一个数:'))\n",
    "    print(a(n1,n2,n3))\n",
    "main1()"
   ]
  },
  {
   "cell_type": "code",
   "execution_count": 104,
   "metadata": {},
   "outputs": [
    {
     "data": {
      "text/plain": [
       "(0, 2, 8)"
      ]
     },
     "execution_count": 104,
     "metadata": {},
     "output_type": "execute_result"
    }
   ],
   "source": [
    "class A:\n",
    "    def __init__(self,n1,n2,n3):\n",
    "        self.n1 = n1\n",
    "        self.n2 = n2\n",
    "        self.n3 = n3\n",
    "    def aa(self):\n",
    "        List = []\n",
    "        List.append(self.n1)\n",
    "        List.append(self.n2)\n",
    "        List.append(self.n3)\n",
    "        List.sort()\n",
    "        return List[0],List[1],List[2]\n",
    "AA = A(2,8,0)\n",
    "AA.aa()"
   ]
  },
  {
   "cell_type": "markdown",
   "metadata": {},
   "source": [
    "#### 第四题"
   ]
  },
  {
   "cell_type": "code",
   "execution_count": 23,
   "metadata": {
    "collapsed": true
   },
   "outputs": [
    {
     "name": "stdout",
     "output_type": "stream",
     "text": [
      "输入investmentAmount：1000\n",
      "输入monthlyInterestRate：9\n",
      "1 年后\t 1093.81\n",
      "2 年后\t 1196.41\n",
      "3 年后\t 1308.65\n",
      "4 年后\t 1431.41\n",
      "5 年后\t 1565.68\n",
      "6 年后\t 1712.55\n",
      "7 年后\t 1873.2\n",
      "8 年后\t 2048.92\n",
      "9 年后\t 2241.12\n",
      "10 年后\t 2451.36\n",
      "11 年后\t 2681.31\n",
      "12 年后\t 2932.84\n",
      "13 年后\t 3207.96\n",
      "14 年后\t 3508.89\n",
      "15 年后\t 3838.04\n",
      "16 年后\t 4198.08\n",
      "17 年后\t 4591.89\n",
      "18 年后\t 5022.64\n",
      "19 年后\t 5493.8\n",
      "20 年后\t 6009.15\n",
      "21 年后\t 6572.85\n",
      "22 年后\t 7189.43\n",
      "23 年后\t 7863.85\n",
      "24 年后\t 8601.53\n",
      "25 年后\t 9408.41\n",
      "26 年后\t 10290.99\n",
      "27 年后\t 11256.35\n",
      "28 年后\t 12312.28\n",
      "29 年后\t 13467.25\n",
      "30 年后\t 14730.58\n"
     ]
    }
   ],
   "source": [
    "def futureInvestmentValue(investmentAmount,monthlyInterestRate,years):\n",
    "    return investmentAmount * ((1 + monthlyInterestRate / 1200) ** (years * 12))\n",
    "def main():\n",
    "    investmentAmount = eval(input(\"输入investmentAmount：\"))\n",
    "    monthlyInterestRate = eval(input('输入monthlyInterestRate：'))\n",
    "    year = 30\n",
    "    for i in range(year):\n",
    "        Value = futureInvestmentValue(investmentAmount, monthlyInterestRate, i+1)\n",
    "        print(i+1,'年后\\t', round(Value, 2))\n",
    "main()"
   ]
  },
  {
   "cell_type": "code",
   "execution_count": 111,
   "metadata": {
    "collapsed": true
   },
   "outputs": [
    {
     "name": "stdout",
     "output_type": "stream",
     "text": [
      "1 年后\t 1093.81\n",
      "2 年后\t 1196.41\n",
      "3 年后\t 1308.65\n",
      "4 年后\t 1431.41\n",
      "5 年后\t 1565.68\n",
      "6 年后\t 1712.55\n",
      "7 年后\t 1873.2\n",
      "8 年后\t 2048.92\n",
      "9 年后\t 2241.12\n",
      "10 年后\t 2451.36\n",
      "11 年后\t 2681.31\n",
      "12 年后\t 2932.84\n",
      "13 年后\t 3207.96\n",
      "14 年后\t 3508.89\n",
      "15 年后\t 3838.04\n",
      "16 年后\t 4198.08\n",
      "17 年后\t 4591.89\n",
      "18 年后\t 5022.64\n",
      "19 年后\t 5493.8\n",
      "20 年后\t 6009.15\n",
      "21 年后\t 6572.85\n",
      "22 年后\t 7189.43\n",
      "23 年后\t 7863.85\n",
      "24 年后\t 8601.53\n",
      "25 年后\t 9408.41\n",
      "26 年后\t 10290.99\n",
      "27 年后\t 11256.35\n",
      "28 年后\t 12312.28\n",
      "29 年后\t 13467.25\n",
      "30 年后\t 14730.58\n"
     ]
    }
   ],
   "source": [
    "class C(object):\n",
    "    def __init__(self,investmentAmount,monthlyInterestRate,years):\n",
    "        self.investmentAmount = investmentAmount\n",
    "        self.monthlyInterestRate = monthlyInterestRate\n",
    "        self.years = years\n",
    "    def futureInvestmentValue(self):\n",
    "       #print()\n",
    "        #self.years = 30\n",
    "        for i in range(self.years):\n",
    "            self.years = i+1\n",
    "            Value = self.investmentAmount * ((1 + self.monthlyInterestRate / 1200) ** (self.years * 12))\n",
    "            print(i+1,'年后\\t', round(Value, 2))\n",
    "CC = C(1000,9,30)\n",
    "CC.futureInvestmentValue()"
   ]
  },
  {
   "cell_type": "markdown",
   "metadata": {},
   "source": [
    "#### 第五题"
   ]
  },
  {
   "cell_type": "code",
   "execution_count": 24,
   "metadata": {},
   "outputs": [
    {
     "name": "stdout",
     "output_type": "stream",
     "text": [
      "1 2 3 4 5 6 7 8 9 : \n",
      "; < = > ? @ A B C D \n",
      "E F G H I J K L M N \n",
      "O P Q R S T U V W X \n",
      "Y "
     ]
    }
   ],
   "source": [
    "def printChars(ch1,ch2):\n",
    "    a = ord(ch1)\n",
    "    b = ord(ch2)\n",
    "    count = 0\n",
    "    for i in range(a,b):\n",
    "        a1 = chr(i)\n",
    "        print(a1,end = \" \")\n",
    "        count += 1\n",
    "        if count % 10 == 0:\n",
    "             print(end = \"\\n\")\n",
    "printChars(\"1\",\"Z\")"
   ]
  },
  {
   "cell_type": "code",
   "execution_count": 112,
   "metadata": {},
   "outputs": [
    {
     "name": "stdout",
     "output_type": "stream",
     "text": [
      "1 2 3 4 5 6 7 8 9 : \n",
      "; < = > ? @ A B C D \n",
      "E F G H I J K L M N \n",
      "O P Q R S T U V W X \n",
      "Y "
     ]
    }
   ],
   "source": [
    "class D(object):\n",
    "    def __init__(self,ch1,ch2):\n",
    "        self.ch1 = ch1\n",
    "        self.ch2 = ch2\n",
    "    def printChars(self):\n",
    "        a = ord(self.ch1)\n",
    "        b = ord(self.ch2)\n",
    "        count = 0\n",
    "        for i in range(a,b):\n",
    "            a1 = chr(i)\n",
    "            print(a1,end = \" \")\n",
    "            count += 1\n",
    "            if count % 10 == 0:\n",
    "                 print(end = \"\\n\")\n",
    "DD = D(\"1\",\"Z\")\n",
    "DD.printChars()"
   ]
  },
  {
   "cell_type": "markdown",
   "metadata": {},
   "source": [
    "#### 第六题"
   ]
  },
  {
   "cell_type": "code",
   "execution_count": 25,
   "metadata": {},
   "outputs": [
    {
     "name": "stdout",
     "output_type": "stream",
     "text": [
      "2008 年有366天\n",
      "-----------------------------\n",
      "2010 年有365天\n",
      "2011 年有365天\n",
      "2012 年有366天\n",
      "2013 年有365天\n",
      "2014 年有365天\n",
      "2015 年有365天\n",
      "2016 年有366天\n",
      "2017 年有365天\n",
      "2018 年有365天\n",
      "2019 年有365天\n",
      "2020 年有366天\n"
     ]
    }
   ],
   "source": [
    "def numberOfDaysInAYear(year):\n",
    "    if (year % 4) == 0 and (year % 100) != 0 or (year % 400) == 0:\n",
    "        print(year,\"年有366天\")\n",
    "    else:\n",
    "        print(year,\"年有365天\")\n",
    "    print(\"-----------------------------\")\n",
    "    for i in range(2010,2021):\n",
    "        if (i % 4) == 0 and (i % 100) != 0 or (i % 400) == 0:\n",
    "            print(i,\"年有366天\")\n",
    "        else:\n",
    "            print(i,\"年有365天\")\n",
    "numberOfDaysInAYear(2008)"
   ]
  },
  {
   "cell_type": "markdown",
   "metadata": {},
   "source": [
    "#### 第七题"
   ]
  },
  {
   "cell_type": "code",
   "execution_count": 27,
   "metadata": {},
   "outputs": [
    {
     "data": {
      "text/plain": [
       "2.24"
      ]
     },
     "execution_count": 27,
     "metadata": {},
     "output_type": "execute_result"
    }
   ],
   "source": [
    "import numpy as np\n",
    "def distance(x1,y1,x2,y2):\n",
    "    d = round(np.sqrt(pow((x1-x2),2)+pow((y1-y2),2)),2)\n",
    "    return d\n",
    "distance(2,3,4,4)"
   ]
  },
  {
   "cell_type": "code",
   "execution_count": 6,
   "metadata": {},
   "outputs": [
    {
     "data": {
      "text/plain": [
       "1.0"
      ]
     },
     "execution_count": 6,
     "metadata": {},
     "output_type": "execute_result"
    }
   ],
   "source": [
    "class FF(object):\n",
    "    def __init__(self,x1,x2,y1,y2):\n",
    "        self.x1 = x1\n",
    "        self.x2 = x2\n",
    "        self.y1 = y1\n",
    "        self.y2 = y2\n",
    "    def distance(self):\n",
    "        d = round(np.sqrt(pow((self.x1-self.x2),2)+pow((self.y1-self.y2),2)),2)\n",
    "        return d\n",
    "F = FF(2,3,4,4)\n",
    "F.distance()"
   ]
  },
  {
   "cell_type": "markdown",
   "metadata": {},
   "source": [
    "#### 第八题"
   ]
  },
  {
   "cell_type": "code",
   "execution_count": 31,
   "metadata": {},
   "outputs": [],
   "source": [
    "#首先判断是否是素数\n",
    "def sushu(num):\n",
    "    for y in range(2,num):\n",
    "        if num%y == 0:\n",
    "            break\n",
    "    else:\n",
    "        return True"
   ]
  },
  {
   "cell_type": "code",
   "execution_count": 35,
   "metadata": {},
   "outputs": [
    {
     "name": "stdout",
     "output_type": "stream",
     "text": [
      "2 3\n",
      "3 7\n",
      "5 31\n"
     ]
    }
   ],
   "source": [
    "def meisen(num):\n",
    "    for i in range(num):\n",
    "        if sushu(num) == True and num == (2**i-1):\n",
    "            print(i,num)\n",
    "for num in range(1, 32):\n",
    "    meisen(num) "
   ]
  },
  {
   "cell_type": "markdown",
   "metadata": {},
   "source": [
    "#### 第九题"
   ]
  },
  {
   "cell_type": "code",
   "execution_count": 76,
   "metadata": {},
   "outputs": [
    {
     "name": "stdout",
     "output_type": "stream",
     "text": [
      "毫秒为 1565099236.6540532\n",
      "Tue Aug  6 21:47:16 2019\n"
     ]
    }
   ],
   "source": [
    "import time\n",
    "def time1():\n",
    "    a = time.time()\n",
    "    print('毫秒为',a)\n",
    "    print(time.asctime(time.localtime(time.time())))\n",
    "time1()"
   ]
  },
  {
   "cell_type": "markdown",
   "metadata": {},
   "source": [
    "#### 第十题"
   ]
  },
  {
   "cell_type": "code",
   "execution_count": 64,
   "metadata": {},
   "outputs": [],
   "source": [
    "import random\n",
    "def hahaha():\n",
    "    a = random.randint(1,6)\n",
    "    print(a)\n",
    "    b = random.randint(1,6)\n",
    "    print(b)\n",
    "    if a + b == 2 or a + b == 12 or a + b == 3:\n",
    "        ww = True\n",
    "        print(\"you lose\")\n",
    "    elif a + b == 7 or a + b == 11:\n",
    "        ee = True\n",
    "        print(\"you win\")\n",
    "    else:\n",
    "        print(\"再掷一次\")\n",
    "        while True:\n",
    "            c = random.randint(1,6)\n",
    "            d = random.randint(1,6)\n",
    "            if c == 7 or d == 7:\n",
    "                print(\"you win\")\n",
    "        "
   ]
  },
  {
   "cell_type": "code",
   "execution_count": 65,
   "metadata": {},
   "outputs": [
    {
     "name": "stdout",
     "output_type": "stream",
     "text": [
      "6\n",
      "1\n",
      "you win\n"
     ]
    }
   ],
   "source": [
    "hahaha()"
   ]
  },
  {
   "cell_type": "markdown",
   "metadata": {},
   "source": [
    "#### 王者荣耀"
   ]
  },
  {
   "cell_type": "code",
   "execution_count": 3,
   "metadata": {},
   "outputs": [
    {
     "name": "stdout",
     "output_type": "stream",
     "text": [
      "这是一个人机对战\n"
     ]
    }
   ],
   "source": [
    "import numpy as np\n",
    "class Wangzhe(object):\n",
    "    def __init__(self,ren):\n",
    "        self.ren = ren\n",
    "        \n",
    "    def renji(self):\n",
    "        if self.ren == \"人机\":\n",
    "            print(\"这是一个人机对战\")\n",
    "        elif self.ren == \"人人\":\n",
    "            print(\"这是一个人人对战\")\n",
    "        else:\n",
    "            print(\"不对战\")\n",
    "    def renwu(self,renwu):\n",
    "        self.renwu = renwu\n",
    "        res = np.random.choice(['典韦','赵云','鲁班'])\n",
    "        if res == \"典韦\":\n",
    "            print(\"一级\")\n",
    "        elif res == \"赵云\":\n",
    "            print(\"二级\")\n",
    "        else:\n",
    "            print(\"三级\")\n",
    "    \n",
    "    def jiazai(self):\n",
    "        if self.ren == \"人机\" and self.renwu == \"典韦\":\n",
    "            print(\"哈哈哈\")\n",
    "        else:\n",
    "            print(\"hahha\")\n",
    "W = Wangzhe(\"人机\")\n",
    "W.renji()"
   ]
  },
  {
   "cell_type": "code",
   "execution_count": null,
   "metadata": {},
   "outputs": [],
   "source": []
  }
 ],
 "metadata": {
  "kernelspec": {
   "display_name": "Python 3",
   "language": "python",
   "name": "python3"
  },
  "language_info": {
   "codemirror_mode": {
    "name": "ipython",
    "version": 3
   },
   "file_extension": ".py",
   "mimetype": "text/x-python",
   "name": "python",
   "nbconvert_exporter": "python",
   "pygments_lexer": "ipython3",
   "version": "3.6.8"
  }
 },
 "nbformat": 4,
 "nbformat_minor": 2
}
